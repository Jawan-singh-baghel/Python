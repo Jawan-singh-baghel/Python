{
 "cells": [
  {
   "cell_type": "code",
   "execution_count": null,
   "id": "8dd32545-6322-4ce9-bafb-adda6abdafbc",
   "metadata": {},
   "outputs": [],
   "source": [
    "# Assignment No.5\n",
    "# Files, exceptional handling, logging and memory management."
   ]
  },
  {
   "cell_type": "code",
   "execution_count": null,
   "id": "257598e9-c15b-4bfb-aecc-9b83847889bc",
   "metadata": {},
   "outputs": [],
   "source": [
    "# Theory Questions."
   ]
  },
  {
   "cell_type": "code",
   "execution_count": null,
   "id": "e400d9d9-8f64-4452-8797-7b92fe6bf877",
   "metadata": {},
   "outputs": [],
   "source": [
    "# 1. What is the difference between interpreted and compiled languages?\n",
    "\n",
    "# 1. Compiled Languages\n",
    "\n",
    "# Definition: A compiled language uses a compiler to translate the entire program into machine code before execution.\n",
    "# Execution: The program runs as a separate executable file.\n",
    "# Speed: Faster at runtime because it’s already translated.\n",
    "# Development: Slower to develop and test due to the compilation step.\n",
    "# Examples: C, C++, Rust, Go\n",
    "\n",
    "# Interpreted Languages\n",
    "\n",
    "# Definition: An interpreted language uses an interpreter to translate and run the code line by line at runtime.\n",
    "# Execution: Runs directly from the source code—no separate executable.\n",
    "# Speed: Slower at runtime due to on-the-fly translation.\n",
    "# Development: Faster to test and modify—no need to compile.\n",
    "# Examples: Python, JavaScript, Ruby, PHP"
   ]
  },
  {
   "cell_type": "code",
   "execution_count": null,
   "id": "920d7e76-1e4b-4f7e-b6d6-a7260a1d60aa",
   "metadata": {},
   "outputs": [],
   "source": [
    "# 2. What is exception handling in Python?\n",
    "\n",
    "# 2. Exception handling lets you catch and respond to errors using special code blocks, keeping your program running smoothly even \n",
    "# when something goes wrong."
   ]
  },
  {
   "cell_type": "code",
   "execution_count": null,
   "id": "f03f3734-1885-4895-9641-6595193c8801",
   "metadata": {},
   "outputs": [],
   "source": [
    "# 3. What is the purpose of the finally block in exception handling?\n",
    "\n",
    "# 3. Definition:\n",
    "# The finally block is part of Python’s exception handling structure (try-except-finally). It is used to define a section of code that will always run,\n",
    "# regardless of whether an exception was raised or not.\n",
    "\n",
    "# Ensures Cleanup:\n",
    "# It is commonly used to release resources such as closing files, disconnecting from a database, or releasing memory. \n",
    "# This is important to avoid resource leaks or leaving a program in an unstable state.\n",
    "\n",
    "# Always Executes:\n",
    "# Whether the try block runs successfully, an exception is caught in except, or an exception is not handled at all, \n",
    "# the finally block will still execute. Even if the program uses return or break, the code in finally will run before the function exits.\n",
    "\n",
    "# Works with or without except:\n",
    "# You can use finally even without an except block. For example, you might not want to catch errors, but still want to clean up afterward.\n",
    "\n",
    "# Improves Program Stability:\n",
    "# Using finally helps make your code more reliable and predictable. It ensures that important steps are not skipped due to unexpected errors."
   ]
  },
  {
   "cell_type": "code",
   "execution_count": null,
   "id": "a96935f7-561f-4efb-b1c9-98e870824d1c",
   "metadata": {},
   "outputs": [],
   "source": [
    "# 4. What is logging in Python?\n",
    "\n",
    "# 4. Logging in Python is a way to track events that happen while your program runs. It records messages about your program’s execution, \n",
    "# which can help with debugging, monitoring, and troubleshooting. Instead of using print() statements, \n",
    "# Python’s built-in logging module provides a more powerful, flexible, and professional way to write log messages.\n",
    "\n",
    "# Purpose of Logging:\n",
    "# Record important events (e.g., errors, warnings, information).\n",
    "# Debug and understand program flow or failures.\n",
    "# Save logs to files or send them to external systems.\n",
    "# Allow different levels of severity for log messages."
   ]
  },
  {
   "cell_type": "code",
   "execution_count": null,
   "id": "6d53364b-0c5e-484c-924d-8d69ee060486",
   "metadata": {},
   "outputs": [],
   "source": [
    "# 5. What is the significance of the __del__ method in Python?\n",
    "\n",
    "# 5. The __del__ method in Python is a special method called a destructor. \n",
    "# It is automatically called when an object is about to be destroyed—usually when there are no more references to it.\n",
    "\n",
    "# Significance of __del__:\n",
    "\n",
    "# Resource Cleanup:\n",
    "# It allows you to define cleanup actions before an object is deleted, such as closing files, releasing network connections, or freeing memory.\n",
    "\n",
    "# Automatic Execution:\n",
    "# Python automatically calls __del__ when the object is garbage collected (i.e., no longer needed).\n",
    "\n",
    "# Acts Like a Destructor:\n",
    "# Similar to destructors in other programming languages like C++, but less commonly used in Python due to automatic garbage collection"
   ]
  },
  {
   "cell_type": "code",
   "execution_count": 1,
   "id": "a9741f99-ed2c-40c8-829e-b6018d78efc3",
   "metadata": {},
   "outputs": [],
   "source": [
    "# 6. What is the difference between import and from ... import in Python?\n",
    "\n",
    "# 6. In Python, both import and from ... import are used to bring external modules or functions into your code, but they work differently:\n",
    "\n",
    "# The import statement loads the entire module, and you access its contents using the module name. \n",
    "# For example, using import math, you would call math.sqrt(16) to use the sqrt function.\n",
    "\n",
    "# The from ... import statement imports specific parts of a module directly into your code’s namespace. \n",
    "# For example, from math import sqrt allows you to use sqrt(16) without writing the module name.\n",
    "\n",
    "# import keeps your namespace clean and organized, since all functions are accessed through the module name. This helps avoid name conflicts.\n",
    "\n",
    "# from ... import gives you shorter and more convenient syntax, especially when you use the same function or class frequently, \n",
    "# but it can clutter the namespace and cause conflicts if different modules have functions with the same name."
   ]
  },
  {
   "cell_type": "code",
   "execution_count": null,
   "id": "e88f2195-29cf-4fdc-81ff-56a4b2d6506a",
   "metadata": {},
   "outputs": [],
   "source": [
    "# 7. How can you handle multiple exceptions in Python?\n",
    "\n",
    "# 7. Multiple except Blocks\n",
    "# Definition: Use separate except blocks to handle different types of exceptions individually.\n",
    "# Purpose: Allows specific responses for each kind of error.\n",
    "# Benefit: Makes the program more precise and easier to debug.\n",
    "    \n",
    "# Single except Block with a Tuple\n",
    "# Definition: A single except block that catches multiple exceptions by grouping them in a tuple.\n",
    "# Purpose: Handles different exceptions with the same response.\n",
    "# Benefit: Reduces repetition in your code.\n",
    "\n",
    "# Generic except Exception Block\n",
    "# Definition: A general except block that catches all exceptions derived from the base Exception class.\n",
    "# Purpose: Acts as a fallback to catch unexpected or uncategorized errors.\n",
    "# Benefit: Prevents the program from crashing due to unknown errors.\n",
    "# Caution: Should be used carefully to avoid hiding bugs."
   ]
  },
  {
   "cell_type": "code",
   "execution_count": null,
   "id": "2cfd631f-e85f-499a-ba87-19547fecd1b5",
   "metadata": {},
   "outputs": [],
   "source": [
    "# 8. What is the purpose of the with statement when handling files in Python?\n",
    "\n",
    "# 8. Purpose of the with Statement When Handling Files in Python\n",
    "# The with statement in Python is used to manage resources like file handling in a clean and safe way. \n",
    "# When working with files, it ensures that the file is automatically closed after its block of code is executed, even if an error occurs.\n",
    "\n",
    "# Definition:\n",
    "# The with statement is used to wrap the execution of a block of code with methods defined by a context manager (like file objects).\n",
    "\n",
    "# Automatic Resource Management:\n",
    "# It automatically opens and closes the file, so you don't need to call file.close() manually.\n",
    "\n",
    "# Improves Code Safety:\n",
    "# Ensures that the file is properly closed even if an exception occurs, which prevents resource leaks.\n",
    "\n",
    "# Simplifies Syntax:\n",
    "# Makes the code cleaner and more readable, especially when compared to manual open() and close() handling."
   ]
  },
  {
   "cell_type": "code",
   "execution_count": null,
   "id": "2d5c5eac-70e3-4f7d-b2d7-0d56184d85d1",
   "metadata": {},
   "outputs": [],
   "source": [
    "# 9. What is the difference between multithreading and multiprocessing?\n",
    "\n",
    "# 9. Multithreading and multiprocessing are both ways to achieve concurrency in programs, but they work differently:\n",
    "\n",
    "# Multithreading\n",
    "# Definition: Runs multiple threads (smaller units of a process) within the same process sharing the same memory space.\n",
    "# Use Case: Best for tasks that are I/O-bound (e.g., reading files, network operations).\n",
    "# Memory: Threads share the same memory; easy communication but risks of data conflicts.\n",
    "# Parallelism: Limited by Python’s Global Interpreter Lock (GIL), so threads don’t run Python bytecode truly in parallel in CPython.\n",
    "# Overhead: Lower overhead since threads are lightweight.\n",
    "\n",
    "# Multiprocessing\n",
    "# Definition: Runs multiple processes, each with its own memory space and Python interpreter.\n",
    "# Use Case: Best for CPU-bound tasks (e.g., heavy computations).\n",
    "# Memory: Processes do not share memory; communication requires special methods (pipes, queues).\n",
    "# Parallelism: Can achieve true parallelism by running on multiple CPU cores.\n",
    "# Overhead: Higher overhead due to process creation and memory usage."
   ]
  },
  {
   "cell_type": "code",
   "execution_count": null,
   "id": "1241bc1d-96b3-4849-8200-020862a8a209",
   "metadata": {},
   "outputs": [],
   "source": [
    "# 10. What are the advantages of using logging in a program?\n",
    "\n",
    "# 10. Advantages of Using Logging in a Program\n",
    "\n",
    "# Helps Debugging\n",
    "# Logging records detailed information about program execution, making it easier to find and fix bugs.\n",
    "\n",
    "# Tracks Program Flow\n",
    "# It shows what parts of the code ran and in what order, helping understand how the program behaves.\n",
    "\n",
    "# Records Errors and Exceptions\n",
    "# Logs errors with stack traces, helping diagnose problems without crashing the program.\n",
    "\n",
    "# Provides Different Severity Levels\n",
    "# Allows categorizing messages (e.g., DEBUG, INFO, WARNING, ERROR), so you can focus on important issues.\n",
    "\n",
    "# Persistent Record\n",
    "# Logs can be saved to files or external systems for later analysis or auditing.\n",
    "\n",
    "# Better than Print Statements\n",
    "# More flexible and configurable than simple print(), allowing you to enable or disable messages easily without changing code.\n",
    "\n",
    "# Supports Remote Monitoring\n",
    "# Logs can be sent to remote servers or monitoring tools for real-time analysis."
   ]
  },
  {
   "cell_type": "code",
   "execution_count": null,
   "id": "6cc7fbd2-4674-4f60-8e38-fef22e7e1b09",
   "metadata": {},
   "outputs": [],
   "source": [
    "# 11. What is memory management in Python?\n",
    "\n",
    "# 11. Memory management in Python is the process of allocating, using, and freeing memory during the execution of a program. \n",
    "# Python handles this automatically behind the scenes so that developers don’t have to manually manage memory like in some other languages.\n",
    "\n",
    "# Automatic Allocation\n",
    "# When you create objects (like variables, lists, etc.), Python automatically allocates memory to store them.\n",
    "\n",
    "# Reference Counting\n",
    "# Python keeps track of how many references point to each object. When no references remain, the memory can be freed.\n",
    "\n",
    "# Garbage Collection\n",
    "# Python uses a garbage collector to detect and clean up objects that are no longer reachable, especially in cases of circular references.\n",
    "\n",
    "# Memory Pools and Management\n",
    "# Python uses specialized memory allocators and pools (like the pymalloc allocator) to manage small objects efficiently.\n",
    "\n",
    "# Developer Simplicity\n",
    "# Memory management is mostly invisible to the programmer, which simplifies coding and reduces memory errors."
   ]
  },
  {
   "cell_type": "code",
   "execution_count": null,
   "id": "515d2ccd-99fc-46d6-a6a5-14eea8fc99e7",
   "metadata": {},
   "outputs": [],
   "source": [
    "# 12. What are the basic steps involved in exception handling in Python?\n",
    "\n",
    "# 12. try Block\n",
    "# Definition: The try block contains the code that might raise an exception.\n",
    "# Purpose: To attempt execution of code that could cause an error, such as dividing by zero or converting a string to an integer.\n",
    "# Details:\n",
    "# If no error occurs, the code inside the try block runs normally.\n",
    "# If an error occurs, the rest of the try block is skipped, and Python looks for a matching except block.\n",
    "\n",
    "# except Block\n",
    "# Definition: The except block contains code that runs if an exception occurs in the try block.\n",
    "# Purpose: To catch specific exceptions and handle them in a user-friendly way instead of crashing the program.\n",
    "# Details:\n",
    "# You can have multiple except blocks to handle different types of exceptions.\n",
    "# You can also use a tuple or a general Exception to catch multiple errors at once.\n",
    "\n",
    "# else Block\n",
    "# Definition: The else block runs only if no exceptions were raised in the try block.\n",
    "# Purpose: To execute code only when everything in try succeeds—useful for separating normal logic from error handling.\n",
    "# Details:\n",
    "# Skipped if any exception occurs.\n",
    "\n",
    "# finally Block\n",
    "# Definition: The finally block runs no matter what, whether an exception was raised or not.\n",
    "# Purpose: To perform cleanup tasks, such as closing files, releasing memory, or disconnecting from a database.\n",
    "# Details:\n",
    "# Runs even if there is a return, break, or unhandled exception.\n",
    "# Ensures important code is always executed."
   ]
  },
  {
   "cell_type": "code",
   "execution_count": null,
   "id": "6182fd16-477c-47bf-b469-0a37b78ba459",
   "metadata": {},
   "outputs": [],
   "source": [
    "# 13. Why is memory management important in Python?\n",
    "\n",
    "# 13. Memory management is a critical part of Python programming because it directly affects the performance, \n",
    "# stability, and reliability of applications. \n",
    "\n",
    "# Here are the key reasons why it's important:\n",
    "\n",
    "# Efficient Use of System Resources\n",
    "# Definition: Memory management ensures that the program uses just enough memory for its operations.\n",
    "# Importance: It prevents programs from wasting memory, allowing the system to run smoothly and support more processes at once.\n",
    "\n",
    "# Prevents Memory Leaks\n",
    "# Definition: A memory leak happens when memory that’s no longer needed is not released.\n",
    "# Importance: Good memory management automatically clears unused objects, preventing your program from consuming more and more memory over time.\n",
    "\n",
    "# Improves Program Performance\n",
    "# Definition: By reusing and freeing up memory efficiently, programs can run faster and more smoothly.\n",
    "# Importance: Well-managed memory reduces slowdowns caused by unnecessary memory usage or garbage buildup.\n",
    "\n",
    "# Supports Large and Complex Applications\n",
    "# Definition: Large applications need to handle thousands of variables, data structures, and objects.\n",
    "# Importance: Proper memory management ensures these applications remain responsive and stable, even under heavy load.\n",
    "\n",
    "# Automatic Handling with Garbage Collection\n",
    "# Definition: Python uses automatic memory management with tools like reference counting and garbage collection.\n",
    "# Importance: This reduces the burden on developers and lowers the chance of errors caused by manual memory control."
   ]
  },
  {
   "cell_type": "code",
   "execution_count": null,
   "id": "d9ac82d0-98db-4d02-98e7-7b4120f72578",
   "metadata": {},
   "outputs": [],
   "source": [
    "# 14. What is the role of try and except in exception handling?\n",
    "\n",
    "# 14. Role of try and except in Exception Handling\n",
    "\n",
    "# The try and except blocks are the core of exception handling in Python. They help manage errors gracefully and prevent the program from crashing.\n",
    "\n",
    "# try Block\n",
    "# Role: Wraps code that might raise an exception.\n",
    "# Purpose: To attempt execution of risky operations (e.g., file access, division, input conversion).\n",
    "# If an exception occurs, Python stops executing the try block and jumps to the matching except block.\n",
    "\n",
    "# except Block\n",
    "# Role: Handles the exception that occurred in the try block.\n",
    "# Purpose: To catch specific errors and provide a safe response (e.g., showing a message instead of crashing).\n",
    "# You can use multiple except blocks to handle different types of errors."
   ]
  },
  {
   "cell_type": "code",
   "execution_count": null,
   "id": "bcc34411-4f04-4b37-88e8-3f311fe79e85",
   "metadata": {},
   "outputs": [],
   "source": [
    "# 15. How does Python's garbage collection system work?\n",
    "\n",
    "# 15. Python's garbage collection system automatically manages memory by identifying and removing objects that are no longer in use. \n",
    "# This helps prevent memory leaks and keeps the program efficient.\n",
    "\n",
    "# Reference Counting\n",
    "# Definition: Every object in Python keeps track of how many references point to it.\n",
    "# How it works:\n",
    "# When an object is created, its reference count is set to 1.\n",
    "# If another variable references it, the count increases.\n",
    "# When a reference is deleted or goes out of scope, the count decreases.\n",
    "# If the count drops to zero, the object is immediately deleted.\n",
    "\n",
    "# Garbage Collector for Circular References\n",
    "# Problem: Reference counting fails with circular references (e.g., two objects referencing each other).\n",
    "# Solution: Python has a built-in garbage collector (in the gc module) that detects and cleans up these cycles.\n",
    "\n",
    "# Generational Garbage Collection\n",
    "# Definition: Python groups objects by their \"age\" (generations) to manage them efficiently.\n",
    "# How it helps:\n",
    "# Most objects are short-lived.\n",
    "# Python prioritizes checking younger objects more frequently.\n",
    "# This improves performance by reducing unnecessary scans of long-lived objects."
   ]
  },
  {
   "cell_type": "code",
   "execution_count": null,
   "id": "34329fee-80bf-489f-8a0f-e54d79a2c201",
   "metadata": {},
   "outputs": [],
   "source": [
    "# 16. What is the purpose of the else block in exception handling?\n",
    "\n",
    "# 16. Purpose of the else Block in Exception Handling\n",
    "\n",
    "# The else block in Python’s exception handling is used to run code only if no exceptions occur in the try block.\n",
    "\n",
    "# Definition:\n",
    "# The else block is part of the try-except-else structure. It is executed only when the code in the try block runs without raising an exception.\n",
    "\n",
    "# Purpose:\n",
    "# To separate error-free code from error-handling code.\n",
    "# Keeps the try block clean by moving successful operations to the else block.\n",
    "# Helps improve readability and structure of your code."
   ]
  },
  {
   "cell_type": "code",
   "execution_count": null,
   "id": "fc2b6baf-cdf3-48d6-a0e9-140e699fddf4",
   "metadata": {},
   "outputs": [],
   "source": [
    "# 17. What are the common logging levels in Python?\n",
    "\n",
    "# 17. Common Logging Levels in Python\n",
    "\n",
    "# Python’s logging module provides built-in levels to classify the importance or severity of log messages. \n",
    "# These levels help control what kind of information gets recorded or displayed.\n",
    "\n",
    "# DEBUG\n",
    "# Purpose: Detailed information, used for diagnosing problems.\n",
    "# Use Case: For developers during development and debugging.\n",
    "# Example: Variable values, internal states.\n",
    "\n",
    "# INFO\n",
    "# Purpose: Confirms that things are working as expected.\n",
    "# Use Case: General events like successful program start or user login.\n",
    "\n",
    "# WARNING\n",
    "# Purpose: Indicates something unexpected happened or might cause a problem.\n",
    "# Use Case: Non-critical issues like missing files or deprecated features.\n",
    "\n",
    "# ERROR\n",
    "# Purpose: A serious problem that prevented part of the program from working.\n",
    "# Use Case: Exceptions that are caught but affect program flow.\n",
    "\n",
    "# CRITICAL\n",
    "# Purpose: A very serious error, possibly leading to program crash.\n",
    "# Use Case: System failures, data loss, or critical application faults."
   ]
  },
  {
   "cell_type": "code",
   "execution_count": null,
   "id": "00059f60-ea76-4522-b170-cead82aa3ed8",
   "metadata": {},
   "outputs": [],
   "source": [
    "# 18. What is the difference between os.fork() and multiprocessing in Python?\n",
    "\n",
    "# 18. Difference Between os.fork() and multiprocessing in Python\n",
    "# Both os.fork() and the multiprocessing module are used to create new processes in Python, but they differ in usage, portability, and abstraction.\n",
    "\n",
    "# os.fork()\n",
    "# Definition: A low-level system call that creates a child process by duplicating the current process.\n",
    "# Platform: Unix/Linux only (not available on Windows).\n",
    "# Control: Gives direct control over the child process (manual handling of process behavior).\n",
    "# Risk: Easy to misuse, can lead to complex and error-prone code if not handled carefully.\n",
    "\n",
    "# multiprocessing Module\n",
    "# Definition: A high-level module in Python that provides an interface to create and manage separate processes.\n",
    "# Platform: Cross-platform (works on Windows, Linux, macOS).\n",
    "# Control: Simplifies process creation using classes like Process, Queue, Pipe, etc.\n",
    "# Benefit: Safer and easier to use, supports data sharing, inter-process communication, and pools of workers."
   ]
  },
  {
   "cell_type": "code",
   "execution_count": null,
   "id": "cbd44bbf-4d3f-4100-a39b-74e259397fd8",
   "metadata": {},
   "outputs": [],
   "source": [
    "# 19. What is the importance of closing a file in Python?\n",
    "\n",
    "# 19. Importance of Closing a File in Python\n",
    "# Closing a file in Python is an important step in file handling to ensure that system resources are properly managed and data is safely stored.\n",
    "\n",
    "# Frees System Resources\n",
    "# Each open file uses system memory and file descriptors.\n",
    "# Closing the file releases these resources, preventing resource leaks.\n",
    "\n",
    "# Saves Data Properly\n",
    "# If you’ve written to a file, closing it ensures that all data is flushed from the buffer to disk.\n",
    "# Without closing, some data may not be saved.\n",
    "\n",
    "# Avoids File Corruption\n",
    "# An open file left unclosed can become corrupted, especially during writing operations.\n",
    "\n",
    "# Allows Other Programs to Access the File\n",
    "# Some systems lock files when they are open. Closing them allows other programs or processes to read or write the file.\n",
    "\n",
    "# Good Programming Practice\n",
    "# It shows that the file operation is complete and improves code reliability and readability."
   ]
  },
  {
   "cell_type": "code",
   "execution_count": null,
   "id": "40defc2a-1a08-41f5-8faf-b4770b48a6c3",
   "metadata": {},
   "outputs": [],
   "source": [
    "# 20. What is the difference between file.read() and file.readline() in Python?\n",
    "\n",
    "# 20. Difference Between file.read() and file.readline() in Python\n",
    "# Both file.read() and file.readline() are used to read data from a file, but they differ in how much content they read at a time.\n",
    "\n",
    "# file.read()\n",
    "# Definition: Reads the entire content of the file (or a specified number of characters).\n",
    "# Use Case: When you want to read the whole file at once.\n",
    "# Returns: A single string containing all data.\n",
    "\n",
    "# file.readline()\n",
    "# Definition: Reads one line at a time from the file.\n",
    "# Use Case: When you want to process the file line by line (e.g., reading logs or large files).\n",
    "# Returns: A string containing the next line, including the newline character (\\n)."
   ]
  },
  {
   "cell_type": "code",
   "execution_count": null,
   "id": "432669e6-2d8b-4a18-9694-21bca46ed4f7",
   "metadata": {},
   "outputs": [],
   "source": [
    "# 21. What is the logging module in Python used for?\n",
    "\n",
    "# 21. The logging module in Python is used to record messages that describe events occurring during a program’s execution. \n",
    "# It provides a flexible way to track the flow, detect problems, and debug applications without using print() statements.\n",
    "\n",
    "# Main Purposes of the logging Module:\n",
    "# Debugging: Helps identify and fix errors by logging variable values, function calls, and system behavior.\n",
    "# Monitoring: Keeps a record of what the program does over time — useful for checking performance and behavior in production.\n",
    "# Error Tracking: Logs warnings, errors, and critical issues with time and context, which helps diagnose problems after they occur.\n",
    "# Persistent Records: Allows you to write logs to files, console, or even remote servers, creating permanent logs for later review.\n",
    "# Controlled Output Levels: Supports log levels like DEBUG, INFO, WARNING, ERROR, and CRITICAL, so you can control how much detail is shown or recorded."
   ]
  },
  {
   "cell_type": "code",
   "execution_count": 15,
   "id": "91b38cea-81fb-411d-94d7-723ea9bc1487",
   "metadata": {},
   "outputs": [],
   "source": [
    "# 22. What is the os module in Python used for in file handling?\n",
    "\n",
    "# 22. The os module in Python provides a way to interact with the operating system, especially for file and directory handling. \n",
    "# It allows you to perform tasks like creating, deleting, navigating, and modifying files and folders programmatically.\n",
    "\n",
    "# Key Uses of os Module in File Handling:\n",
    "\n",
    "# Check If a File or Folder Exists\n",
    "os.path.exists(\"file.txt\")\n",
    "\n",
    "# Create Directories\n",
    "os.mkdir(\"new_folder\")\n",
    "\n",
    "# Remove Files or Folders\n",
    "os.remove(\"file.txt\")     # Delete a file  \n",
    "os.rmdir(\"folder_name\")   # Delete an empty folder\n",
    "\n",
    "# Rename or Move Files\n",
    "os.rename(\"old.txt\", \"new.txt\")\n",
    "\n",
    "# Get or Change Current Working Directory\n",
    "os.getcwd()                  # Get current directory  \n",
    "os.chdir(\"path/to/folder\")   # Change directory\n",
    "\n",
    "# List Files and Directories\n",
    "os.listdir(\"folder_name\")\n",
    "\n",
    "# Join Paths Safely\n",
    "os.path.join(\"folder\", \"file.txt\")"
   ]
  },
  {
   "cell_type": "code",
   "execution_count": null,
   "id": "eaa33226-da1e-481c-b534-1726032773d8",
   "metadata": {},
   "outputs": [],
   "source": [
    "# 23. What are the challenges associated with memory management in Python?\n",
    "\n",
    "# 23. Challenges Associated with Memory Management in Python\n",
    "# While Python provides automatic memory management, there are still several challenges developers might face:\n",
    "\n",
    "# Memory Leaks\n",
    "# What happens: Objects that are no longer needed are not released because they are still referenced (often unintentionally).\n",
    "# Example: Circular references or global variables that aren’t cleared.\n",
    "# Impact: Increased memory usage over time, especially in long-running programs.\n",
    "\n",
    "# Circular References\n",
    "# What happens: Two or more objects reference each other, preventing their memory from being released by simple reference counting.\n",
    "# Solution: Python's garbage collector can detect these, but not always immediately or efficiently.\n",
    "\n",
    "# High Memory Usage with Large Data\n",
    "# What happens: Handling large datasets (e.g., big lists, images, or files) can consume a lot of memory.\n",
    "# Impact: Slows down the application or causes it to crash if memory is exhausted.\n",
    "\n",
    "# Memory Fragmentation\n",
    "# What happens: Frequent allocation and deallocation of small memory blocks can lead to fragmentation.\n",
    "# Impact: Reduces the efficient use of memory over time.\n",
    "\n",
    "# Limited Control Over Memory\n",
    "# What happens: Python hides many low-level memory operations from the developer.\n",
    "# Impact: Makes it harder to optimize memory use in performance-critical applications.\n",
    "\n",
    "# Garbage Collection Overhead\n",
    "# What happens: The garbage collector runs automatically but can interrupt execution.\n",
    "# Impact: May cause performance issues if not managed carefully in time-sensitive applications."
   ]
  },
  {
   "cell_type": "code",
   "execution_count": 12,
   "id": "9c0c6677-2068-423a-8137-29f468a54f2f",
   "metadata": {},
   "outputs": [],
   "source": [
    "# 24.  How do you raise an exception manually in Python?\n",
    "\n",
    "# 24. Raising an Exception Manually in Python \n",
    "\n",
    "# Use of raise Keyword\n",
    "# Python uses the raise statement to manually trigger an exception during program execution.\n",
    "\n",
    "# Purpose\n",
    "# It helps to signal errors or unusual conditions in the code, even when Python doesn’t automatically raise one.\n",
    "\n",
    "# Types of Exceptions\n",
    "# You can raise built-in exceptions like ValueError, TypeError, etc., or define and raise custom exceptions.\n",
    "\n",
    "# Error Message\n",
    "# An optional error message can be included to explain the reason for raising the exception.\n",
    "\n",
    "# Improves Code Control\n",
    "# Manual exceptions allow the programmer to enforce rules, validate inputs, and handle specific errors clearly.\n",
    "\n",
    "# Stops Program Flow\n",
    "# When raised, the exception immediately stops normal program execution unless it is handled with try and except."
   ]
  },
  {
   "cell_type": "code",
   "execution_count": null,
   "id": "5ae837b0-4c5b-4344-8ff4-87544fa5f001",
   "metadata": {},
   "outputs": [],
   "source": [
    "# 25 Why is it important to use multithreading in certain applications?\n",
    "# Multithreading is important in many applications because it allows a program to run multiple tasks at the same time, \n",
    "# improving efficiency and responsiveness. Here’s why it matters:\n",
    "\n",
    "# Improves Responsiveness\n",
    "# Keeps applications (like GUIs or servers) responsive even while performing background tasks.]\n",
    "# Example: A chat app can receive messages while you’re typing.\n",
    "\n",
    "# Handles I/O-bound Tasks Efficiently\n",
    "# Ideal for tasks that wait on external operations (e.g., file reading, web requests).\n",
    "# Threads can do other work while waiting, making better use of time.\n",
    "\n",
    "# Better Resource Utilization\n",
    "# Threads share the same memory space, so they are lightweight and faster to switch between.\n",
    "# Useful in applications where multiple tasks can run without needing full isolation.\n",
    "\n",
    "# Enables Real-Time or Parallel Actions\n",
    "# Tasks like real-time data processing, animations, or simultaneous downloads benefit from multithreading.\n",
    "# Example: Video games use threads for sound, input, and graphics.\n",
    "\n",
    "# Boosts Performance in Some Scenarios\n",
    "# Although Python has a Global Interpreter Lock (GIL) limiting true parallel execution in CPU-bound tasks, \n",
    "# multithreading can still increase throughput in many I/O-bound applications."
   ]
  },
  {
   "cell_type": "code",
   "execution_count": null,
   "id": "1ce127a8-ec82-44fc-9dc3-3dd880c17aa9",
   "metadata": {},
   "outputs": [],
   "source": [
    "# Practical Questions."
   ]
  },
  {
   "cell_type": "code",
   "execution_count": 25,
   "id": "1ac58d01-6f48-43a9-8504-1bb405e4b610",
   "metadata": {},
   "outputs": [],
   "source": [
    "# 1. How can you open a file for writing in Python and write a string to it?\n",
    "# 1.\n",
    "# Open a file named 'example.txt' for writing\n",
    "with open('example.txt', 'w') as file:\n",
    "    # Write a string to the file\n",
    "    file.write('Hello, this is a test string!')"
   ]
  },
  {
   "cell_type": "code",
   "execution_count": 23,
   "id": "c0844998-4efc-4afd-9af5-7c96139043d0",
   "metadata": {},
   "outputs": [
    {
     "name": "stdout",
     "output_type": "stream",
     "text": [
      "Hello, this is a test string!"
     ]
    }
   ],
   "source": [
    "# 2. Write a Python program to read the contents of a file and print each line.\n",
    "# 2.\n",
    "# Program to read a file and print each line\n",
    "\n",
    "def read_and_print_file(filename):\n",
    "    try:\n",
    "        with open(filename, 'r') as file:\n",
    "            for line in file:\n",
    "                print(line, end='')  # 'end' avoids adding extra newlines\n",
    "    except FileNotFoundError:\n",
    "        print(f\"Error: The file '{filename}' was not found.\")\n",
    "    except IOError:\n",
    "        print(f\"Error: Could not read the file '{filename}'.\")\n",
    "\n",
    "# Replace 'example.txt' with the path to your file\n",
    "file_path = 'example.txt'\n",
    "read_and_print_file(file_path)"
   ]
  },
  {
   "cell_type": "code",
   "execution_count": 26,
   "id": "f3eba0b8-7575-4c93-8dfe-f7d4a7677fec",
   "metadata": {},
   "outputs": [
    {
     "name": "stdout",
     "output_type": "stream",
     "text": [
      "Error: The file 'nonexistent_file.txt' was not found.\n"
     ]
    }
   ],
   "source": [
    "# 3. How would you handle a case where the file doesn't exist while trying to open it for reading?\n",
    "\n",
    "# 3.\n",
    "filename = 'nonexistent_file.txt'\n",
    "\n",
    "try:\n",
    "    with open(filename, 'r') as file:\n",
    "        contents = file.read()\n",
    "        print(contents)\n",
    "except FileNotFoundError:\n",
    "    print(f\"Error: The file '{filename}' was not found.\")"
   ]
  },
  {
   "cell_type": "code",
   "execution_count": 27,
   "id": "1fe4b673-5236-40a9-bd1d-723b79fa7644",
   "metadata": {},
   "outputs": [
    {
     "name": "stdout",
     "output_type": "stream",
     "text": [
      "Error: The file 'source.txt' was not found.\n"
     ]
    }
   ],
   "source": [
    "# 4. Write a Python script that reads from one file and writes its content to another file.\n",
    "\n",
    "# 4.\n",
    "def copy_file_contents(source_file, destination_file):\n",
    "    try:\n",
    "        with open(source_file, 'r') as src:\n",
    "            content = src.read()\n",
    "        \n",
    "        with open(destination_file, 'w') as dest:\n",
    "            dest.write(content)\n",
    "        \n",
    "        print(f\"Contents copied from '{source_file}' to '{destination_file}' successfully.\")\n",
    "    \n",
    "    except FileNotFoundError:\n",
    "        print(f\"Error: The file '{source_file}' was not found.\")\n",
    "    except IOError as e:\n",
    "        print(f\"I/O error occurred: {e}\")\n",
    "\n",
    "# Example usage\n",
    "source = 'source.txt'        # Replace with your source file name\n",
    "destination = 'destination.txt'  # Replace with your destination file name\n",
    "copy_file_contents(source, destination)"
   ]
  },
  {
   "cell_type": "code",
   "execution_count": 28,
   "id": "8bda99ea-92d5-4d10-9fb0-24113565764f",
   "metadata": {},
   "outputs": [
    {
     "name": "stdout",
     "output_type": "stream",
     "text": [
      "Result: 5.0\n",
      "Error: Division by zero is not allowed.\n"
     ]
    }
   ],
   "source": [
    "# 5. How would you catch and handle division by zero error in Python?\n",
    "\n",
    "# 5.\n",
    "def divide(a, b):\n",
    "    try:\n",
    "        result = a / b\n",
    "        print(f\"Result: {result}\")\n",
    "    except ZeroDivisionError:\n",
    "        print(\"Error: Division by zero is not allowed.\")\n",
    "\n",
    "# Example usage\n",
    "divide(10, 2)\n",
    "divide(10, 0)"
   ]
  },
  {
   "cell_type": "code",
   "execution_count": 29,
   "id": "e2792e18-5bc9-4f0b-93c1-9aa59c9b5e7b",
   "metadata": {},
   "outputs": [
    {
     "name": "stdout",
     "output_type": "stream",
     "text": [
      "Result: 5.0\n",
      "Error: Division by zero is not allowed.\n"
     ]
    }
   ],
   "source": [
    "# 6. Write a Python program that logs an error message to a log file when a division by zero exception occurs.\n",
    "\n",
    "# 6.\n",
    "import logging\n",
    "\n",
    "# Configure logging\n",
    "logging.basicConfig(filename='error.log', level=logging.ERROR,\n",
    "                    format='%(asctime)s - %(levelname)s - %(message)s')\n",
    "\n",
    "def safe_divide(a, b):\n",
    "    try:\n",
    "        result = a / b\n",
    "        print(f\"Result: {result}\")\n",
    "    except ZeroDivisionError as e:\n",
    "        print(\"Error: Division by zero is not allowed.\")\n",
    "        logging.error(\"Attempted to divide %s by zero. Exception: %s\", a, e)\n",
    "\n",
    "# Example usage\n",
    "safe_divide(10, 2)\n",
    "safe_divide(10, 0)"
   ]
  },
  {
   "cell_type": "code",
   "execution_count": 33,
   "id": "490de464-f5b1-4190-97c9-9bb4148fa07c",
   "metadata": {},
   "outputs": [],
   "source": [
    "# 7. How do you log information at different levels (INFO, ERROR, WARNING) in Python using the logging module?\n",
    "\n",
    "# 7.\n",
    "import logging\n",
    "\n",
    "# Configure logging\n",
    "logging.basicConfig(\n",
    "    filename='app.log',            # Log file name\n",
    "    level=logging.DEBUG,           # Minimum level to capture\n",
    "    format='%(asctime)s - %(levelname)s - %(message)s'\n",
    ")\n",
    "\n",
    "# Log messages at various levels\n",
    "logging.debug(\"This is a debug message\")\n",
    "logging.info(\"This is an info message\")\n",
    "logging.warning(\"This is a warning message\")\n",
    "logging.error(\"This is an error message\")\n",
    "logging.critical(\"This is a critical message\")"
   ]
  },
  {
   "cell_type": "code",
   "execution_count": 36,
   "id": "508d0c91-5006-417a-8791-33d37f619d70",
   "metadata": {},
   "outputs": [
    {
     "name": "stdout",
     "output_type": "stream",
     "text": [
      "Error: The file 'nonexistent_file.txt' was not found.\n"
     ]
    }
   ],
   "source": [
    "# 8. Write a program to handle a file opening error using exception handling.\n",
    "\n",
    "# 8.\n",
    "def open_file(filename):\n",
    "    try:\n",
    "        with open(filename, 'r') as file:\n",
    "            content = file.read()\n",
    "            print(\"File content:\")\n",
    "            print(content)\n",
    "    except FileNotFoundError:\n",
    "        print(f\"Error: The file '{filename}' was not found.\")\n",
    "    except PermissionError:\n",
    "        print(f\"Error: You do not have permission to read '{filename}'.\")\n",
    "    except IOError as e:\n",
    "        print(f\"An I/O error occurred: {e}\")\n",
    "\n",
    "# Example usage\n",
    "file_to_open = 'nonexistent_file.txt'  # Replace with a valid or invalid filename to test\n",
    "open_file(file_to_open)"
   ]
  },
  {
   "cell_type": "code",
   "execution_count": 37,
   "id": "298ee045-7490-46db-80eb-0ceaed6949de",
   "metadata": {},
   "outputs": [
    {
     "name": "stdout",
     "output_type": "stream",
     "text": [
      "['Hello, this is a test string!']\n"
     ]
    }
   ],
   "source": [
    "# 9. How can you read a file line by line and store its content in a list in Python?\n",
    "\n",
    "# 9.\n",
    "def read_file_to_list(filename):\n",
    "    lines = []\n",
    "    try:\n",
    "        with open(filename, 'r') as file:\n",
    "            for line in file:\n",
    "                lines.append(line.rstrip('\\n'))  # Remove newline character\n",
    "        return lines\n",
    "    except FileNotFoundError:\n",
    "        print(f\"Error: The file '{filename}' was not found.\")\n",
    "        return []\n",
    "\n",
    "# Example usage\n",
    "file_content = read_file_to_list('example.txt')\n",
    "print(file_content)"
   ]
  },
  {
   "cell_type": "code",
   "execution_count": 38,
   "id": "9e909130-94a3-49f3-8a86-c1fc562a7abb",
   "metadata": {},
   "outputs": [
    {
     "name": "stdout",
     "output_type": "stream",
     "text": [
      "Data appended successfully.\n"
     ]
    }
   ],
   "source": [
    "# 10. How can you append data to an existing file in Python?\n",
    "\n",
    "# 10.\n",
    "def append_to_file(filename, data):\n",
    "    try:\n",
    "        with open(filename, 'a') as file:\n",
    "            file.write(data + '\\n')  # Adds a newline after the data\n",
    "        print(\"Data appended successfully.\")\n",
    "    except IOError as e:\n",
    "        print(f\"An error occurred while writing to the file: {e}\")\n",
    "\n",
    "# Example usage\n",
    "append_to_file('example.txt', 'This is a new line of text.')"
   ]
  },
  {
   "cell_type": "code",
   "execution_count": 39,
   "id": "5588d2c0-f177-4783-9380-e07eb48ea75b",
   "metadata": {},
   "outputs": [
    {
     "name": "stdout",
     "output_type": "stream",
     "text": [
      "Value for 'age': 30\n",
      "Error: The key 'country' does not exist in the dictionary.\n"
     ]
    }
   ],
   "source": [
    "# 11. Write a Python program that uses a try-except block to handle an error when attempting to access a dictionary key that doesn't exist.\n",
    "\n",
    "# 11.\n",
    "def get_dict_value(dictionary, key):\n",
    "    try:\n",
    "        value = dictionary[key]\n",
    "        print(f\"Value for '{key}': {value}\")\n",
    "    except KeyError:\n",
    "        print(f\"Error: The key '{key}' does not exist in the dictionary.\")\n",
    "\n",
    "# Example usage\n",
    "my_dict = {\n",
    "    'name': 'Alice',\n",
    "    'age': 30,\n",
    "    'city': 'New York'\n",
    "}\n",
    "\n",
    "get_dict_value(my_dict, 'age')   \n",
    "get_dict_value(my_dict, 'country')"
   ]
  },
  {
   "cell_type": "code",
   "execution_count": 40,
   "id": "cebbb069-e887-4bdf-809e-25513e63ff79",
   "metadata": {},
   "outputs": [
    {
     "name": "stdout",
     "output_type": "stream",
     "text": [
      "Result: 4.0\n",
      "Error: Index is out of range.\n",
      "Error: Division by zero is not allowed.\n",
      "Error: Unsupported data type encountered.\n"
     ]
    }
   ],
   "source": [
    "# 12. Write a program that demonstrates using multiple except blocks to handle different types of exceptions.\n",
    "\n",
    "# 12.\n",
    "def divide_and_access_element(numbers, index, divisor):\n",
    "    try:\n",
    "        # Access element at given index\n",
    "        value = numbers[index]\n",
    "        # Divide the element by the divisor\n",
    "        result = value / divisor\n",
    "        print(f\"Result: {result}\")\n",
    "    except IndexError:\n",
    "        print(\"Error: Index is out of range.\")\n",
    "    except ZeroDivisionError:\n",
    "        print(\"Error: Division by zero is not allowed.\")\n",
    "    except TypeError:\n",
    "        print(\"Error: Unsupported data type encountered.\")\n",
    "    except Exception as e:\n",
    "        print(f\"An unexpected error occurred: {e}\")\n",
    "\n",
    "# Example usage\n",
    "numbers = [10, 20, 30]\n",
    "\n",
    "divide_and_access_element(numbers, 1, 5)   # Valid input\n",
    "divide_and_access_element(numbers, 5, 2)   # IndexError\n",
    "divide_and_access_element(numbers, 0, 0)   # ZeroDivisionError\n",
    "divide_and_access_element(\"not a list\", 0, 1)  # TypeError"
   ]
  },
  {
   "cell_type": "code",
   "execution_count": 41,
   "id": "7208b5d0-16c4-42ed-acc4-333626375d5e",
   "metadata": {},
   "outputs": [
    {
     "name": "stdout",
     "output_type": "stream",
     "text": [
      "Hello, this is a test string!This is a new line of text.\n",
      "\n",
      "Hello, this is a test string!This is a new line of text.\n",
      "\n"
     ]
    }
   ],
   "source": [
    "# 13. How would you check if a file exists before attempting to read it in Python?\n",
    "\n",
    "# 13.Method 1: Using os.path.exists()\n",
    "import os\n",
    "\n",
    "filename = 'example.txt'\n",
    "\n",
    "if os.path.exists(filename):\n",
    "    with open(filename, 'r') as file:\n",
    "        content = file.read()\n",
    "        print(content)\n",
    "else:\n",
    "    print(f\"Error: The file '{filename}' does not exist.\")\n",
    "    \n",
    "# Method 2: Using pathlib.Path.exists()\n",
    "from pathlib import Path\n",
    "\n",
    "file_path = Path('example.txt')\n",
    "\n",
    "if file_path.exists():\n",
    "    with file_path.open('r') as file:\n",
    "        content = file.read()\n",
    "        print(content)\n",
    "else:\n",
    "    print(f\"Error: The file '{file_path}' does not exist.\")"
   ]
  },
  {
   "cell_type": "code",
   "execution_count": 46,
   "id": "5c3e2aec-e8f1-4d18-b792-de028658605a",
   "metadata": {},
   "outputs": [],
   "source": [
    "# 14. Write a program that uses the logging module to log both informational and error messages.\n",
    "\n",
    "# 14.\n",
    "import logging\n",
    "\n",
    "# Configure logging\n",
    "logging.basicConfig(\n",
    "    filename='app.log',              # Log file name\n",
    "    level=logging.DEBUG,             # Capture all levels from DEBUG and up\n",
    "    format='%(asctime)s - %(levelname)s - %(message)s'\n",
    ")\n",
    "\n",
    "def divide(a, b):\n",
    "    logging.info(f\"Attempting to divide {a} by {b}\")\n",
    "    try:\n",
    "        result = a / b\n",
    "        logging.info(f\"Division successful: {a} / {b} = {result}\")\n",
    "        return result\n",
    "    except ZeroDivisionError:\n",
    "        logging.error(f\"Error: Division by zero attempted with a = {a}, b = {b}\")\n",
    "        return None\n",
    "\n",
    "# Example usage\n",
    "divide(10, 2)     # Logs INFO\n",
    "divide(5, 0)      # Logs ERROR"
   ]
  },
  {
   "cell_type": "code",
   "execution_count": 47,
   "id": "19c7cec1-01f8-4e3c-a519-8d77a2e65f2f",
   "metadata": {},
   "outputs": [
    {
     "name": "stdout",
     "output_type": "stream",
     "text": [
      "Contents of 'example.txt':\n",
      "\n",
      "Hello, this is a test string!This is a new line of text.\n",
      "\n"
     ]
    }
   ],
   "source": [
    "# 15. Write a Python program that prints the content of a file and handles the case when the file is empty.\n",
    "\n",
    "# 15.\n",
    "def print_file_content(filename):\n",
    "    try:\n",
    "        with open(filename, 'r') as file:\n",
    "            content = file.read()\n",
    "            if content.strip() == '':\n",
    "                print(f\"The file '{filename}' is empty.\")\n",
    "            else:\n",
    "                print(f\"Contents of '{filename}':\\n\")\n",
    "                print(content)\n",
    "    except FileNotFoundError:\n",
    "        print(f\"Error: The file '{filename}' was not found.\")\n",
    "    except IOError as e:\n",
    "        print(f\"An I/O error occurred: {e}\")\n",
    "\n",
    "# Example usage\n",
    "file_to_read = 'example.txt'  # Replace with the path to your file\n",
    "print_file_content(file_to_read)"
   ]
  },
  {
   "cell_type": "code",
   "execution_count": 53,
   "id": "f3562d33-4795-43df-b0de-2d0abf740073",
   "metadata": {},
   "outputs": [
    {
     "name": "stdout",
     "output_type": "stream",
     "text": [
      "ERROR: Could not find file C:\\Users\\singhj4\\AppData\\Local\\Temp\\ipykernel_18604\\875057090.py\n",
      "Total: 333332833333500000\n"
     ]
    }
   ],
   "source": [
    "# 16. Demonstrate how to use memory profiling to check the memory usage of a small program.\n",
    "\n",
    "#16.\n",
    "\n",
    "from memory_profiler import profile\n",
    "\n",
    "@profile\n",
    "def create_large_list():\n",
    "    data = [x ** 2 for x in range(1000000)]  # List of 1 million squares\n",
    "    return sum(data)\n",
    "\n",
    "if __name__ == '__main__':\n",
    "    total = create_large_list()\n",
    "    print(f\"Total: {total}\")"
   ]
  },
  {
   "cell_type": "code",
   "execution_count": 54,
   "id": "ab678c19-dace-4810-b890-7c314dd00d32",
   "metadata": {},
   "outputs": [
    {
     "name": "stdout",
     "output_type": "stream",
     "text": [
      "Successfully wrote 10 numbers to 'numbers.txt'.\n"
     ]
    }
   ],
   "source": [
    "# 17. Write a Python program to create and write a list of numbers to a file, one number per line.\n",
    "\n",
    "# 17.\n",
    "def write_numbers_to_file(filename, numbers):\n",
    "    try:\n",
    "        with open(filename, 'w') as file:\n",
    "            for number in numbers:\n",
    "                file.write(f\"{number}\\n\")\n",
    "        print(f\"Successfully wrote {len(numbers)} numbers to '{filename}'.\")\n",
    "    except IOError as e:\n",
    "        print(f\"An I/O error occurred: {e}\")\n",
    "\n",
    "# Example usage\n",
    "numbers = list(range(1, 11))  # Creates a list of numbers from 1 to 10\n",
    "write_numbers_to_file('numbers.txt', numbers)"
   ]
  },
  {
   "cell_type": "code",
   "execution_count": 2,
   "id": "d5cbc3b4-0b4a-4d05-96dc-ffd0e999caac",
   "metadata": {},
   "outputs": [],
   "source": [
    "# 18. How would you implement a basic logging setup that logs to a file with rotation after 1MB?\n",
    "\n",
    "# 18.\n",
    "import logging\n",
    "from logging.handlers import RotatingFileHandler\n",
    "\n",
    "# Set up logging\n",
    "logger = logging.getLogger(\"my_logger\")\n",
    "logger.setLevel(logging.DEBUG)  # Set to desired log level\n",
    "\n",
    "# Create a rotating file handler\n",
    "handler = RotatingFileHandler(\n",
    "    \"my_log.log\",      # Log file name\n",
    "    maxBytes=1_000_000,  # Rotate after 1MB\n",
    "    backupCount=5       # Keep up to 5 backup files\n",
    ")\n",
    "\n",
    "# Set the log format\n",
    "formatter = logging.Formatter('%(asctime)s - %(levelname)s - %(message)s')\n",
    "handler.setFormatter(formatter)\n",
    "\n",
    "# Add handler to logger\n",
    "logger.addHandler(handler)\n",
    "\n",
    "# Example log messages\n",
    "logger.debug(\"Debug message\")\n",
    "logger.info(\"Info message\")\n",
    "logger.warning(\"Warning message\")\n",
    "logger.error(\"Error message\")\n",
    "logger.critical(\"Critical message\")"
   ]
  },
  {
   "cell_type": "code",
   "execution_count": 3,
   "id": "77506f28-8df9-400b-8cfc-4a7cf0d07157",
   "metadata": {},
   "outputs": [
    {
     "name": "stdout",
     "output_type": "stream",
     "text": [
      "Caught an IndexError: list index out of range\n"
     ]
    }
   ],
   "source": [
    "# 19. Write a program that handles both IndexError and KeyError using a try-except block.\n",
    "\n",
    "# 19.\n",
    "def access_elements():\n",
    "    my_list = [10, 20, 30]\n",
    "    my_dict = {'a': 1, 'b': 2}\n",
    "\n",
    "    try:\n",
    "        # Attempt to access an index that may not exist\n",
    "        print(\"List element at index 5:\", my_list[5])\n",
    "        \n",
    "        # Attempt to access a key that may not exist\n",
    "        print(\"Dictionary value for key 'z':\", my_dict['z'])\n",
    "\n",
    "    except IndexError as ie:\n",
    "        print(\"Caught an IndexError:\", ie)\n",
    "\n",
    "    except KeyError as ke:\n",
    "        print(\"Caught a KeyError:\", ke)\n",
    "\n",
    "# Run the function\n",
    "access_elements()"
   ]
  },
  {
   "cell_type": "code",
   "execution_count": 4,
   "id": "8c15911d-276f-4390-9fef-5ced7f47f4b9",
   "metadata": {},
   "outputs": [
    {
     "name": "stdout",
     "output_type": "stream",
     "text": [
      "Hello, this is a test string!This is a new line of text.\n",
      "\n"
     ]
    }
   ],
   "source": [
    "# 20. How would you open a file and read its contents using a context manager in Python?\n",
    "\n",
    "# 20.\n",
    "# Open a file and read its contents using a context manager\n",
    "with open('example.txt', 'r') as file:\n",
    "    contents = file.read()\n",
    "    print(contents)"
   ]
  },
  {
   "cell_type": "code",
   "execution_count": 5,
   "id": "08dc60d6-c6dd-48e9-8139-d82055205cb0",
   "metadata": {},
   "outputs": [
    {
     "name": "stdout",
     "output_type": "stream",
     "text": [
      "The word 'Python' occurs 0 time(s) in 'example.txt'.\n"
     ]
    }
   ],
   "source": [
    "# 21. Write a Python program that reads a file and prints the number of occurrences of a specific word.\n",
    "\n",
    "# 21.\n",
    "def count_word_in_file(filename, target_word):\n",
    "    try:\n",
    "        with open(filename, 'r', encoding='utf-8') as file:\n",
    "            text = file.read()\n",
    "\n",
    "        # Normalize the text to lowercase and split into words\n",
    "        words = text.lower().split()\n",
    "        target = target_word.lower()\n",
    "\n",
    "        # Count occurrences\n",
    "        count = words.count(target)\n",
    "\n",
    "        print(f\"The word '{target_word}' occurs {count} time(s) in '{filename}'.\")\n",
    "\n",
    "    except FileNotFoundError:\n",
    "        print(f\"Error: The file '{filename}' was not found.\")\n",
    "    except Exception as e:\n",
    "        print(f\"An error occurred: {e}\")\n",
    "\n",
    "# Example usage\n",
    "count_word_in_file('example.txt', 'Python')"
   ]
  },
  {
   "cell_type": "code",
   "execution_count": 6,
   "id": "dd1bf3de-1bcf-4bb0-82cd-9d57a8507250",
   "metadata": {},
   "outputs": [
    {
     "name": "stdout",
     "output_type": "stream",
     "text": [
      "Hello, this is a test string!This is a new line of text.\n",
      "\n"
     ]
    }
   ],
   "source": [
    "# 22. How can you check if a file is empty before attempting to read its contents?\n",
    "\n",
    "# 22.\n",
    "import os\n",
    "\n",
    "filename = 'example.txt'\n",
    "\n",
    "if os.path.getsize(filename) == 0:\n",
    "    print(\"The file is empty.\")\n",
    "else:\n",
    "    with open(filename, 'r') as file:\n",
    "        contents = file.read()\n",
    "        print(contents)"
   ]
  },
  {
   "cell_type": "code",
   "execution_count": 8,
   "id": "2b59e20e-4b77-41a0-9065-254b89e0ef28",
   "metadata": {},
   "outputs": [
    {
     "name": "stdout",
     "output_type": "stream",
     "text": [
      "An error occurred. Check 'error_log.txt' for details.\n"
     ]
    }
   ],
   "source": [
    "# 23. Write a Python program that writes to a log file when an error occurs during file handling.\n",
    "\n",
    "# 23.\n",
    "import logging\n",
    "\n",
    "# Configure the logging\n",
    "logging.basicConfig(\n",
    "    filename='error_log.txt',\n",
    "    level=logging.ERROR,\n",
    "    format='%(asctime)s - %(levelname)s - %(message)s'\n",
    ")\n",
    "\n",
    "def read_file(filename):\n",
    "    try:\n",
    "        with open(filename, 'r') as file:\n",
    "            contents = file.read()\n",
    "            print(contents)\n",
    "    except Exception as e:\n",
    "        logging.error(f\"Failed to read file '{filename}': {e}\")\n",
    "        print(\"An error occurred. Check 'error_log.txt' for details.\")\n",
    "\n",
    "# Example usage\n",
    "read_file('nonexistent_file.txt')"
   ]
  }
 ],
 "metadata": {
  "kernelspec": {
   "display_name": "Python 3 (ipykernel)",
   "language": "python",
   "name": "python3"
  },
  "language_info": {
   "codemirror_mode": {
    "name": "ipython",
    "version": 3
   },
   "file_extension": ".py",
   "mimetype": "text/x-python",
   "name": "python",
   "nbconvert_exporter": "python",
   "pygments_lexer": "ipython3",
   "version": "3.13.2"
  }
 },
 "nbformat": 4,
 "nbformat_minor": 5
}
