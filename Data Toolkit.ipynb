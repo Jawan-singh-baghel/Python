{
 "cells": [
  {
   "cell_type": "code",
   "execution_count": null,
   "id": "5769fa0e-debd-428c-ba2a-48b6ec173d99",
   "metadata": {},
   "outputs": [],
   "source": [
    "# Assignment No.6\n",
    "# Data Toolkit."
   ]
  },
  {
   "cell_type": "code",
   "execution_count": null,
   "id": "17a80be9-53ee-4bfd-8c00-555ad5599499",
   "metadata": {},
   "outputs": [],
   "source": [
    "# Theory Questions."
   ]
  },
  {
   "cell_type": "code",
   "execution_count": null,
   "id": "0728e30b-4cfc-4446-b866-16a49108b7a7",
   "metadata": {},
   "outputs": [],
   "source": [
    "# 1. What is NumPy, and why is it widely used in Python?\n",
    "# 1. NumPy is a Python library used for fast numerical calculations. It provides a powerful array object (ndarray) and tools for math, statistics, \n",
    "# and linear algebra.\n",
    "\n",
    "# Why it's popular:\n",
    "# Faster than Python lists\n",
    "# Supports matrix operations\n",
    "# Works with other libraries like pandas, SciPy, and TensorFlow\n",
    "# Ideal for data science and machine learning"
   ]
  },
  {
   "cell_type": "code",
   "execution_count": null,
   "id": "f26ec7a9-fb70-4355-8d2a-6c94b76e6bd8",
   "metadata": {},
   "outputs": [],
   "source": [
    "# 2. How does broadcasting work in NumPy?\n",
    "\n",
    "# 2. Broadcasting allows NumPy to perform element-wise operations on arrays of different shapes by automatically expanding the smaller array(s) to \n",
    "# match the shape of the larger one, following specific rules. This avoids creating unnecessary copies of data and enables efficient computation.\n",
    "\n",
    "# Step-by-Step Process\n",
    "    \n",
    "# Compare Shapes from Right to Left:\n",
    "# NumPy compares the shapes of the two arrays starting from the last dimension (rightmost) and moves left.\n",
    "\n",
    "# Apply Compatibility Rules for Each Dimension:\n",
    "# For each dimension pair (from the two arrays):\n",
    "# If the dimensions are equal, they are compatible.\n",
    "# If one dimension is 1, it can be broadcast (stretched) to match the other.\n",
    "# If neither condition is met, broadcasting is not possible and NumPy raises an error.\n",
    "\n",
    "# Expand Dimensions with Size 1:\n",
    "# Dimensions of size 1 in an array are virtually repeated to match the other array’s dimension. No actual data copying happens.\n",
    "\n",
    "# Operate Element-wise:\n",
    "# After broadcasting, the arrays have compatible shapes, and operations proceed element-wise."
   ]
  },
  {
   "cell_type": "code",
   "execution_count": null,
   "id": "f6a317ad-876c-49fa-82ed-df0daa637be1",
   "metadata": {},
   "outputs": [],
   "source": [
    "# 3. What is a Pandas DataFrame?\n",
    "\n",
    "# A Pandas DataFrame is a two-dimensional, size-mutable, and potentially heterogeneous tabular data structure with labeled axes (rows and columns). \n",
    "# It’s one of the core data structures in the Pandas library, widely used for data manipulation and analysis in Python.\n",
    "\n",
    "# Key Features of a Pandas DataFrame:\n",
    "# 2D structure: Like a spreadsheet or SQL table, with rows and columns.\n",
    "# Labeled axes: Both rows and columns have labels (index for rows, column names for columns).\n",
    "# Heterogeneous data: Different columns can hold different types of data (numbers, strings, dates, etc.).\n",
    "# Size mutable: You can add or remove rows and columns.\n",
    "# Powerful data manipulation: Supports filtering, grouping, joining, reshaping, and aggregation."
   ]
  },
  {
   "cell_type": "code",
   "execution_count": null,
   "id": "af3fbc6c-5630-4d46-b86c-04cbd6c8e8e7",
   "metadata": {},
   "outputs": [],
   "source": [
    "# 4. Explain the use of the groupby() method in Pandas?\n",
    "\n",
    "# 4.groupby() is a method that lets you group rows in a DataFrame by the values in one or more columns. \n",
    "# Then, you can do calculations on each group separately, like adding up numbers or finding the average.\n",
    "\n",
    "# How it works:\n",
    "# Group the data by one or more columns.\n",
    "# Apply a function to each group (like sum, mean, count).\n",
    "# Get a new table with the results for each group."
   ]
  },
  {
   "cell_type": "code",
   "execution_count": null,
   "id": "3a9b3a8b-ba87-4007-9f7b-4a7651ec04e0",
   "metadata": {},
   "outputs": [],
   "source": [
    "# 5. Why is Seaborn preferred for statistical visualizations?\n",
    "\n",
    "# 5. Built on Matplotlib but Simpler: Seaborn is a high-level library built on top of Matplotlib that makes creating attractive and informative \n",
    "# statistical plots easier with less code.\n",
    "\n",
    "# Designed for Statistical Data:\n",
    "# It has built-in support for visualizing distributions, relationships, and categorical data — things common in statistics and data analysis.\n",
    "\n",
    "# Automatic Handling of DataFrames:\n",
    "# Seaborn works seamlessly with Pandas DataFrames, allowing you to pass entire DataFrames and column names directly, which simplifies plotting.\n",
    "\n",
    "# Advanced Plot Types:\n",
    "# Offers specialized plot types like violin plots, box plots, pair plots, joint plots, and heatmaps — which are great for exploring statistical \n",
    "# relationships.\n",
    "\n",
    "# Built-in Statistical Estimations:\n",
    "# Many plots (like regression plots or bar plots with confidence intervals) come with built-in statistical computations, saving you extra work.\n",
    "\n",
    "# Better Default Styles:\n",
    "# Seaborn has aesthetically pleasing default color palettes and themes designed to improve readability and presentation."
   ]
  },
  {
   "cell_type": "code",
   "execution_count": null,
   "id": "d093d483-e0b1-4c44-a7ca-7b0b0c1d6b2b",
   "metadata": {},
   "outputs": [],
   "source": [
    "# 6. What are the differences between NumPy arrays and Python lists?\n",
    "\n",
    "# 6. Data Type\n",
    "# NumPy arrays: Elements must be of the same data type (homogeneous).\n",
    "# Python lists: Can hold elements of different data types (heterogeneous).\n",
    "\n",
    "# Performance\n",
    "# NumPy arrays: Faster for numerical computations.\n",
    "# Python lists: Slower for math operations.\n",
    "\n",
    "# Memory Efficiency\n",
    "# NumPy arrays: Use less memory.\n",
    "# Python lists: Use more memory.\n",
    "\n",
    "# Operations\n",
    "# NumPy arrays: Support vectorized (element-wise) operations.\n",
    "# Python lists: No built-in element-wise math; need loops.\n",
    "\n",
    "# Multidimensional Support\n",
    "# NumPy arrays: Naturally support multi-dimensional arrays.\n",
    "# Python lists: Can nest lists, but it’s less efficient and less convenient.\n",
    "\n",
    "# Broadcasting\n",
    "# NumPy arrays: Support broadcasting for operations between differently shaped arrays.\n",
    "# Python lists: No broadcasting.\n",
    "\n",
    "# Use Cases\n",
    "# NumPy arrays: Ideal for scientific computing and data analysis.\n",
    "# Python lists: General-purpose container for mixed data types."
   ]
  },
  {
   "cell_type": "code",
   "execution_count": 4,
   "id": "68dc7077-944e-47c6-8de1-bddfc62a7896",
   "metadata": {},
   "outputs": [],
   "source": [
    "# 7. What is a heatmap, and when should it be used?\n",
    "\n",
    "# 7. A heatmap is a graphical representation of data where values in a matrix are represented by colors. Each cell’s color intensity reflects the value, \n",
    "# making patterns and relationships easy to spot.\n",
    "\n",
    "# When to Use a Heatmap?\n",
    "# Visualize correlations between variables (e.g., correlation matrix).\n",
    "# Show data density or frequency in a grid format.\n",
    "# Highlight patterns, trends, or anomalies in large datasets.\n",
    "# Compare values across two categorical variables.\n",
    "# When you want a quick overview of complex data."
   ]
  },
  {
   "cell_type": "code",
   "execution_count": null,
   "id": "db3d5425-7162-4019-b472-66d16c88a32c",
   "metadata": {},
   "outputs": [],
   "source": [
    "# 8. What does the term “vectorized operation” mean in NumPy?\n",
    "\n",
    "# 8. In NumPy, the term \"vectorized operation\" refers to performing operations on entire arrays (vectors, matrices, etc.) without using explicit \n",
    "# loops (like for or while), by leveraging optimized low-level implementations.\n",
    "\n",
    "# Key Concepts:\n",
    "# Element-wise operations: A vectorized operation applies an operation to each element of an array automatically.\n",
    "# Performance: Vectorized operations are much faster than Python loops because they use compiled code (like C) behind the scenes.\n",
    "# Simplicity: Code is cleaner and more concise."
   ]
  },
  {
   "cell_type": "code",
   "execution_count": null,
   "id": "98a9703d-b543-4df9-a3f5-32e83be445be",
   "metadata": {},
   "outputs": [],
   "source": [
    "# 9. How does Matplotlib differ from Plotly?\n",
    "\n",
    "# 9. Matplotlib and Plotly are both Python libraries used for data visualization, but they differ significantly in terms of features, interactivity, \n",
    "# and use cases.\n",
    "\n",
    "# Matplotlib\n",
    "# Type: Static plotting library\n",
    "# Interactivity: Limited (zoom, pan with GUI backends)\n",
    "# Output: Mostly static images (e.g., PNG, PDF)\n",
    "# Customization: Very flexible and customizable but can be verbose\n",
    "# Use case: Great for scientific plots, academic papers, and when you need total control over every visual element\n",
    "# Integration: Works well with NumPy, pandas, and SciPy\n",
    "\n",
    "# Plotly\n",
    "# Type: Interactive plotting library\n",
    "# Interactivity: High (tooltips, zoom, pan, click, hover, etc.)\n",
    "# Output: Interactive web-based plots (HTML, Dash apps)\n",
    "# Customization: High-level API with many built-in themes; can get complex for fine-tuned control\n",
    "# Use case: Great for dashboards, interactive web apps, and data exploration\n",
    "# Integration: Works well with Dash, pandas, Jupyter"
   ]
  },
  {
   "cell_type": "code",
   "execution_count": 6,
   "id": "2a56f7ed-9a6d-49a0-8a5f-04f241617954",
   "metadata": {},
   "outputs": [],
   "source": [
    "# 10. A What is the significance of hierarchical indexing in Pandas?\n",
    "\n",
    "# 10. Hierarchical indexing (also known as MultiIndex) in Pandas allows you to have multiple index levels (rows or columns), \n",
    "# which enables more complex and flexible data analysis—especially with higher-dimensional data in a 2D DataFrame.\n",
    "\n",
    "# Key Significance of Hierarchical Indexing:\n",
    "# Represents Higher-Dimensional Data in 2D\n",
    "# Allows working with data that would normally need a multi-dimensional array (like 3D data), but within a 2D DataFrame.\n",
    "\n",
    "# Group & Organize Data Naturally\n",
    "# Makes it easier to group related data (e.g., by region, department, time period).\n",
    "\n",
    "# Enables intuitive slicing, aggregating, and filtering at different levels.\n",
    "\n",
    "# Efficient Data Aggregation\n",
    "# Works seamlessly with .groupby(), .unstack(), .stack(), and .swaplevel() to reshape or aggregate data at different index levels.\n",
    "\n",
    "# Label-Based Indexing Across Multiple Dimensions\n",
    "# You can access data using combinations of labels at multiple levels (like df.loc[('California', 2023)])."
   ]
  },
  {
   "cell_type": "code",
   "execution_count": null,
   "id": "a42e8991-3758-48f3-9dd3-6a3b44ae5bd1",
   "metadata": {},
   "outputs": [],
   "source": [
    "# 11. What is the role of Seaborn’s pairplot() function?\n",
    "\n",
    "# 11. The **pairplot()** function in Seaborn is a quick and powerful tool for visualizing relationships between multiple variables in a dataset, \n",
    "# especially numerical ones.\n",
    "\n",
    "#     Role of pairplot() in Seaborn:\n",
    "# Exploratory Data Analysis (EDA)\n",
    "# Helps spot correlations, clusters, and outliers early on.\n",
    "\n",
    "# Visualizing Pairwise Relationships\n",
    "# Creates a grid of scatter plots for each pair of numeric variables.\n",
    "# Diagonal plots typically show histograms or KDEs of each variable.\n",
    "\n",
    "# Coloring by Category\n",
    "# You can pass a hue argument to color points by category, which helps distinguish between classes or groups."
   ]
  },
  {
   "cell_type": "code",
   "execution_count": null,
   "id": "6014926d-afb7-48b3-8f84-b68490d102ea",
   "metadata": {},
   "outputs": [],
   "source": [
    "# 12. What is the purpose of the describe() function in Pandas?\n",
    "\n",
    "# 12. The purpose of the describe() function in Pandas is to provide a quick summary of the central tendencies, dispersion, \n",
    "# and shape of a dataset’s distribution — especially for numerical columns.\n",
    "\n",
    "# It shows:\n",
    "# count – how many values there are\n",
    "# mean – the average\n",
    "# std – how spread out the numbers are (standard deviation)\n",
    "# min – the smallest number\n",
    "# 25%, 50%, 75% – values at those percentiles (median is 50%)\n",
    "# max – the largest number\n",
    "\n",
    "# It helps you quickly understand your data — what's typical, what's extreme, and how it's spread out.\n",
    "# Let me know if you'd like this applied to your own data!"
   ]
  },
  {
   "cell_type": "code",
   "execution_count": null,
   "id": "f4c3bf10-6a17-4dbf-bd68-bbf50d8636f6",
   "metadata": {},
   "outputs": [],
   "source": [
    "# 13. Why is handling missing data important in Pandas?\n",
    "\n",
    "# 13. andling missing data is important in Pandas because missing values can cause errors, give misleading results, or prevent models and \n",
    "# analyses from working correctly.\n",
    "\n",
    "# Why it's important:\n",
    "# Ensures Accuracy : Missing data can distort averages, totals, and other stats.\n",
    "# Prevents Errors : Many functions and models will crash or behave incorrectly if they see NaN (missing values).\n",
    "# Improves Data Quality : Cleaning or filling in missing data makes your dataset more reliable for analysis.\n",
    "# Reveals Patterns : Sometimes, what’s missing is meaningful — e.g., a missing value might signal an error, a refusal, or a hidden pattern."
   ]
  },
  {
   "cell_type": "code",
   "execution_count": null,
   "id": "d5623aa7-8a9a-4566-aaa0-d18fa012ec41",
   "metadata": {},
   "outputs": [],
   "source": [
    "# 14. What are the benefits of using Plotly for data visualization?\n",
    "\n",
    "# 14. Plotly is a powerful and flexible library for data visualization in Python (and other languages like R and JavaScript).\n",
    "# Here are some of the key /benefits of using Plotly:\n",
    "\n",
    "# Interactive graphs : You can zoom, hover, and click on charts to explore data easily.\n",
    "# Lots of chart types : From simple bar and line charts to 3D and maps, it has many options.\n",
    "# Looks professional : The charts look clean and polished, great for presentations.\n",
    "# Works in notebooks and websites : Perfect for use in Jupyter notebooks or embedding in web pages.\n",
    "# Easy to customize : You can change colors, labels, and more without much hassle.\n",
    "# Free and open-source : You can use it for free, and the community supports it.\n",
    "# Supports animations : You can make charts that change over time to show trends."
   ]
  },
  {
   "cell_type": "code",
   "execution_count": null,
   "id": "bd4e3aea-6f0c-46ea-ae10-cb3a22863d98",
   "metadata": {},
   "outputs": [],
   "source": [
    "# 15. How does NumPy handle multidimensional arrays?\n",
    "\n",
    "# ndarray Object\n",
    "# The fundamental object in NumPy is the ndarray, short for n-dimensional array.\n",
    "# It can represent vectors (1D), matrices (2D), and higher-dimensional data (3D, 4D, etc.).\n",
    "# It is a grid of values, all of the same data type, and is indexed by a tuple of nonnegative integers.\n",
    "\n",
    "# Shape and Dimensions\n",
    "# Every ndarray has a shape attribute, which is a tuple indicating the size of the array along each dimension \n",
    "# (e.g., (3, 4) means 3 rows and 4 columns).\n",
    "# The number of dimensions (or rank) is stored in the ndim attribute.\n",
    "# These properties help in understanding the structure and layout of the data.\n",
    "\n",
    "# Homogeneous Data\n",
    "# NumPy arrays are homogeneous, meaning all elements must be of the same data type (e.g., all integers or all floats).\n",
    "# This allows NumPy to use efficient low-level (C-based) memory storage and computation.\n",
    "\n",
    "# Indexing and Slicing\n",
    "# NumPy supports powerful multi-dimensional indexing (e.g., arr[1, 2]) and slicing (e.g., arr[:, 1]).\n",
    "# This enables accessing specific elements, rows, columns, or subarrays with simple, readable syntax.\n",
    "\n",
    "# Broadcasting\n",
    "# Broadcasting is a set of rules NumPy uses to apply operations on arrays of different shapes.\n",
    "# When performing operations on two arrays, NumPy automatically expands the smaller array to match the shape of the larger one if they are compatible.\n",
    "# This avoids the need to manually reshape arrays in most cases.\n",
    "\n",
    "# Vectorized Operations\n",
    "# NumPy performs operations element-wise using vectorization, avoiding explicit loops.\n",
    "# This leads to faster execution and cleaner code compared to standard Python loops.\n",
    "\n",
    "# Memory Efficiency\n",
    "# NumPy stores arrays in a contiguous block of memory, which improves cache performance and allows the use of SIMD \n",
    "# (Single Instruction, Multiple Data) operations.\n",
    "# It supports views and shallow copies, enabling efficient memory usage without duplicating data unnecessarily.\n",
    "\n",
    "# Axes-based Computation\n",
    "# Many NumPy functions (e.g., sum, mean, max) support an axis argument.\n",
    "# This allows operations to be performed along a specific dimension (e.g., sum of each row or each column).\n",
    "# It provides flexible and precise control over multidimensional data manipulation.\n",
    "\n",
    "# Transposition and Reshaping\n",
    "# NumPy allows arrays to be reshaped using .reshape() and transposed using .T or np.transpose().\n",
    "# This is essential for changing the layout of data without changing its content.\n",
    "# These operations are usually done without copying data, ensuring efficiency.\n",
    "\n",
    "# High Performance\n",
    "# NumPy is implemented in C and C++, which makes it highly performant.\n",
    "# It leverages vectorized operations, broadcasting, and optimized memory access patterns.\n",
    "# It is widely used in scientific computing and machine learning due to its speed and efficiency."
   ]
  },
  {
   "cell_type": "code",
   "execution_count": null,
   "id": "f40beeb3-b97a-49aa-81d7-58a6148a3b21",
   "metadata": {},
   "outputs": [],
   "source": [
    "# 16. What is the role of Bokeh in data visualization?\n",
    "\n",
    "# 16. Role of Bokeh in Data Visualization\n",
    "# Bokeh is a powerful Python library specifically designed for interactive data visualization in web browsers. Here's a detailed look at its role:\n",
    "\n",
    "# Interactive Visualization\n",
    "# Bokeh specializes in interactive plots, allowing users to zoom, pan, hover, select, and filter data dynamically.\n",
    "# Tools like hover tooltips, sliders, dropdowns, and linked plots enhance user interaction.\n",
    "\n",
    "# Web-Ready Output\n",
    "# Bokeh generates HTML, JavaScript, and JSON, making it ideal for embedding visualizations in web applications, dashboards, or Jupyter notebooks.\n",
    "# Visuals can be exported to standalone HTML files or integrated into Flask/Django web apps.\n",
    "\n",
    "# Versatile Plotting\n",
    "# Supports a wide range of visualizations: line plots, bar charts, scatter plots, heatmaps, network graphs, and more.\n",
    "# High-level interface (bokeh.plotting) for quick plots and a low-level interface (bokeh.models) for fine-tuned control.\n",
    "\n",
    "# Large Data Handling\n",
    "# Can handle large streaming or real-time data using server capabilities.\n",
    "# Supports WebGL rendering for faster performance with large datasets.\n",
    "\n",
    "# Integration with Other Tools\n",
    "# Integrates easily with tools like NumPy, Pandas, and Jupyter Notebooks.\n",
    "# Can work alongside Holoviews, Panel, and Datashader for advanced visualizations.\n",
    "\n",
    "# Customizable and Extensible\n",
    "# Allows creation of custom JavaScript callbacks for advanced interactivity.\n",
    "# Supports themes, templates, and layout controls for building rich visual experiences.\n",
    "\n",
    "# Bokeh Server\n",
    "# Enables creation of full-featured interactive web apps with real-time updates and UI controls.\n",
    "# Good for deploying dashboards and tools without needing front-end JavaScript development."
   ]
  },
  {
   "cell_type": "code",
   "execution_count": 1,
   "id": "8f3eddb7-eb64-471d-867b-79402f649ab5",
   "metadata": {},
   "outputs": [],
   "source": [
    "# 17. Explain the difference between apply() and map() in Pandas?\n",
    "\n",
    "# Difference between apply() and map() in Pandas.\n",
    "\n",
    "# Functionality and Scope\n",
    "\n",
    "# map():\n",
    "# Designed to work exclusively with Pandas Series.\n",
    "# Primarily intended for element-wise transformations.\n",
    "# It can accept a function, a dictionary, or another Series to map values.\n",
    "# Useful for value substitution or simple element-wise operations.\n",
    "\n",
    "# apply():\n",
    "# Works with both Series and DataFrames.\n",
    "# For a Series, it applies a function element-wise, similar to map().\n",
    "# For a DataFrame, it can apply a function along an axis: either rows (axis=1) or columns (axis=0).\n",
    "# Suitable for more complex operations that might involve multiple columns or rows.\n",
    "\n",
    "# Input Types\n",
    "\n",
    "# map():\n",
    "# Accepts:\n",
    "# A function: applied element-wise.\n",
    "# A dictionary or Series for mapping values (key-value replacement).\n",
    "# Example: Mapping categorical values to new labels.\n",
    "\n",
    "# apply():\n",
    "# Accepts only a function.\n",
    "# The function can be complex and operate on the entire row or column when used on DataFrames.\n",
    "\n",
    "# Use Cases\n",
    "\n",
    "# map():\n",
    "# Best for simple transformations on a single Series.\n",
    "# Commonly used for value replacement or applying simple element-wise functions.\n",
    "# Example: Mapping codes to labels, replacing values, or applying simple calculations.\n",
    "\n",
    "# apply():\n",
    "# Used for complex row-wise or column-wise operations on DataFrames.\n",
    "# Can perform aggregations, transformations, or filtering across multiple columns or rows.\n",
    "# Example: Calculating a custom metric per row or applying conditional logic across columns.\n",
    "\n",
    "# Performance\n",
    "\n",
    "# Both methods are vectorized, but:\n",
    "# map() is often faster for simple element-wise transformations because it’s specialized for Series.\n",
    "# apply() can be slower, especially on DataFrames, as it involves function calls on rows or columns and less optimization.\n",
    "\n",
    "# Return Types\n",
    "\n",
    "# map():\n",
    "# Always returns a Series.\n",
    "\n",
    "# apply():\n",
    "# When used on a Series, returns a Series.\n",
    "# When used on a DataFrame:\n",
    "# Returns a Series if the function reduces the data (e.g., aggregation).\n",
    "# Returns a DataFrame if the function returns a sequence or DataFrame-like object per row/column.\n",
    "\n",
    "# Axis Parameter (DataFrame Only)\n",
    "\n",
    "# map() does not have an axis parameter — it cannot be applied to DataFrames.\n",
    "\n",
    "# apply() uses the axis argument to specify:\n",
    "# axis=0 or 'index': apply function to each column.\n",
    "# axis=1 or 'columns': apply function to each row.\n",
    "\n",
    "# Flexibility\n",
    "\n",
    "# map():\n",
    "# Limited flexibility since it works element-wise on a Series.\n",
    "# Allows mappings via dictionary, which is a powerful shorthand for replacement.\n",
    "\n",
    "# apply():\n",
    "# Highly flexible; allows custom, complex operations.\n",
    "# Can return scalars, lists, Series, or DataFrames depending on the applied function."
   ]
  },
  {
   "cell_type": "code",
   "execution_count": null,
   "id": "43a4e597-b463-43fd-bb83-3648eb2e9cb6",
   "metadata": {},
   "outputs": [],
   "source": [
    "# 18. What are some advanced features of NumPy?\n",
    "\n",
    "# 18. There are some advanced features of NumPy that go beyond basic array operations:\n",
    "\n",
    "# Broadcasting\n",
    "# Enables arithmetic operations on arrays with different shapes.\n",
    "# Automatically expands smaller arrays to match larger arrays without copying data.\n",
    "# Facilitates efficient vectorized computations.\n",
    "\n",
    "# Fancy Indexing and Boolean Masking\n",
    "# Allows advanced selection and modification of array elements using arrays of indices or boolean conditions.\n",
    "# Supports combining multiple conditions for complex data filtering.\n",
    "\n",
    "# Structured Arrays and Record Arrays\n",
    "# Enables arrays with mixed data types (like columns in a table).\n",
    "# Useful for handling heterogeneous data with field names and data types.\n",
    "\n",
    "# Memory Mapping (memmap)\n",
    "# Allows working with arrays stored on disk as if they are in memory.\n",
    "# Useful for handling datasets larger than RAM without loading entire data.\n",
    "\n",
    "# Universal Functions (ufuncs)\n",
    "# Vectorized functions that operate element-wise on arrays.\n",
    "# Support broadcasting, type casting, and reduction operations.\n",
    "# Users can create custom ufuncs in C or Python.\n",
    "\n",
    "# Linear Algebra Module (numpy.linalg)\n",
    "# Provides advanced matrix operations: eigenvalues, singular value decomposition, matrix inversion, solving linear systems, etc.\n",
    "\n",
    "# Random Number Generation (numpy.random)\n",
    "# Offers various probability distributions and random sampling techniques.\n",
    "# New random generation infrastructure (Generator and BitGenerator) for reproducibility and flexibility.\n",
    "\n",
    "# FFT and Signal Processing\n",
    "# Fast Fourier Transform functions for spectral analysis.\n",
    "# Tools for signal filtering and convolution.\n",
    "\n",
    "# Masked Arrays\n",
    "# Arrays that can hide or mask certain elements from computations.\n",
    "# Useful for handling missing or invalid data in calculations.\n",
    "\n",
    "# Integration with C/C++ and Fortran\n",
    "# Allows writing performance-critical code in low-level languages.\n",
    "# Supports tools like Cython and numpy.ctypeslib for seamless interoperability.\n",
    "\n",
    "# Advanced Broadcasting Rules and Stride Tricks\n",
    "# Users can manipulate array strides to create views without copying data.\n",
    "# Enables creative and memory-efficient data manipulation."
   ]
  },
  {
   "cell_type": "code",
   "execution_count": null,
   "id": "c4693817-9bd7-4e67-a2ae-c44a9691e4d5",
   "metadata": {},
   "outputs": [],
   "source": [
    "# 19. How does Pandas simplify time series analysis?\n",
    "\n",
    "# 19. Pandas simplifies time series analysis through several powerful features and tools designed specifically for handling time-indexed data efficiently \n",
    "# and intuitively.\n",
    "\n",
    "# DateTime Indexing\n",
    "# Pandas supports DatetimeIndex, allowing time series data to be indexed by dates and times.\n",
    "# Enables easy slicing, filtering, and selection based on date ranges or specific time points.\n",
    "\n",
    "# Resampling\n",
    "# Provides .resample() method to easily change the frequency of time series data (e.g., converting daily data to monthly).\n",
    "# Supports aggregation functions like mean(), sum(), ohlc(), etc., during resampling.\n",
    "\n",
    "# Time Shifting and Lagging\n",
    "# Functions like .shift() allow shifting data forward or backward in time to create lagged features or lead indicators.\n",
    "# Useful for time-based feature engineering.\n",
    "\n",
    "# Time-aware Arithmetic\n",
    "# Supports arithmetic operations aligned on time indices, automatically handling missing dates and data alignment.\n",
    "# Simplifies calculations like percentage changes over time with .pct_change().\n",
    "\n",
    "# Date Range Generation\n",
    "# Functions like pd.date_range() help generate sequences of dates with specific frequencies (daily, hourly, business days, etc.).\n",
    "# Useful for creating consistent time indices or filling missing time points.\n",
    "\n",
    "# Handling Time Zones and Localization\n",
    "# Built-in support for timezone-aware datetime objects.\n",
    "# Methods to convert between time zones and handle daylight saving time changes.\n",
    "\n",
    "# Rolling Windows\n",
    "# The .rolling() method allows applying moving window calculations (moving averages, sums, standard deviations).\n",
    "# Essential for smoothing and trend analysis in time series.\n",
    "\n",
    "# Period and Interval Support\n",
    "# Pandas supports Period (time spans like months or quarters) and Interval (ranges) for flexible time-based grouping and analysis.\n",
    "\n",
    "# Powerful Parsing of Dates\n",
    "# pd.to_datetime() can parse a wide variety of date/time formats, simplifying import and cleaning of time series data."
   ]
  },
  {
   "cell_type": "code",
   "execution_count": null,
   "id": "ba7ac9e2-a96f-4213-af1d-8bd0c829a51d",
   "metadata": {},
   "outputs": [],
   "source": [
    "# 20. What is the role of a pivot table in Pandas?\n",
    "\n",
    "# 20. A pivot table in Pandas is a data summarization tool that allows you to group, aggregate, and reshape data in a structured and meaningful way. \n",
    "# It transforms data into a format that's easier to analyze, especially when dealing with categorical data and metrics.\n",
    "\n",
    "# Data Summarization\n",
    "\n",
    "# Pivot tables are primarily used to summarize data.\n",
    "# They group data by categories (rows and columns) and compute aggregate values like sum, mean, count, etc.\n",
    "# Example: Summarize total sales per product per region.\n",
    "\n",
    "# Aggregation Functions\n",
    "\n",
    "# The pivot_table() method uses aggregation functions to compute summary statistics.\n",
    "# Common functions include:\n",
    "# mean (default)\n",
    "# sum\n",
    "# count\n",
    "# min, max\n",
    "# Custom functions using aggfunc parameter\n",
    "# You can apply different aggregations to different columns if needed.\n",
    "\n",
    "# Grouping by Multiple Keys\n",
    "\n",
    "# You can group data by multiple columns (keys) using index and columns parameters.\n",
    "# This allows multilevel (hierarchical) grouping both row-wise and column-wise.\n",
    "# Enables complex summaries, such as sales by region and product over time.\n",
    "\n",
    "# Data Reshaping\n",
    "\n",
    "# Pivot tables reshape long-format data into wide format.\n",
    "# Converts unique values in one column into multiple columns or rows.\n",
    "# Makes complex datasets more readable and structured.\n",
    "\n",
    "# Missing Data Handling\n",
    "\n",
    "# By default, missing combinations are filled with NaN.\n",
    "# You can control missing data behavior using the fill_value parameter (e.g., fill with 0).\n",
    "\n",
    "# Multiple Values Columns\n",
    "\n",
    "# Allows multiple metrics to be aggregated simultaneously using the values parameter.\n",
    "# Results in a multi-level column index, useful for detailed summaries.\n",
    "\n",
    "# Comparison Across Categories\n",
    "\n",
    "# Pivot tables make it easy to compare values across categories.\n",
    "# For example, you can quickly see which region sold the most products or compare monthly sales trends.\n",
    "\n",
    "# Automatic Data Alignment\n",
    "\n",
    "# Pandas automatically aligns data based on the grouping keys.\n",
    "# Ensures consistent formatting and accurate calculations.\n",
    "\n",
    "# Custom Output Format\n",
    "\n",
    "# The structure of the pivot table is customizable:\n",
    "# Set rows via index\n",
    "# Set columns via columns\n",
    "# Choose metrics via values\n",
    "# You can export the pivot table as a CSV or Excel file for reporting purposes.\n",
    "\n",
    "# Reusability and Integration\n",
    "\n",
    "# Pivot tables in Pandas can be used as inputs to further analysis or visualizations.\n",
    "# Easily integrate with plotting libraries (Matplotlib, Seaborn) for dashboards."
   ]
  },
  {
   "cell_type": "code",
   "execution_count": null,
   "id": "11925077-8a6e-4068-8bd0-f26780d39466",
   "metadata": {},
   "outputs": [],
   "source": [
    "# 21. Why is NumPy’s array slicing faster than Python’s list slicing?\n",
    "\n",
    "# 21. NumPy’s array slicing is faster than Python’s list slicing due to several key reasons rooted in how NumPy is designed and implemented:\n",
    "\n",
    "# Contiguous Memory Storage\n",
    "# NumPy arrays are stored in contiguous blocks of memory (like C arrays), enabling fast and efficient access.\n",
    "# Python lists are arrays of pointers to objects, which are scattered in memory, making access slower.\n",
    "\n",
    "# Homogeneous Data Type\n",
    "# NumPy arrays contain elements of the same data type, allowing low-level optimizations.\n",
    "# Python lists can store mixed types, requiring extra checks and dynamic memory handling.\n",
    "\n",
    "# View-Based Slicing (No Copy)\n",
    "# NumPy slicing typically returns a view, not a copy, meaning no data is duplicated — it just points to the original memory block.\n",
    "# Python list slicing creates a new list (copy), which takes time and memory.\n",
    "\n",
    "# Implementation in C\n",
    "# NumPy is built on optimized C code, which performs operations much faster than native Python.\n",
    "# List slicing in Python is handled by the interpreter, which is slower.\n",
    "\n",
    "# Vectorized Operations\n",
    "# Though not directly related to slicing, NumPy arrays support vectorized operations, further reducing the need for loops and making workflows faster."
   ]
  },
  {
   "cell_type": "code",
   "execution_count": null,
   "id": "1a09aaa1-9c0e-4d12-b6eb-ffbb55cb19bf",
   "metadata": {},
   "outputs": [],
   "source": [
    "# 22. What are some common use cases for Seaborn?\n",
    "\n",
    "# 22. There are some common use cases for Seaborn, the Python data visualization library built on top of Matplotlib:\n",
    "\n",
    "# Statistical Data Visualization\n",
    "# Seaborn is designed for visualizing statistical relationships in datasets.\n",
    "# It provides high-level functions for exploring distributions, correlations, and trends.\n",
    "\n",
    "# Visualizing Distributions\n",
    "# Plotting histograms, KDEs (Kernel Density Estimates), and rug plots to analyze data distributions.\n",
    "# Functions: sns.histplot(), sns.kdeplot(), sns.displot()\n",
    "\n",
    "# Categorical Data Analysis\n",
    "# Great for comparing categories using bar plots, box plots, violin plots, strip plots, etc.\n",
    "# Functions: sns.boxplot(), sns.barplot(), sns.violinplot(), sns.stripplot()\n",
    "\n",
    "# Analyzing Relationships Between Variables\n",
    "# Helps in visualizing relationships using scatter plots, line plots, and regression plots.\n",
    "# Functions: sns.scatterplot(), sns.lineplot(), sns.lmplot(), sns.regplot()\n",
    "\n",
    "# Heatmaps and Correlation Matrices\n",
    "# Commonly used for correlation analysis and visualizing matrices.\n",
    "# Function: sns.heatmap()\n",
    "\n",
    "# Multivariate Analysis\n",
    "# Plots like pair plots and joint plots are useful for analyzing relationships between multiple variables.\n",
    "# Functions: sns.pairplot(), sns.jointplot()\n",
    "\n",
    "# Time Series Visualization\n",
    "# Supports time series data visualization with automatic handling of date indexes.\n",
    "# Function: sns.lineplot() with datetime index\n",
    "\n",
    "# Faceted Plots / Subplots\n",
    "# Helps in comparing subgroups using facet grids or small multiples.\n",
    "# Functions: sns.FacetGrid(), sns.catplot(), sns.pairplot()\n",
    "\n",
    "# Beautiful and Consistent Styling\n",
    "# Provides built-in themes and color palettes for aesthetically pleasing plots.\n",
    "# Functions: sns.set_theme(), sns.set_style(), sns.color_palette()\n",
    "\n",
    "# Integration with Pandas\n",
    "# Seaborn works seamlessly with Pandas DataFrames, making it easy to plot columns using column names directly."
   ]
  },
  {
   "cell_type": "code",
   "execution_count": null,
   "id": "f4329144-a369-449a-8f6f-2282f6aa2a69",
   "metadata": {},
   "outputs": [],
   "source": [
    "# Practical Questions."
   ]
  },
  {
   "cell_type": "code",
   "execution_count": 13,
   "id": "67ac078f-8f9a-4871-a4c3-498c4a91d3d9",
   "metadata": {},
   "outputs": [
    {
     "name": "stdout",
     "output_type": "stream",
     "text": [
      "Scores (each row is a student):\n",
      "[[85 90 78]\n",
      " [88 76 92]\n",
      " [70 60 65]]\n",
      "\n",
      "Total scores per student:\n",
      "[253 256 195]\n"
     ]
    }
   ],
   "source": [
    "# 1. How do you create a 2D NumPy array and calculate the sum of each row?\n",
    "\n",
    "# 1.\n",
    "import numpy as np\n",
    "\n",
    "# Create a 2D NumPy array (for example, student scores in 3 subjects)\n",
    "scores = np.array([\n",
    "    [85, 90, 78],   # Student 1\n",
    "    [88, 76, 92],   # Student 2\n",
    "    [70, 60, 65]    # Student 3\n",
    "])\n",
    "\n",
    "# Calculate the sum of each row (total score per student)\n",
    "total_scores = np.sum(scores, axis=1)\n",
    "\n",
    "# Print the original array and the total scores\n",
    "print(\"Scores (each row is a student):\")\n",
    "print(scores)\n",
    "\n",
    "print(\"\\nTotal scores per student:\")\n",
    "print(total_scores)"
   ]
  },
  {
   "cell_type": "code",
   "execution_count": 84,
   "id": "d4ead45c-0f6d-40b7-b264-c81b70ce214a",
   "metadata": {},
   "outputs": [
    {
     "name": "stdout",
     "output_type": "stream",
     "text": [
      "Mean of the 'Score' column: 90.0\n"
     ]
    }
   ],
   "source": [
    "# 2. Write a Pandas script to find the mean of a specific column in a DataFrame.\n",
    "\n",
    "# 2.\n",
    "import pandas as pd\n",
    "\n",
    "# Create a sample DataFrame\n",
    "data = {\n",
    "    'Name': ['Jawan singh', 'Tarun', 'Rajat Singh', 'Dev'],\n",
    "    'Age': [25, 30, 35, 40],\n",
    "    'Score': [88, 92, 85, 95]\n",
    "}\n",
    "\n",
    "df = pd.DataFrame(data)\n",
    "\n",
    "# Calculate the mean of the 'Score' column\n",
    "mean_score = df['Score'].mean()\n",
    "\n",
    "# Print the result\n",
    "print(\"Mean of the 'Score' column:\", mean_score)"
   ]
  },
  {
   "cell_type": "code",
   "execution_count": 18,
   "id": "e2c55924-acda-4799-acd1-f92bd17fe83c",
   "metadata": {},
   "outputs": [
    {
     "data": {
      "image/png": "[encoded data removed]",
      "text/plain": [
       "<Figure size 640x480 with 1 Axes>"
      ]
     },
     "metadata": {},
     "output_type": "display_data"
    }
   ],
   "source": [
    "# 3. Create a scatter plot using Matplotlib.\n",
    "\n",
    "# 3.\n",
    "import matplotlib.pyplot as plt\n",
    "\n",
    "# Sample data for the scatter plot\n",
    "x = [10, 20, 30, 40, 50]\n",
    "y = [15, 25, 35, 45, 55]\n",
    "\n",
    "# Create the scatter plot\n",
    "plt.scatter(x, y, color='blue', marker='o', label='Data Points')\n",
    "\n",
    "# Add titles and labels\n",
    "plt.title('Simple Scatter Plot')\n",
    "plt.xlabel('X Axis')\n",
    "plt.ylabel('Y Axis')\n",
    "plt.legend()\n",
    "\n",
    "# Show the plot\n",
    "plt.show()"
   ]
  },
  {
   "cell_type": "code",
   "execution_count": 19,
   "id": "76bbfe29-59dc-4e4d-8485-c72c81e999f0",
   "metadata": {},
   "outputs": [
    {
     "data": {
      "image/png": "[encoded data removed]",
      "text/plain": [
       "<Figure size 640x480 with 2 Axes>"
      ]
     },
     "metadata": {},
     "output_type": "display_data"
    }
   ],
   "source": [
    "# 4. How do you calculate the correlation matrix using Seaborn and visualize it with a heatmap?\n",
    "\n",
    "#4.\n",
    "import pandas as pd\n",
    "import seaborn as sns\n",
    "import matplotlib.pyplot as plt\n",
    "\n",
    "# Sample DataFrame\n",
    "data = {\n",
    "    'Math': [85, 90, 78, 92, 88],\n",
    "    'Science': [80, 85, 75, 95, 89],\n",
    "    'English': [78, 83, 80, 90, 85],\n",
    "    'History': [82, 79, 77, 88, 84]\n",
    "}\n",
    "\n",
    "df = pd.DataFrame(data)\n",
    "\n",
    "# Calculate the correlation matrix\n",
    "corr_matrix = df.corr()\n",
    "\n",
    "# Create a heatmap using Seaborn\n",
    "sns.heatmap(corr_matrix, annot=True, cmap='coolwarm', linewidths=0.5)\n",
    "\n",
    "# Add a title\n",
    "plt.title('Correlation Matrix Heatmap')\n",
    "\n",
    "# Show the plot\n",
    "plt.show()"
   ]
  },
  {
   "cell_type": "code",
   "execution_count": 78,
   "id": "6278f737-933d-477b-9e61-e2808c360568",
   "metadata": {},
   "outputs": [
    {
     "data": {
      "application/vnd.plotly.v1+json": {
       "config": {
        "plotlyServerURL": "https://plot.ly"
       },
       "data": [
        {
         "marker": {
          "color": "indianred"
         },
         "type": "bar",
         "x": [
          "Apples",
          "Bananas",
          "Cherries",
          "Dates"
         ],
         "y": [
          10,
          15,
          7,
          12
         ]
        }
       ],
       "layout": {
        "template": {
         "data": {
          "bar": [
           {
            "error_x": {
             "color": "#2a3f5f"
            },
            "error_y": {
             "color": "#2a3f5f"
            },
            "marker": {
             "line": {
              "color": "#E5ECF6",
              "width": 0.5
             },
             "pattern": {
              "fillmode": "overlay",
              "size": 10,
              "solidity": 0.2
             }
            },
            "type": "bar"
           }
          ],
          "barpolar": [
           {
            "marker": {
             "line": {
              "color": "#E5ECF6",
              "width": 0.5
             },
             "pattern": {
              "fillmode": "overlay",
              "size": 10,
              "solidity": 0.2
             }
            },
            "type": "barpolar"
           }
          ],
          "carpet": [
           {
            "aaxis": {
             "endlinecolor": "#2a3f5f",
             "gridcolor": "white",
             "linecolor": "white",
             "minorgridcolor": "white",
             "startlinecolor": "#2a3f5f"
            },
            "baxis": {
             "endlinecolor": "#2a3f5f",
             "gridcolor": "white",
             "linecolor": "white",
             "minorgridcolor": "white",
             "startlinecolor": "#2a3f5f"
            },
            "type": "carpet"
           }
          ],
          "choropleth": [
           {
            "colorbar": {
             "outlinewidth": 0,
             "ticks": ""
            },
            "type": "choropleth"
           }
          ],
          "contour": [
           {
            "colorbar": {
             "outlinewidth": 0,
             "ticks": ""
            },
            "colorscale": [
             [
              0,
              "#0d0887"
             ],
             [
              0.1111111111111111,
              "#46039f"
             ],
             [
              0.2222222222222222,
              "#7201a8"
             ],
             [
              0.3333333333333333,
              "#9c179e"
             ],
             [
              0.4444444444444444,
              "#bd3786"
             ],
             [
              0.5555555555555556,
              "#d8576b"
             ],
             [
              0.6666666666666666,
              "#ed7953"
             ],
             [
              0.7777777777777778,
              "#fb9f3a"
             ],
             [
              0.8888888888888888,
              "#fdca26"
             ],
             [
              1,
              "#f0f921"
             ]
            ],
            "type": "contour"
           }
          ],
          "contourcarpet": [
           {
            "colorbar": {
             "outlinewidth": 0,
             "ticks": ""
            },
            "type": "contourcarpet"
           }
          ],
          "heatmap": [
           {
            "colorbar": {
             "outlinewidth": 0,
             "ticks": ""
            },
            "colorscale": [
             [
              0,
              "#0d0887"
             ],
             [
              0.1111111111111111,
              "#46039f"
             ],
             [
              0.2222222222222222,
              "#7201a8"
             ],
             [
              0.3333333333333333,
              "#9c179e"
             ],
             [
              0.4444444444444444,
              "#bd3786"
             ],
             [
              0.5555555555555556,
              "#d8576b"
             ],
             [
              0.6666666666666666,
              "#ed7953"
             ],
             [
              0.7777777777777778,
              "#fb9f3a"
             ],
             [
              0.8888888888888888,
              "#fdca26"
             ],
             [
              1,
              "#f0f921"
             ]
            ],
            "type": "heatmap"
           }
          ],
          "histogram": [
           {
            "marker": {
             "pattern": {
              "fillmode": "overlay",
              "size": 10,
              "solidity": 0.2
             }
            },
            "type": "histogram"
           }
          ],
          "histogram2d": [
           {
            "colorbar": {
             "outlinewidth": 0,
             "ticks": ""
            },
            "colorscale": [
             [
              0,
              "#0d0887"
             ],
             [
              0.1111111111111111,
              "#46039f"
             ],
             [
              0.2222222222222222,
              "#7201a8"
             ],
             [
              0.3333333333333333,
              "#9c179e"
             ],
             [
              0.4444444444444444,
              "#bd3786"
             ],
             [
              0.5555555555555556,
              "#d8576b"
             ],
             [
              0.6666666666666666,
              "#ed7953"
             ],
             [
              0.7777777777777778,
              "#fb9f3a"
             ],
             [
              0.8888888888888888,
              "#fdca26"
             ],
             [
              1,
              "#f0f921"
             ]
            ],
            "type": "histogram2d"
           }
          ],
          "histogram2dcontour": [
           {
            "colorbar": {
             "outlinewidth": 0,
             "ticks": ""
            },
            "colorscale": [
             [
              0,
              "#0d0887"
             ],
             [
              0.1111111111111111,
              "#46039f"
             ],
             [
              0.2222222222222222,
              "#7201a8"
             ],
             [
              0.3333333333333333,
              "#9c179e"
             ],
             [
              0.4444444444444444,
              "#bd3786"
             ],
             [
              0.5555555555555556,
              "#d8576b"
             ],
             [
              0.6666666666666666,
              "#ed7953"
             ],
             [
              0.7777777777777778,
              "#fb9f3a"
             ],
             [
              0.8888888888888888,
              "#fdca26"
             ],
             [
              1,
              "#f0f921"
             ]
            ],
            "type": "histogram2dcontour"
           }
          ],
          "mesh3d": [
           {
            "colorbar": {
             "outlinewidth": 0,
             "ticks": ""
            },
            "type": "mesh3d"
           }
          ],
          "parcoords": [
           {
            "line": {
             "colorbar": {
              "outlinewidth": 0,
              "ticks": ""
             }
            },
            "type": "parcoords"
           }
          ],
          "pie": [
           {
            "automargin": true,
            "type": "pie"
           }
          ],
          "scatter": [
           {
            "fillpattern": {
             "fillmode": "overlay",
             "size": 10,
             "solidity": 0.2
            },
            "type": "scatter"
           }
          ],
          "scatter3d": [
           {
            "line": {
             "colorbar": {
              "outlinewidth": 0,
              "ticks": ""
             }
            },
            "marker": {
             "colorbar": {
              "outlinewidth": 0,
              "ticks": ""
             }
            },
            "type": "scatter3d"
           }
          ],
          "scattercarpet": [
           {
            "marker": {
             "colorbar": {
              "outlinewidth": 0,
              "ticks": ""
             }
            },
            "type": "scattercarpet"
           }
          ],
          "scattergeo": [
           {
            "marker": {
             "colorbar": {
              "outlinewidth": 0,
              "ticks": ""
             }
            },
            "type": "scattergeo"
           }
          ],
          "scattergl": [
           {
            "marker": {
             "colorbar": {
              "outlinewidth": 0,
              "ticks": ""
             }
            },
            "type": "scattergl"
           }
          ],
          "scattermap": [
           {
            "marker": {
             "colorbar": {
              "outlinewidth": 0,
              "ticks": ""
             }
            },
            "type": "scattermap"
           }
          ],
          "scattermapbox": [
           {
            "marker": {
             "colorbar": {
              "outlinewidth": 0,
              "ticks": ""
             }
            },
            "type": "scattermapbox"
           }
          ],
          "scatterpolar": [
           {
            "marker": {
             "colorbar": {
              "outlinewidth": 0,
              "ticks": ""
             }
            },
            "type": "scatterpolar"
           }
          ],
          "scatterpolargl": [
           {
            "marker": {
             "colorbar": {
              "outlinewidth": 0,
              "ticks": ""
             }
            },
            "type": "scatterpolargl"
           }
          ],
          "scatterternary": [
           {
            "marker": {
             "colorbar": {
              "outlinewidth": 0,
              "ticks": ""
             }
            },
            "type": "scatterternary"
           }
          ],
          "surface": [
           {
            "colorbar": {
             "outlinewidth": 0,
             "ticks": ""
            },
            "colorscale": [
             [
              0,
              "#0d0887"
             ],
             [
              0.1111111111111111,
              "#46039f"
             ],
             [
              0.2222222222222222,
              "#7201a8"
             ],
             [
              0.3333333333333333,
              "#9c179e"
             ],
             [
              0.4444444444444444,
              "#bd3786"
             ],
             [
              0.5555555555555556,
              "#d8576b"
             ],
             [
              0.6666666666666666,
              "#ed7953"
             ],
             [
              0.7777777777777778,
              "#fb9f3a"
             ],
             [
              0.8888888888888888,
              "#fdca26"
             ],
             [
              1,
              "#f0f921"
             ]
            ],
            "type": "surface"
           }
          ],
          "table": [
           {
            "cells": {
             "fill": {
              "color": "#EBF0F8"
             },
             "line": {
              "color": "white"
             }
            },
            "header": {
             "fill": {
              "color": "#C8D4E3"
             },
             "line": {
              "color": "white"
             }
            },
            "type": "table"
           }
          ]
         },
         "layout": {
          "annotationdefaults": {
           "arrowcolor": "#2a3f5f",
           "arrowhead": 0,
           "arrowwidth": 1
          },
          "autotypenumbers": "strict",
          "coloraxis": {
           "colorbar": {
            "outlinewidth": 0,
            "ticks": ""
           }
          },
          "colorscale": {
           "diverging": [
            [
             0,
             "#8e0152"
            ],
            [
             0.1,
             "#c51b7d"
            ],
            [
             0.2,
             "#de77ae"
            ],
            [
             0.3,
             "#f1b6da"
            ],
            [
             0.4,
             "#fde0ef"
            ],
            [
             0.5,
             "#f7f7f7"
            ],
            [
             0.6,
             "#e6f5d0"
            ],
            [
             0.7,
             "#b8e186"
            ],
            [
             0.8,
             "#7fbc41"
            ],
            [
             0.9,
             "#4d9221"
            ],
            [
             1,
             "#276419"
            ]
           ],
           "sequential": [
            [
             0,
             "#0d0887"
            ],
            [
             0.1111111111111111,
             "#46039f"
            ],
            [
             0.2222222222222222,
             "#7201a8"
            ],
            [
             0.3333333333333333,
             "#9c179e"
            ],
            [
             0.4444444444444444,
             "#bd3786"
            ],
            [
             0.5555555555555556,
             "#d8576b"
            ],
            [
             0.6666666666666666,
             "#ed7953"
            ],
            [
             0.7777777777777778,
             "#fb9f3a"
            ],
            [
             0.8888888888888888,
             "#fdca26"
            ],
            [
             1,
             "#f0f921"
            ]
           ],
           "sequentialminus": [
            [
             0,
             "#0d0887"
            ],
            [
             0.1111111111111111,
             "#46039f"
            ],
            [
             0.2222222222222222,
             "#7201a8"
            ],
            [
             0.3333333333333333,
             "#9c179e"
            ],
            [
             0.4444444444444444,
             "#bd3786"
            ],
            [
             0.5555555555555556,
             "#d8576b"
            ],
            [
             0.6666666666666666,
             "#ed7953"
            ],
            [
             0.7777777777777778,
             "#fb9f3a"
            ],
            [
             0.8888888888888888,
             "#fdca26"
            ],
            [
             1,
             "#f0f921"
            ]
           ]
          },
          "colorway": [
           "#636efa",
           "#EF553B",
           "#00cc96",
           "#ab63fa",
           "#FFA15A",
           "#19d3f3",
           "#FF6692",
           "#B6E880",
           "#FF97FF",
           "#FECB52"
          ],
          "font": {
           "color": "#2a3f5f"
          },
          "geo": {
           "bgcolor": "white",
           "lakecolor": "white",
           "landcolor": "#E5ECF6",
           "showlakes": true,
           "showland": true,
           "subunitcolor": "white"
          },
          "hoverlabel": {
           "align": "left"
          },
          "hovermode": "closest",
          "mapbox": {
           "style": "light"
          },
          "paper_bgcolor": "white",
          "plot_bgcolor": "#E5ECF6",
          "polar": {
           "angularaxis": {
            "gridcolor": "white",
            "linecolor": "white",
            "ticks": ""
           },
           "bgcolor": "#E5ECF6",
           "radialaxis": {
            "gridcolor": "white",
            "linecolor": "white",
            "ticks": ""
           }
          },
          "scene": {
           "xaxis": {
            "backgroundcolor": "#E5ECF6",
            "gridcolor": "white",
            "gridwidth": 2,
            "linecolor": "white",
            "showbackground": true,
            "ticks": "",
            "zerolinecolor": "white"
           },
           "yaxis": {
            "backgroundcolor": "#E5ECF6",
            "gridcolor": "white",
            "gridwidth": 2,
            "linecolor": "white",
            "showbackground": true,
            "ticks": "",
            "zerolinecolor": "white"
           },
           "zaxis": {
            "backgroundcolor": "#E5ECF6",
            "gridcolor": "white",
            "gridwidth": 2,
            "linecolor": "white",
            "showbackground": true,
            "ticks": "",
            "zerolinecolor": "white"
           }
          },
          "shapedefaults": {
           "line": {
            "color": "#2a3f5f"
           }
          },
          "ternary": {
           "aaxis": {
            "gridcolor": "white",
            "linecolor": "white",
            "ticks": ""
           },
           "baxis": {
            "gridcolor": "white",
            "linecolor": "white",
            "ticks": ""
           },
           "bgcolor": "#E5ECF6",
           "caxis": {
            "gridcolor": "white",
            "linecolor": "white",
            "ticks": ""
           }
          },
          "title": {
           "x": 0.05
          },
          "xaxis": {
           "automargin": true,
           "gridcolor": "white",
           "linecolor": "white",
           "ticks": "",
           "title": {
            "standoff": 15
           },
           "zerolinecolor": "white",
           "zerolinewidth": 2
          },
          "yaxis": {
           "automargin": true,
           "gridcolor": "white",
           "linecolor": "white",
           "ticks": "",
           "title": {
            "standoff": 15
           },
           "zerolinecolor": "white",
           "zerolinewidth": 2
          }
         }
        },
        "title": {
         "text": "Fruit Sales"
        },
        "xaxis": {
         "title": {
          "text": "Fruit"
         }
        },
        "yaxis": {
         "title": {
          "text": "Quantity Sold"
         }
        }
       }
      },
      "image/png": "[encoded data removed]"
     },
     "metadata": {},
     "output_type": "display_data"
    }
   ],
   "source": [
    "# 5. Generate a bar plot using Plotly.\n",
    "\n",
    "# 5.\n",
    "import plotly.graph_objects as go\n",
    "\n",
    "# Sample data\n",
    "categories = ['Apples', 'Bananas', 'Cherries', 'Dates']\n",
    "values = [10, 15, 7, 12]\n",
    "\n",
    "# Create bar plot\n",
    "fig = go.Figure(data=[go.Bar(\n",
    "    x=categories,\n",
    "    y=values,\n",
    "    marker_color='indianred'  # Optional: customize color\n",
    ")])\n",
    "\n",
    "# Update layout\n",
    "fig.update_layout(\n",
    "    title='Fruit Sales',\n",
    "    xaxis_title='Fruit',\n",
    "    yaxis_title='Quantity Sold'\n",
    ")\n",
    "\n",
    "fig.show()"
   ]
  },
  {
   "cell_type": "code",
   "execution_count": 29,
   "id": "6a1426d9-1633-4408-8861-4a20d05718c0",
   "metadata": {},
   "outputs": [
    {
     "name": "stdout",
     "output_type": "stream",
     "text": [
      "      Name  Score Grade\n",
      "0    Alice     85     B\n",
      "1      Bob     92     A\n",
      "2  Charlie     78     C\n",
      "3    David     88     B\n"
     ]
    }
   ],
   "source": [
    "# 6. Create a DataFrame and add a new column based on an existing column.\n",
    "\n",
    "# 6.\n",
    "import pandas as pd\n",
    "\n",
    "# Step 1: Create a DataFrame\n",
    "data = {\n",
    "    'Name': ['Alice', 'Bob', 'Charlie', 'David'],\n",
    "    'Score': [85, 92, 78, 88]\n",
    "}\n",
    "\n",
    "df = pd.DataFrame(data)\n",
    "\n",
    "# Step 2: Add a new column based on the 'Score' column\n",
    "# For example: grade based on score\n",
    "df['Grade'] = df['Score'].apply(lambda x: 'A' if x >= 90 else ('B' if x >= 80 else 'C'))\n",
    "\n",
    "# Step 3: Display the DataFrame\n",
    "print(df)"
   ]
  },
  {
   "cell_type": "code",
   "execution_count": 31,
   "id": "fa345f19-0b5f-49fa-889d-fbbf7b8fee81",
   "metadata": {},
   "outputs": [
    {
     "name": "stdout",
     "output_type": "stream",
     "text": [
      "Array 1: [2 4 6 8]\n",
      "Array 2: [1 3 5 7]\n",
      "Element-wise Multiplication: [ 2 12 30 56]\n"
     ]
    }
   ],
   "source": [
    "# 7. Write a program to perform element-wise multiplication of two NumPy arrays.\n",
    "\n",
    "# 7.\n",
    "import numpy as np\n",
    "\n",
    "# Define two NumPy arrays\n",
    "array1 = np.array([2, 4, 6, 8])\n",
    "array2 = np.array([1, 3, 5, 7])\n",
    "\n",
    "# Perform element-wise multiplication\n",
    "result = array1 * array2\n",
    "\n",
    "# Display the result\n",
    "print(\"Array 1:\", array1)\n",
    "print(\"Array 2:\", array2)\n",
    "print(\"Element-wise Multiplication:\", result)"
   ]
  },
  {
   "cell_type": "code",
   "execution_count": 86,
   "id": "17f27fc6-432c-4a9c-b29e-2d7ec449912f",
   "metadata": {},
   "outputs": [
    {
     "data": {
      "image/png": "[encoded data removed]",
      "text/plain": [
       "<Figure size 640x480 with 1 Axes>"
      ]
     },
     "metadata": {},
     "output_type": "display_data"
    }
   ],
   "source": [
    "# 8. Create a line plot with multiple lines using Matplotlib.\n",
    "\n",
    "# 8.\n",
    "import matplotlib.pyplot as plt\n",
    "\n",
    "# Sample data\n",
    "years = [2020, 2021, 2022, 2023, 2024]\n",
    "sales_A = [100, 150, 200, 250, 300]\n",
    "sales_B = [90, 140, 190, 240, 290]\n",
    "\n",
    "# Create the plot\n",
    "plt.plot(years, sales_A, label='Product A', marker='o', color='blue')\n",
    "plt.plot(years, sales_B, label='Product B', marker='s', color='green')\n",
    "\n",
    "# Add labels and title\n",
    "plt.xlabel('Year')\n",
    "plt.ylabel('Sales')\n",
    "plt.title('Sales Over Years')\n",
    "plt.legend()\n",
    "\n",
    "# Display the plot\n",
    "plt.grid(True)\n",
    "plt.tight_layout()\n",
    "plt.show()"
   ]
  },
  {
   "cell_type": "code",
   "execution_count": 87,
   "id": "a1e066a7-3cea-4b18-ae09-d0fc917117f5",
   "metadata": {},
   "outputs": [
    {
     "name": "stdout",
     "output_type": "stream",
     "text": [
      "Original DataFrame:\n",
      "          Name  Score\n",
      "0        Tarun     85\n",
      "1  Jawan Singh     92\n",
      "2  Rajat Singh     78\n",
      "3          Dev     88\n",
      "4        Sumit     65\n",
      "\n",
      "Filtered DataFrame (Score > 80):\n",
      "          Name  Score\n",
      "0        Tarun     85\n",
      "1  Jawan Singh     92\n",
      "3          Dev     88\n"
     ]
    }
   ],
   "source": [
    "# 9. Generate a Pandas DataFrame and filter rows where a column value is greater than a threshol.\n",
    "\n",
    "# 9. \n",
    "import pandas as pd\n",
    "\n",
    "# Step 1: Create a sample DataFrame\n",
    "data = {\n",
    "    'Name': ['Tarun', 'Jawan Singh', 'Rajat Singh', 'Dev', 'Sumit'],\n",
    "    'Score': [85, 92, 78, 88, 65]\n",
    "}\n",
    "\n",
    "df = pd.DataFrame(data)\n",
    "\n",
    "# Step 2: Filter rows where 'Score' > 80\n",
    "threshold = 80\n",
    "filtered_df = df[df['Score'] > threshold]\n",
    "\n",
    "# Step 3: Display the filtered DataFrame\n",
    "print(\"Original DataFrame:\")\n",
    "print(df)\n",
    "\n",
    "print(\"\\nFiltered DataFrame (Score > 80):\")\n",
    "print(filtered_df)"
   ]
  },
  {
   "cell_type": "code",
   "execution_count": 35,
   "id": "7abe7bce-518f-4e90-94d6-0a1e504f3ebd",
   "metadata": {},
   "outputs": [
    {
     "data": {
      "image/png": "[encoded data removed]",
      "text/plain": [
       "<Figure size 640x480 with 1 Axes>"
      ]
     },
     "metadata": {},
     "output_type": "display_data"
    }
   ],
   "source": [
    "# 10. Create a histogram using Seaborn to visualize a distribution.\n",
    "\n",
    "# 10. \n",
    "import seaborn as sns\n",
    "import matplotlib.pyplot as plt\n",
    "\n",
    "# Sample data: exam scores\n",
    "scores = [65, 70, 72, 75, 78, 80, 82, 85, 88, 90, 92, 95, 97, 99, 100]\n",
    "\n",
    "# Create the histogram\n",
    "sns.histplot(scores, bins=8, kde=True, color='skyblue')\n",
    "\n",
    "# Add titles and labels\n",
    "plt.title('Distribution of Exam Scores')\n",
    "plt.xlabel('Score')\n",
    "plt.ylabel('Frequency')\n",
    "\n",
    "# Show the plot\n",
    "plt.show()"
   ]
  },
  {
   "cell_type": "code",
   "execution_count": 36,
   "id": "ba1f73d5-c986-4868-a913-c87711f3a61c",
   "metadata": {},
   "outputs": [
    {
     "name": "stdout",
     "output_type": "stream",
     "text": [
      "Matrix A:\n",
      "[[1 2]\n",
      " [3 4]]\n",
      "\n",
      "Matrix B:\n",
      "[[5 6]\n",
      " [7 8]]\n",
      "\n",
      "Matrix Multiplication (A × B):\n",
      "[[19 22]\n",
      " [43 50]]\n"
     ]
    }
   ],
   "source": [
    "# 11. Perform matrix multiplication using NumPy.\n",
    "\n",
    "#11. \n",
    "import numpy as np\n",
    "\n",
    "# Define two matrices\n",
    "A = np.array([[1, 2],\n",
    "              [3, 4]])\n",
    "\n",
    "B = np.array([[5, 6],\n",
    "              [7, 8]])\n",
    "\n",
    "# Perform matrix multiplication\n",
    "result = np.dot(A, B)\n",
    "# Or alternatively: result = A @ B\n",
    "\n",
    "# Display the result\n",
    "print(\"Matrix A:\")\n",
    "print(A)\n",
    "\n",
    "print(\"\\nMatrix B:\")\n",
    "print(B)\n",
    "\n",
    "print(\"\\nMatrix Multiplication (A × B):\")\n",
    "print(result)"
   ]
  },
  {
   "cell_type": "code",
   "execution_count": 88,
   "id": "e551b50e-d98a-4990-98e9-2915ab691e34",
   "metadata": {},
   "outputs": [
    {
     "name": "stdout",
     "output_type": "stream",
     "text": [
      "         Name   Age Rank\n",
      "0  Jawan Singh   27  1st\n",
      "1  Rajat Singh   28  2nd\n",
      "2        Tarun   26  3rd\n",
      "3        Rahul   30  4th\n",
      "4          Dev   25  5th\n"
     ]
    }
   ],
   "source": [
    "# 12. Use Pandas to load a CSV file and display its first 5 rows.\n",
    "\n",
    "# 12.\n",
    "import pandas as pd\n",
    "df = pd.read_csv('your_file.csv')\n",
    "print(df.head())"
   ]
  },
  {
   "cell_type": "code",
   "execution_count": 68,
   "id": "fa08103a-9319-42b1-aca1-e36f84df2183",
   "metadata": {},
   "outputs": [
    {
     "data": {
      "application/vnd.plotly.v1+json": {
       "config": {
        "plotlyServerURL": "https://plot.ly"
       },
       "data": [
        {
         "marker": {
          "color": {
           "bdata": "n1sP3Kyg17/vF4QV+qPOv2kVEak0mPE/Gay2pOv35D+NSTcc9XvkPyknFk0N3/m/t2vtkvLomL/wN0//8p3nv80kj91I6tE/Zi2bSWIgub+UiHiELyDtP+dL/KBNTdQ/NQcmQpkp6T+yfK17z9ndv/nzv1rnOO6/vouCEUE+2r/f2pijzG2Rv92QG6QFRNg/4jc2khATAkAfJM+4uqKlv46EPPgZl+6/DQTpvpAk1r/PYWpzjqvdv2Yp36uX0N4/kQYtxRqn+L8GkCsk8DGwP7/yFf9nCMQ/TaSdshu4zT/Cm7KWNh3jv8ioHCA4dM6/23h5F/TI9r9HdWCPjZLfv78AuAcfX+G/hkuMX5Cg2j9oKE4muX/yv6JVUSmT/+g/dnwvoGjp9z+WJA1PVI8AwPDjFLPSR9s/SVgbCjup5T/wM0BV4mXkv5iLisLmbNm/bTmBEzsCwb/Q9QR6AQ/Tv1k5BlXextO/UIoCXunQ+r+oRQ4582/yPzc6DyUeRvE/342gexQH6r+Ahx9beXb3vyKvbj+QrOA/FuB45Nps4r80ZANxhSvCP5SVFHXgb9S/nWv43xUh5j9Ppl2OYjvmP84PUv4XOOe/AzEuPkIi9r91MII2t1P5vyhi7VU6iOM/9ar7SJEF879VTlnu1jfgv8BMqS0BFeO/ZDmixBnqqr9xQaCIAPv+v5sGtaXlKcg/2CXBG7fD4D+r0xl01KK2PxVPDh2P5dO/1de/oDfvuD8CNgev+YnZP+fUbxxFLgbAWX1ctGpL/z+hSdX7SffYP1Jsn/aH4OS/mEIsTmEF2b8ujpgcd5nfP77hFt38uL2/+O6Mf9c+AMDw6FLVFIQAQNYasXtkTLy/uHQRn6BS8D+R8e24RSXmv+P3JBsAlfg/blXNenRT0j+AL64QpnvjP04p+pdbufC/L0Qe4tlg8z8hoxuL/RLmP/RwRrZc1PQ/xuv1FEsZ5L8MzpH3JcnevzgWquBrbgJAJk69JtP18L+BPSi/zGbBvzq8V/+0MPI/l4RW5IAEuT+x8bN5jqfiP3yXRqmSkNm/XtT/4/6u1z8=",
           "dtype": "f8"
          },
          "colorscale": [
           [
            0,
            "#440154"
           ],
           [
            0.1111111111111111,
            "#482878"
           ],
           [
            0.2222222222222222,
            "#3e4989"
           ],
           [
            0.3333333333333333,
            "#31688e"
           ],
           [
            0.4444444444444444,
            "#26828e"
           ],
           [
            0.5555555555555556,
            "#1f9e89"
           ],
           [
            0.6666666666666666,
            "#35b779"
           ],
           [
            0.7777777777777778,
            "#6ece58"
           ],
           [
            0.8888888888888888,
            "#b5de2b"
           ],
           [
            1,
            "#fde725"
           ]
          ],
          "opacity": 0.8,
          "size": 5
         },
         "mode": "markers",
         "type": "scatter3d",
         "x": {
          "bdata": "pc/l8445/D9Ticz6LJzZP6vJIlLSUe8/TjHjaVntAUDaPbF8hOH9P4KMpULcRe+/6ZUy0x9n7j82hNNJrF/Dv1m0yPiMbLq/Ziln8D5H2j/t4aoNBXDCP/eF/Uu0RPc/E+qQyWta6D+Qs5MIGCa/P8t1IlVBaNw/5JXlkOta1T87mU11v+f3P7ZqsECgQsq/hJEBHU0J1D/whX6WwFTrvzo6sOyFbATAZilvi3Hq5D9skHIadqnrP9kvXNvQv+e/vcW/HHUoAkANOg3xFEX3v111pQ6pbac/OKQZ8aP1x7/Hh1p/Q4b4Pw4AbVd+gvc/z9v7NlHVwz8z6pCR0DPYP8qj/ae9aOy/eN0wo1ex/79FKc9RMUTWv+5OiDY+A8Q/RcnkR0Wv8z8kYP6m8jzzP/hgaGv2ydi/9Y/Nou1Y079TZFF538bwv12sfrpkuPa/YPyt+OFM+7/MysVCYDb/PzarnhcST+C/Zdaoy2gJ3L9u678lcwv0v1EcaHQz4eg/BIqljIbS+b+jygfREjvLvyKhX32pp+y/mvXCsQLD2D8/lg8EhFjgv66StpLe4/K/E/UrVM3bnL9Cz/ATymnbP7Wnwc5FB7E/ORcwF7Nb0z/5re/YXUzkv3r4NLkmN9e/pKPhxcuE5b+mXH9D6wLXv2fWB1pLBeq/drGKgdqe+79PuDdb5rXGP4XtSmPHttm/FWaj3EoV+r+Jvyl3OZ7dP6ywV5SWCO2/CpA+QJaYqj8p/gu7tVTnP2UVuRODgsA/sXRSNvw68j8Rziq42MHzv25Mqyf3v9k/3OYR2vbp5b969aX7kd3rv9zWbrvvheK/iEYeCHrw078+PxcotMGsP32q0Sh0pPK/fNeaEZLT7D+ci2fVac3dP170c0J0lPi/ctZIiOHP9z+TRH7jj1X+P3wttfdH3PI/Cq/G6sYHx7+d5zeAzSHxv0sUJsYI3/A/SA9wrqbN2b/gLuePIo/zP1ImtSXBqMo/Ujk2gqBA7z9KeVABtc7WP2GyM1U/nOY/zHLT7AiBhT+LeGPw7JL8PwSC0MunPsA/NW5VmDG62T8=",
          "dtype": "f8"
         },
         "y": {
          "bdata": "Tb0UoGIh/j9b6SfOa5D1v5vg6BPoU/S/WXDMPkwF7z8aMzIMHcXyv8TSQocSGf8/yozXvrt42r9iB0xaJuvnvz9lvdtexP4/JUgnRzCw9z9bJCaBheH9P8tDAF5R/uw/5R/5KimP67/svKxEoI/+P0YNXZz3JtG/aSsNCbmt6T/ZHdVb40/uP5YBMOhe18O/KByZx4mm4z/3/9CQt4LtP8dXbBxbF9g/LxeMSCWX8b+LjyiRVRbTP8dXAmvgOPU/CcRMYOY55r9smIeAOSfDv8l9WEiO2du/+vY3kJWW/T9tgFRLcIPlP+yDQc/aE9o/5AgNCSej6L8LxR+Fh0HhPzS9hBYilOW/W4CaTRhMoD8vq/3f2Vjkv0oQ929XpeU/lB+RlW5z4j9eo4CbiKnKvwM1+IksWNk/GjmIEC598b/0UOnrMNz3v8MoxF7+Htw/HxXenY5VxT+CRaxyLVLkPy1kLTWuEANA4ruLCy057j/3Bqv01jXtvzqJp3hM3/E/YWDL7fQN9b9kCoEnmordv1uIGCdIeLG/ty3FDtpp+z8skIcQCNXnv1U59jsvcuq/2amdRC80ub8EAbHQNjvlv9gjf2OzBvI/I3TlQmZH8b9up/QWCFzyv3x6bV0+Bdy/3X0EgMPf37+FpLsAXd/+PxhrfL6nYe4/oT15FsJptj/Dt0tGYpvzv7UhM4EFBes/Z+3fzuEA8L9MdMflYbf4v5o6DYcrAvM/YkQ7qslI1D+D5IvsrHftP7wmbqsIZtQ/5K0KCChr6z/7qAKgM9Xkv85h2ThCjPC/+OCkTp/P5T/8Vx0viLXpv3fWDLLKEOa/v843zXEn3b/ILn+BDuaRPxtH9BPWp9a/Myxt7cz/9b8vrOiehZjkv40EhZeHyQHA6PRSY+UB5D/XMlI1B6L5v7p6Ud2Nq/G/l5jWmmG1qj98o1oEgKrnv5RciBIwsPg/prcauoqv9L9tR46HXBfRP4TiKafgHKS/xH+3zoKw8r+nzvexrr7gP2KWLO069cW/bGIaGYKy6D+5nixiJVrqP2CJPaZOTgFA1E6QIWti9T8=",
          "dtype": "f8"
         },
         "z": {
          "bdata": "n1sP3Kyg17/vF4QV+qPOv2kVEak0mPE/Gay2pOv35D+NSTcc9XvkPyknFk0N3/m/t2vtkvLomL/wN0//8p3nv80kj91I6tE/Zi2bSWIgub+UiHiELyDtP+dL/KBNTdQ/NQcmQpkp6T+yfK17z9ndv/nzv1rnOO6/vouCEUE+2r/f2pijzG2Rv92QG6QFRNg/4jc2khATAkAfJM+4uqKlv46EPPgZl+6/DQTpvpAk1r/PYWpzjqvdv2Yp36uX0N4/kQYtxRqn+L8GkCsk8DGwP7/yFf9nCMQ/TaSdshu4zT/Cm7KWNh3jv8ioHCA4dM6/23h5F/TI9r9HdWCPjZLfv78AuAcfX+G/hkuMX5Cg2j9oKE4muX/yv6JVUSmT/+g/dnwvoGjp9z+WJA1PVI8AwPDjFLPSR9s/SVgbCjup5T/wM0BV4mXkv5iLisLmbNm/bTmBEzsCwb/Q9QR6AQ/Tv1k5BlXextO/UIoCXunQ+r+oRQ4582/yPzc6DyUeRvE/342gexQH6r+Ahx9beXb3vyKvbj+QrOA/FuB45Nps4r80ZANxhSvCP5SVFHXgb9S/nWv43xUh5j9Ppl2OYjvmP84PUv4XOOe/AzEuPkIi9r91MII2t1P5vyhi7VU6iOM/9ar7SJEF879VTlnu1jfgv8BMqS0BFeO/ZDmixBnqqr9xQaCIAPv+v5sGtaXlKcg/2CXBG7fD4D+r0xl01KK2PxVPDh2P5dO/1de/oDfvuD8CNgev+YnZP+fUbxxFLgbAWX1ctGpL/z+hSdX7SffYP1Jsn/aH4OS/mEIsTmEF2b8ujpgcd5nfP77hFt38uL2/+O6Mf9c+AMDw6FLVFIQAQNYasXtkTLy/uHQRn6BS8D+R8e24RSXmv+P3JBsAlfg/blXNenRT0j+AL64QpnvjP04p+pdbufC/L0Qe4tlg8z8hoxuL/RLmP/RwRrZc1PQ/xuv1FEsZ5L8MzpH3JcnevzgWquBrbgJAJk69JtP18L+BPSi/zGbBvzq8V/+0MPI/l4RW5IAEuT+x8bN5jqfiP3yXRqmSkNm/XtT/4/6u1z8=",
          "dtype": "f8"
         }
        }
       ],
       "layout": {
        "scene": {
         "xaxis": {
          "title": {
           "text": "X Axis"
          }
         },
         "yaxis": {
          "title": {
           "text": "Y Axis"
          }
         },
         "zaxis": {
          "title": {
           "text": "Z Axis"
          }
         }
        },
        "template": {
         "data": {
          "bar": [
           {
            "error_x": {
             "color": "#2a3f5f"
            },
            "error_y": {
             "color": "#2a3f5f"
            },
            "marker": {
             "line": {
              "color": "#E5ECF6",
              "width": 0.5
             },
             "pattern": {
              "fillmode": "overlay",
              "size": 10,
              "solidity": 0.2
             }
            },
            "type": "bar"
           }
          ],
          "barpolar": [
           {
            "marker": {
             "line": {
              "color": "#E5ECF6",
              "width": 0.5
             },
             "pattern": {
              "fillmode": "overlay",
              "size": 10,
              "solidity": 0.2
             }
            },
            "type": "barpolar"
           }
          ],
          "carpet": [
           {
            "aaxis": {
             "endlinecolor": "#2a3f5f",
             "gridcolor": "white",
             "linecolor": "white",
             "minorgridcolor": "white",
             "startlinecolor": "#2a3f5f"
            },
            "baxis": {
             "endlinecolor": "#2a3f5f",
             "gridcolor": "white",
             "linecolor": "white",
             "minorgridcolor": "white",
             "startlinecolor": "#2a3f5f"
            },
            "type": "carpet"
           }
          ],
          "choropleth": [
           {
            "colorbar": {
             "outlinewidth": 0,
             "ticks": ""
            },
            "type": "choropleth"
           }
          ],
          "contour": [
           {
            "colorbar": {
             "outlinewidth": 0,
             "ticks": ""
            },
            "colorscale": [
             [
              0,
              "#0d0887"
             ],
             [
              0.1111111111111111,
              "#46039f"
             ],
             [
              0.2222222222222222,
              "#7201a8"
             ],
             [
              0.3333333333333333,
              "#9c179e"
             ],
             [
              0.4444444444444444,
              "#bd3786"
             ],
             [
              0.5555555555555556,
              "#d8576b"
             ],
             [
              0.6666666666666666,
              "#ed7953"
             ],
             [
              0.7777777777777778,
              "#fb9f3a"
             ],
             [
              0.8888888888888888,
              "#fdca26"
             ],
             [
              1,
              "#f0f921"
             ]
            ],
            "type": "contour"
           }
          ],
          "contourcarpet": [
           {
            "colorbar": {
             "outlinewidth": 0,
             "ticks": ""
            },
            "type": "contourcarpet"
           }
          ],
          "heatmap": [
           {
            "colorbar": {
             "outlinewidth": 0,
             "ticks": ""
            },
            "colorscale": [
             [
              0,
              "#0d0887"
             ],
             [
              0.1111111111111111,
              "#46039f"
             ],
             [
              0.2222222222222222,
              "#7201a8"
             ],
             [
              0.3333333333333333,
              "#9c179e"
             ],
             [
              0.4444444444444444,
              "#bd3786"
             ],
             [
              0.5555555555555556,
              "#d8576b"
             ],
             [
              0.6666666666666666,
              "#ed7953"
             ],
             [
              0.7777777777777778,
              "#fb9f3a"
             ],
             [
              0.8888888888888888,
              "#fdca26"
             ],
             [
              1,
              "#f0f921"
             ]
            ],
            "type": "heatmap"
           }
          ],
          "histogram": [
           {
            "marker": {
             "pattern": {
              "fillmode": "overlay",
              "size": 10,
              "solidity": 0.2
             }
            },
            "type": "histogram"
           }
          ],
          "histogram2d": [
           {
            "colorbar": {
             "outlinewidth": 0,
             "ticks": ""
            },
            "colorscale": [
             [
              0,
              "#0d0887"
             ],
             [
              0.1111111111111111,
              "#46039f"
             ],
             [
              0.2222222222222222,
              "#7201a8"
             ],
             [
              0.3333333333333333,
              "#9c179e"
             ],
             [
              0.4444444444444444,
              "#bd3786"
             ],
             [
              0.5555555555555556,
              "#d8576b"
             ],
             [
              0.6666666666666666,
              "#ed7953"
             ],
             [
              0.7777777777777778,
              "#fb9f3a"
             ],
             [
              0.8888888888888888,
              "#fdca26"
             ],
             [
              1,
              "#f0f921"
             ]
            ],
            "type": "histogram2d"
           }
          ],
          "histogram2dcontour": [
           {
            "colorbar": {
             "outlinewidth": 0,
             "ticks": ""
            },
            "colorscale": [
             [
              0,
              "#0d0887"
             ],
             [
              0.1111111111111111,
              "#46039f"
             ],
             [
              0.2222222222222222,
              "#7201a8"
             ],
             [
              0.3333333333333333,
              "#9c179e"
             ],
             [
              0.4444444444444444,
              "#bd3786"
             ],
             [
              0.5555555555555556,
              "#d8576b"
             ],
             [
              0.6666666666666666,
              "#ed7953"
             ],
             [
              0.7777777777777778,
              "#fb9f3a"
             ],
             [
              0.8888888888888888,
              "#fdca26"
             ],
             [
              1,
              "#f0f921"
             ]
            ],
            "type": "histogram2dcontour"
           }
          ],
          "mesh3d": [
           {
            "colorbar": {
             "outlinewidth": 0,
             "ticks": ""
            },
            "type": "mesh3d"
           }
          ],
          "parcoords": [
           {
            "line": {
             "colorbar": {
              "outlinewidth": 0,
              "ticks": ""
             }
            },
            "type": "parcoords"
           }
          ],
          "pie": [
           {
            "automargin": true,
            "type": "pie"
           }
          ],
          "scatter": [
           {
            "fillpattern": {
             "fillmode": "overlay",
             "size": 10,
             "solidity": 0.2
            },
            "type": "scatter"
           }
          ],
          "scatter3d": [
           {
            "line": {
             "colorbar": {
              "outlinewidth": 0,
              "ticks": ""
             }
            },
            "marker": {
             "colorbar": {
              "outlinewidth": 0,
              "ticks": ""
             }
            },
            "type": "scatter3d"
           }
          ],
          "scattercarpet": [
           {
            "marker": {
             "colorbar": {
              "outlinewidth": 0,
              "ticks": ""
             }
            },
            "type": "scattercarpet"
           }
          ],
          "scattergeo": [
           {
            "marker": {
             "colorbar": {
              "outlinewidth": 0,
              "ticks": ""
             }
            },
            "type": "scattergeo"
           }
          ],
          "scattergl": [
           {
            "marker": {
             "colorbar": {
              "outlinewidth": 0,
              "ticks": ""
             }
            },
            "type": "scattergl"
           }
          ],
          "scattermap": [
           {
            "marker": {
             "colorbar": {
              "outlinewidth": 0,
              "ticks": ""
             }
            },
            "type": "scattermap"
           }
          ],
          "scattermapbox": [
           {
            "marker": {
             "colorbar": {
              "outlinewidth": 0,
              "ticks": ""
             }
            },
            "type": "scattermapbox"
           }
          ],
          "scatterpolar": [
           {
            "marker": {
             "colorbar": {
              "outlinewidth": 0,
              "ticks": ""
             }
            },
            "type": "scatterpolar"
           }
          ],
          "scatterpolargl": [
           {
            "marker": {
             "colorbar": {
              "outlinewidth": 0,
              "ticks": ""
             }
            },
            "type": "scatterpolargl"
           }
          ],
          "scatterternary": [
           {
            "marker": {
             "colorbar": {
              "outlinewidth": 0,
              "ticks": ""
             }
            },
            "type": "scatterternary"
           }
          ],
          "surface": [
           {
            "colorbar": {
             "outlinewidth": 0,
             "ticks": ""
            },
            "colorscale": [
             [
              0,
              "#0d0887"
             ],
             [
              0.1111111111111111,
              "#46039f"
             ],
             [
              0.2222222222222222,
              "#7201a8"
             ],
             [
              0.3333333333333333,
              "#9c179e"
             ],
             [
              0.4444444444444444,
              "#bd3786"
             ],
             [
              0.5555555555555556,
              "#d8576b"
             ],
             [
              0.6666666666666666,
              "#ed7953"
             ],
             [
              0.7777777777777778,
              "#fb9f3a"
             ],
             [
              0.8888888888888888,
              "#fdca26"
             ],
             [
              1,
              "#f0f921"
             ]
            ],
            "type": "surface"
           }
          ],
          "table": [
           {
            "cells": {
             "fill": {
              "color": "#EBF0F8"
             },
             "line": {
              "color": "white"
             }
            },
            "header": {
             "fill": {
              "color": "#C8D4E3"
             },
             "line": {
              "color": "white"
             }
            },
            "type": "table"
           }
          ]
         },
         "layout": {
          "annotationdefaults": {
           "arrowcolor": "#2a3f5f",
           "arrowhead": 0,
           "arrowwidth": 1
          },
          "autotypenumbers": "strict",
          "coloraxis": {
           "colorbar": {
            "outlinewidth": 0,
            "ticks": ""
           }
          },
          "colorscale": {
           "diverging": [
            [
             0,
             "#8e0152"
            ],
            [
             0.1,
             "#c51b7d"
            ],
            [
             0.2,
             "#de77ae"
            ],
            [
             0.3,
             "#f1b6da"
            ],
            [
             0.4,
             "#fde0ef"
            ],
            [
             0.5,
             "#f7f7f7"
            ],
            [
             0.6,
             "#e6f5d0"
            ],
            [
             0.7,
             "#b8e186"
            ],
            [
             0.8,
             "#7fbc41"
            ],
            [
             0.9,
             "#4d9221"
            ],
            [
             1,
             "#276419"
            ]
           ],
           "sequential": [
            [
             0,
             "#0d0887"
            ],
            [
             0.1111111111111111,
             "#46039f"
            ],
            [
             0.2222222222222222,
             "#7201a8"
            ],
            [
             0.3333333333333333,
             "#9c179e"
            ],
            [
             0.4444444444444444,
             "#bd3786"
            ],
            [
             0.5555555555555556,
             "#d8576b"
            ],
            [
             0.6666666666666666,
             "#ed7953"
            ],
            [
             0.7777777777777778,
             "#fb9f3a"
            ],
            [
             0.8888888888888888,
             "#fdca26"
            ],
            [
             1,
             "#f0f921"
            ]
           ],
           "sequentialminus": [
            [
             0,
             "#0d0887"
            ],
            [
             0.1111111111111111,
             "#46039f"
            ],
            [
             0.2222222222222222,
             "#7201a8"
            ],
            [
             0.3333333333333333,
             "#9c179e"
            ],
            [
             0.4444444444444444,
             "#bd3786"
            ],
            [
             0.5555555555555556,
             "#d8576b"
            ],
            [
             0.6666666666666666,
             "#ed7953"
            ],
            [
             0.7777777777777778,
             "#fb9f3a"
            ],
            [
             0.8888888888888888,
             "#fdca26"
            ],
            [
             1,
             "#f0f921"
            ]
           ]
          },
          "colorway": [
           "#636efa",
           "#EF553B",
           "#00cc96",
           "#ab63fa",
           "#FFA15A",
           "#19d3f3",
           "#FF6692",
           "#B6E880",
           "#FF97FF",
           "#FECB52"
          ],
          "font": {
           "color": "#2a3f5f"
          },
          "geo": {
           "bgcolor": "white",
           "lakecolor": "white",
           "landcolor": "#E5ECF6",
           "showlakes": true,
           "showland": true,
           "subunitcolor": "white"
          },
          "hoverlabel": {
           "align": "left"
          },
          "hovermode": "closest",
          "mapbox": {
           "style": "light"
          },
          "paper_bgcolor": "white",
          "plot_bgcolor": "#E5ECF6",
          "polar": {
           "angularaxis": {
            "gridcolor": "white",
            "linecolor": "white",
            "ticks": ""
           },
           "bgcolor": "#E5ECF6",
           "radialaxis": {
            "gridcolor": "white",
            "linecolor": "white",
            "ticks": ""
           }
          },
          "scene": {
           "xaxis": {
            "backgroundcolor": "#E5ECF6",
            "gridcolor": "white",
            "gridwidth": 2,
            "linecolor": "white",
            "showbackground": true,
            "ticks": "",
            "zerolinecolor": "white"
           },
           "yaxis": {
            "backgroundcolor": "#E5ECF6",
            "gridcolor": "white",
            "gridwidth": 2,
            "linecolor": "white",
            "showbackground": true,
            "ticks": "",
            "zerolinecolor": "white"
           },
           "zaxis": {
            "backgroundcolor": "#E5ECF6",
            "gridcolor": "white",
            "gridwidth": 2,
            "linecolor": "white",
            "showbackground": true,
            "ticks": "",
            "zerolinecolor": "white"
           }
          },
          "shapedefaults": {
           "line": {
            "color": "#2a3f5f"
           }
          },
          "ternary": {
           "aaxis": {
            "gridcolor": "white",
            "linecolor": "white",
            "ticks": ""
           },
           "baxis": {
            "gridcolor": "white",
            "linecolor": "white",
            "ticks": ""
           },
           "bgcolor": "#E5ECF6",
           "caxis": {
            "gridcolor": "white",
            "linecolor": "white",
            "ticks": ""
           }
          },
          "title": {
           "x": 0.05
          },
          "xaxis": {
           "automargin": true,
           "gridcolor": "white",
           "linecolor": "white",
           "ticks": "",
           "title": {
            "standoff": 15
           },
           "zerolinecolor": "white",
           "zerolinewidth": 2
          },
          "yaxis": {
           "automargin": true,
           "gridcolor": "white",
           "linecolor": "white",
           "ticks": "",
           "title": {
            "standoff": 15
           },
           "zerolinecolor": "white",
           "zerolinewidth": 2
          }
         }
        },
        "title": {
         "text": "3D Scatter Plot with Plotly"
        }
       }
      }
     },
     "metadata": {},
     "output_type": "display_data"
    }
   ],
   "source": [
    "# 13. Create a 3D scatter plot using Plotly.\n",
    "\n",
    "# 13.\n",
    "import plotly.graph_objects as go\n",
    "import numpy as np\n",
    "\n",
    "# Sample data\n",
    "np.random.seed(0)\n",
    "x = np.random.randn(100)\n",
    "y = np.random.randn(100)\n",
    "z = np.random.randn(100)\n",
    "\n",
    "# Create 3D scatter plot\n",
    "fig = go.Figure(data=[go.Scatter3d(\n",
    "    x=x,\n",
    "    y=y,\n",
    "    z=z,\n",
    "    mode='markers',\n",
    "    marker=dict(\n",
    "        size=5,\n",
    "        color=z,           # Color by z values\n",
    "        colorscale='Viridis',\n",
    "        opacity=0.8\n",
    "    )\n",
    ")])\n",
    "\n",
    "fig.update_layout(\n",
    "    scene=dict(\n",
    "        xaxis_title='X Axis',\n",
    "        yaxis_title='Y Axis',\n",
    "        zaxis_title='Z Axis'\n",
    "    ),\n",
    "    title='3D Scatter Plot with Plotly'\n",
    ")\n",
    "\n",
    "fig.show()"
   ]
  },
  {
   "cell_type": "code",
   "execution_count": null,
   "id": "97edf424-0e8e-4b62-b2c9-81918e37a7e7",
   "metadata": {},
   "outputs": [],
   "source": []
  }
 ],
 "metadata": {
  "kernelspec": {
   "display_name": "Python 3 (ipykernel)",
   "language": "python",
   "name": "python3"
  },
  "language_info": {
   "codemirror_mode": {
    "name": "ipython",
    "version": 3
   },
   "file_extension": ".py",
   "mimetype": "text/x-python",
   "name": "python",
   "nbconvert_exporter": "python",
   "pygments_lexer": "ipython3",
   "version": "3.13.2"
  }
 },
 "nbformat": 4,
 "nbformat_minor": 5
}
