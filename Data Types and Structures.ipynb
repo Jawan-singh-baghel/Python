{
 "cells": [
  {
   "cell_type": "code",
   "execution_count": null,
   "id": "e0e99e18-4681-4f19-9cd3-0c6936a330c8",
   "metadata": {},
   "outputs": [],
   "source": [
    "# Assignment No.2\n",
    "# Data Types and Structures"
   ]
  },
  {
   "cell_type": "code",
   "execution_count": null,
   "id": "dc64ce2f-7c48-4641-b911-22ef221862a2",
   "metadata": {},
   "outputs": [],
   "source": [
    "# 1. DP What are data structures, and why are they important?\n",
    "# 1. Data structures are ways to organize and store data so it can be used efficiently. \n",
    "# They are important because they improve the speed, efficiency, and clarity of programs. \n",
    "# Examples include arrays, lists, stacks, queues, and trees. \n",
    "# Choosing the right data structure helps solve problems faster and use resources better."
   ]
  },
  {
   "cell_type": "code",
   "execution_count": null,
   "id": "4fcff221-896c-41b0-84ad-0d4affeaf590",
   "metadata": {},
   "outputs": [],
   "source": [
    "# 2. Explain the difference between mutable and immutable data types with examples?\n",
    "# 2. Mutable data types can be changed after creation.\n",
    "# Immutable data types cannot be changed once created.\n",
    "\n",
    "# Examples:\n",
    "\n",
    "# Mutable:\n",
    "# List: You can change items.\n",
    "# Dictionary: You can add or remove key-value pairs."
   ]
  },
  {
   "cell_type": "code",
   "execution_count": 7,
   "id": "59fd0985-e899-4d3d-bfcc-c9cbd2fc0ede",
   "metadata": {},
   "outputs": [
    {
     "data": {
      "text/plain": [
       "[12, 2, 3]"
      ]
     },
     "execution_count": 7,
     "metadata": {},
     "output_type": "execute_result"
    }
   ],
   "source": [
    "my_list = [1, 2, 3]\n",
    "my_list[0]=12\n",
    "my_list"
   ]
  },
  {
   "cell_type": "code",
   "execution_count": null,
   "id": "3b5314a0-492f-4e2d-bdd6-d836bc5224cd",
   "metadata": {},
   "outputs": [],
   "source": [
    "# Immutable:\n",
    "\n",
    "# Tuple: You can't change items.\n",
    "# String: You can't change characters."
   ]
  },
  {
   "cell_type": "code",
   "execution_count": 10,
   "id": "d58ca630-188a-474a-95e8-6f7e90bb664f",
   "metadata": {},
   "outputs": [
    {
     "ename": "TypeError",
     "evalue": "'tuple' object does not support item assignment",
     "output_type": "error",
     "traceback": [
      "\u001b[31m---------------------------------------------------------------------------\u001b[39m",
      "\u001b[31mTypeError\u001b[39m                                 Traceback (most recent call last)",
      "\u001b[36mCell\u001b[39m\u001b[36m \u001b[39m\u001b[32mIn[10]\u001b[39m\u001b[32m, line 2\u001b[39m\n\u001b[32m      1\u001b[39m my_tuple = (\u001b[32m1\u001b[39m, \u001b[32m2\u001b[39m, \u001b[32m3\u001b[39m)\n\u001b[32m----> \u001b[39m\u001b[32m2\u001b[39m \u001b[43mmy_tuple\u001b[49m\u001b[43m[\u001b[49m\u001b[32;43m0\u001b[39;49m\u001b[43m]\u001b[49m = \u001b[32m10\u001b[39m\n",
      "\u001b[31mTypeError\u001b[39m: 'tuple' object does not support item assignment"
     ]
    }
   ],
   "source": [
    "my_tuple = (1, 2, 3)\n",
    "my_tuple[0] = 10"
   ]
  },
  {
   "cell_type": "code",
   "execution_count": null,
   "id": "359ce948-443d-47af-b06d-cbf7a0dee1d7",
   "metadata": {},
   "outputs": [],
   "source": [
    "# 3. What are the main differences between lists and tuples in Python?\n",
    "# 3. Difference Between Lists and Tuples in Python\n",
    "\n",
    "# Mutability:\n",
    "# List: Mutable – you can add, remove, or change items.\n",
    "# Tuple: Immutable – you cannot change the items once created.\n",
    "\n",
    "# Syntax:\n",
    "# List: Uses square brackets []\n",
    "# Example: my_list = [1, 2, 3]\n",
    "\n",
    "# Tuple: Uses parentheses ()\n",
    "# Example: my_tuple = (1, 2, 3)\n",
    "\n",
    "# Performance:\n",
    "# Lists are slower but more flexible.\n",
    "# Tuples are faster and use less memory.\n",
    "\n",
    "# Usage:\n",
    "# Use lists when data needs to change.\n",
    "# Use tuples when data should stay constant."
   ]
  },
  {
   "cell_type": "code",
   "execution_count": 15,
   "id": "71e542bd-a4d9-4292-868a-dd018dfb9b36",
   "metadata": {},
   "outputs": [
    {
     "data": {
      "text/plain": [
       "['orange', 'banana', 'mango']"
      ]
     },
     "execution_count": 15,
     "metadata": {},
     "output_type": "execute_result"
    }
   ],
   "source": [
    "# List example\n",
    "fruits = ['apple', 'banana', 'mango']\n",
    "fruits[0] = 'orange'\n",
    "fruits"
   ]
  },
  {
   "cell_type": "code",
   "execution_count": 16,
   "id": "60a54105-e492-4dc0-9d79-53911271b214",
   "metadata": {},
   "outputs": [
    {
     "ename": "TypeError",
     "evalue": "'tuple' object does not support item assignment",
     "output_type": "error",
     "traceback": [
      "\u001b[31m---------------------------------------------------------------------------\u001b[39m",
      "\u001b[31mTypeError\u001b[39m                                 Traceback (most recent call last)",
      "\u001b[36mCell\u001b[39m\u001b[36m \u001b[39m\u001b[32mIn[16]\u001b[39m\u001b[32m, line 3\u001b[39m\n\u001b[32m      1\u001b[39m \u001b[38;5;66;03m# Tuple example\u001b[39;00m\n\u001b[32m      2\u001b[39m colors = (\u001b[33m'\u001b[39m\u001b[33mred\u001b[39m\u001b[33m'\u001b[39m, \u001b[33m'\u001b[39m\u001b[33mgreen\u001b[39m\u001b[33m'\u001b[39m, \u001b[33m'\u001b[39m\u001b[33mblack\u001b[39m\u001b[33m'\u001b[39m)\n\u001b[32m----> \u001b[39m\u001b[32m3\u001b[39m \u001b[43mcolors\u001b[49m\u001b[43m[\u001b[49m\u001b[32;43m0\u001b[39;49m\u001b[43m]\u001b[49m = \u001b[33m'\u001b[39m\u001b[33myellow\u001b[39m\u001b[33m'\u001b[39m\n",
      "\u001b[31mTypeError\u001b[39m: 'tuple' object does not support item assignment"
     ]
    }
   ],
   "source": [
    "# Tuple example\n",
    "colors = ('red', 'green', 'black')\n",
    "colors[0] = 'yellow'"
   ]
  },
  {
   "cell_type": "code",
   "execution_count": null,
   "id": "a40fdf2e-94de-4749-80d0-8eaa9b3c06d9",
   "metadata": {},
   "outputs": [],
   "source": [
    "# In short:\n",
    "# Lists = changeable, Tuples = fixed."
   ]
  },
  {
   "cell_type": "code",
   "execution_count": null,
   "id": "a8cd6ab5-9151-40a0-8fd7-57bfe5d46e18",
   "metadata": {},
   "outputs": [],
   "source": [
    "# 4. Describe how dictionaries store data?\n",
    "# 4. A dictionary stores data as key-value pairs.\n",
    "# Python uses a hash table behind the scenes.\n",
    "# When you add a key, Python uses the hash() function to find where to store it.\n",
    "# The key is hashed to get an index in memory.\n",
    "# If two keys hash to the same spot (a collision), Python finds another place to store the new item.\n",
    "# Looking up a value by key is fast—usually done in constant time O(1)."
   ]
  },
  {
   "cell_type": "code",
   "execution_count": 18,
   "id": "752ea9f1-0e19-4665-ac9a-4b73ee7207a6",
   "metadata": {},
   "outputs": [
    {
     "name": "stdout",
     "output_type": "stream",
     "text": [
      "30\n"
     ]
    }
   ],
   "source": [
    "# Example:\n",
    "my_dict = {'name': 'jawan', 'age': 30}\n",
    "print(my_dict['age'])"
   ]
  },
  {
   "cell_type": "code",
   "execution_count": 19,
   "id": "87bdfa26-4f63-484e-b9c4-aa99d88bb3f7",
   "metadata": {},
   "outputs": [],
   "source": [
    "# 5. Why might you use a set instead of a list in Python?\n",
    "# 5. Use a set when you need:\n",
    "# No duplicates: Sets automatically remove duplicate values.\n",
    "# Fast lookups: Checking if something is in a set is really quick.\n",
    "# Set operations: You can easily do things like find common or different items between two sets.\n",
    "\n",
    "# Use a list when you need:\n",
    "# Order: Lists remember the order you add items in.\n",
    "# Duplicates: Lists can have the same item multiple times.\n",
    "# Indexing: You might want to access items by their position (like the 3rd item in the list).\n",
    "\n",
    "# In short:\n",
    "# Set = no duplicates, fast checks, and math-like operations.\n",
    "# List = order, duplicates, and indexed access."
   ]
  },
  {
   "cell_type": "code",
   "execution_count": null,
   "id": "52abe8df-904b-4891-8df9-2e1b97ccc341",
   "metadata": {},
   "outputs": [],
   "source": [
    "# 6. What is a string in Python, and how is it different from a list?\n",
    "# 6. String:\n",
    "# A string is just a bunch of letters or characters inside quotes, like 'hello' or \"world\".\n",
    "# Can't change it after you create it (it’s immutable).\n",
    "\n",
    "# List:\n",
    "# A list is a collection of different items (like numbers, words, or even other lists), inside square brackets, like [1, 2, 'apple'].\n",
    "# You can change the items inside a list (it’s mutable).\n",
    "\n",
    "# Differences:\n",
    "# String: Just text (can't change it).\n",
    "#List: A mix of things (and you can change it)."
   ]
  },
  {
   "cell_type": "code",
   "execution_count": null,
   "id": "471c886e-c658-4e22-9ddc-cb8faf1288a7",
   "metadata": {},
   "outputs": [],
   "source": [
    "# 7. How do tuples ensure data integrity in Python?\n",
    "# 7. Tuples keep data safe because they can't be changed once you create them.\n",
    "\n",
    "# Immutable: You can't add, remove, or modify elements in a tuple.\n",
    "# Data integrity: This helps ensure that the data stays the same and doesn't accidentally get changed.\n",
    "# For example, if you store important values like coordinates (40.7128, -74.0060) in a tuple, they can't be changed by mistake.\n",
    "# In short: Tuples protect data by making it unchangeable."
   ]
  },
  {
   "cell_type": "code",
   "execution_count": null,
   "id": "eb7a58ff-4f6e-4270-aae9-32c9049c4e64",
   "metadata": {},
   "outputs": [],
   "source": [
    "# 8. What is a hash table, and how does it relate to dictionaries in Python?\n",
    "# 8. A hash table is like a special organizer that stores data using keys and values. \n",
    "# It takes a key (like a name) and turns it into a number (called a hash) to quickly find where the value (like an age) is stored.\n",
    "# How it works:\n",
    "# You give it a key (like \"apple\").\n",
    "# It hashes the key (turns it into a number).\n",
    "# It uses that number to find the value (like 3).\n",
    "# Dictionaries in Python:\n",
    "# A dictionary (dict) in Python works the same way. It stores data in key-value pairs and quickly finds values by hashing the key."
   ]
  },
  {
   "cell_type": "code",
   "execution_count": 22,
   "id": "260ec8c0-965f-4a65-9819-70c84e88d620",
   "metadata": {},
   "outputs": [
    {
     "name": "stdout",
     "output_type": "stream",
     "text": [
      "3\n"
     ]
    }
   ],
   "source": [
    "#Example:\n",
    "my_dict = {\"apple\": 3, \"banana\": 5}\n",
    "print(my_dict[\"apple\"])"
   ]
  },
  {
   "cell_type": "code",
   "execution_count": null,
   "id": "c9dfe1fe-1cac-4bb1-84ab-b649f49e5f88",
   "metadata": {},
   "outputs": [],
   "source": [
    "# 9. Can lists contain different data types in Python?\n",
    "# 9. Yes, lists in Python can have different types of items in them. You can mix numbers, strings, booleans, and even other lists."
   ]
  },
  {
   "cell_type": "code",
   "execution_count": 23,
   "id": "7cbc4e4e-7f4e-4809-93c6-fe2f0bf00bdc",
   "metadata": {},
   "outputs": [
    {
     "name": "stdout",
     "output_type": "stream",
     "text": [
      "[1, 'apple', 3.14, True, [2, 3]]\n"
     ]
    }
   ],
   "source": [
    "# Example:\n",
    "my_list = [1, \"apple\", 3.14, True, [2, 3]]\n",
    "print(my_list)"
   ]
  },
  {
   "cell_type": "code",
   "execution_count": null,
   "id": "84b7d928-e301-4527-b858-05f222f9b1dc",
   "metadata": {},
   "outputs": [],
   "source": [
    "# This list has:\n",
    "# A number (1),\n",
    "# A string (\"apple\"),\n",
    "# A float (3.14),\n",
    "# A boolean (True),\n",
    "# Another list ([2, 3]).\n",
    "# So, yes—a list can contain different types of data!"
   ]
  },
  {
   "cell_type": "code",
   "execution_count": 24,
   "id": "6774e156-5935-4c90-85ee-d23392346dca",
   "metadata": {},
   "outputs": [],
   "source": [
    "# 10. Explain why strings are immutable in Python?\n",
    "# 10. Strings are immutable in Python because:\n",
    "\n",
    "#Safety – They can't be changed by accident, preventing bugs.\n",
    "#Hashing – They can be used as dictionary keys since their value won’t change.\n",
    "#Performance – Python can optimize memory and speed using string interning.\n",
    "#Simplicity – Easier and more predictable to work with."
   ]
  },
  {
   "cell_type": "code",
   "execution_count": null,
   "id": "fb129d9b-60f5-4bac-9a8f-a28c12b1ba62",
   "metadata": {},
   "outputs": [],
   "source": [
    "# 11. What advantages do dictionaries offer over lists for certain tasks?\n",
    "# 11. Dictionaries are better than lists when:\n",
    "\n",
    "# Fast lookups are needed.\n",
    "# You want to store data with names (keys), not positions.\n",
    "# You need to map relationships, like names to ages.\n",
    "# You want to avoid duplicates in keys."
   ]
  },
  {
   "cell_type": "code",
   "execution_count": 27,
   "id": "f9aef9af-8bb8-4d49-af06-2f5ed11ff4c9",
   "metadata": {},
   "outputs": [],
   "source": [
    "# 12. Describe a scenario where using a tuple would be preferable over a list?\n",
    "# 12. Use a tuple instead of a list when you want to store fixed, unchangeable data.\n",
    "# Storing coordinates of a point in 2D space:\n",
    "# The values shouldn’t change (immutability).\n",
    "# Tuples are faster and use less memory than lists.\n",
    "# Can be used as dictionary keys, lists can’t."
   ]
  },
  {
   "cell_type": "code",
   "execution_count": null,
   "id": "058fa6da-b8cd-4fc0-966a-c0ad4224cebb",
   "metadata": {},
   "outputs": [],
   "source": [
    "# 13. How do sets handle duplicate values in Python?\n",
    "# 13. In Python, sets automatically remove duplicates. If you try to add a duplicate value, it won’t be added again."
   ]
  },
  {
   "cell_type": "code",
   "execution_count": 31,
   "id": "e6259c2b-7fc7-4dae-9056-ea3730d5b08e",
   "metadata": {},
   "outputs": [
    {
     "name": "stdout",
     "output_type": "stream",
     "text": [
      "{1, 2, 3}\n"
     ]
    }
   ],
   "source": [
    "# Example:\n",
    "my_set = {1, 2, 3}\n",
    "my_set.add(2)\n",
    "print(my_set)"
   ]
  },
  {
   "cell_type": "code",
   "execution_count": null,
   "id": "aae04b7a-c8da-49e8-9ac4-8ce9c9aaf134",
   "metadata": {},
   "outputs": [],
   "source": [
    "# 14. How does the “in” keyword work differently for lists and dictionaries?\n",
    "# 14. The in keyword behaves differently for lists and dictionaries in Python:\n",
    "\n",
    "# For Lists:\n",
    "# The in keyword checks if a value exists in the list.\n",
    "\n",
    "# For Dictionaries:\n",
    "# The in keyword checks if a key exists in the dictionary, not the value."
   ]
  },
  {
   "cell_type": "code",
   "execution_count": null,
   "id": "b2cdcbdc-2d2d-4aca-b828-8e505c2d306d",
   "metadata": {},
   "outputs": [],
   "source": [
    "# 15. Can you modify the elements of a tuple? Explain why or why not?\n",
    "# 15. No, you cannot modify the elements of a tuple in Python.\n",
    "# Tuples are immutable, meaning once they are created, their contents cannot be changed. You cannot add, remove, or modify elements.\n",
    "# Immutability: Tuples are designed to be unchangeable, which makes them faster and hashable (usable as dictionary keys)."
   ]
  },
  {
   "cell_type": "code",
   "execution_count": 39,
   "id": "3a3c7a84-2b43-4322-b17d-ac5973434d1e",
   "metadata": {},
   "outputs": [
    {
     "name": "stdout",
     "output_type": "stream",
     "text": [
      "Math\n"
     ]
    }
   ],
   "source": [
    "# 16. What is a nested dictionary, and give an example of its use case?\n",
    "# 16. A nested dictionary is a dictionary where the values are themselves dictionaries. This allows you to store more complex, hierarchical data.\n",
    "# Use Case:\n",
    "# A common use case for a nested dictionary is when you need to store multiple attributes about different entities. \n",
    "# For example, managing student information with details like name, age, and major.\n",
    "# Example:\n",
    "nested_dict = {\n",
    "    'student1': {'name': 'jawan singh', 'age': 27, 'major': 'Math'},\n",
    "    'student2': {'name': 'Rajat singh', 'age': 27, 'major': 'Science'}\n",
    "}\n",
    "print(nested_dict['student1']['major'])"
   ]
  },
  {
   "cell_type": "code",
   "execution_count": null,
   "id": "74881c44-c93d-4a63-8460-4336e75356e9",
   "metadata": {},
   "outputs": [],
   "source": [
    "# 17. Describe the time complexity of accessing elements in a dictionary?\n",
    "# 17. Accessing elements in a dictionary is O(1) on average because it uses a hash table.\n",
    "# In rare cases (hash collisions), it could be O(n), but this is uncommon."
   ]
  },
  {
   "cell_type": "code",
   "execution_count": null,
   "id": "e20e3218-9f1d-479f-bb3a-dc3e5b055d76",
   "metadata": {},
   "outputs": [],
   "source": [
    "# 18. In what situations are lists preferred over dictionaries?\n",
    "# 18. Lists are preferred over dictionaries in situations where:\n",
    "# Order matters: Lists maintain the order of elements, while dictionaries do not (prior to Python 3.7).\n",
    "# Example: Storing items in the sequence they were added.\n",
    "# Index-based access: If you need to access elements by their position (index), a list is the right choice.\n",
    "# Example: Storing and retrieving data by its position in a sequence.\n",
    "# Simple collections of data: When you're dealing with a collection of similar items (like numbers or strings) without the need for key-value pairs.\n",
    "# Example: A list of numbers representing scores.\n",
    "# In short, use lists when you need an ordered collection of items, especially when you access them by index."
   ]
  },
  {
   "cell_type": "code",
   "execution_count": null,
   "id": "c5e355ff-eb5e-412c-9f78-da601a8bce01",
   "metadata": {},
   "outputs": [],
   "source": [
    "# 19. Why are dictionaries considered unordered, and how does that affect data retrieval?\n",
    "# 19. Dictionaries were considered unordered because, before Python 3.7, the order of elements wasn’t guaranteed.\n",
    "# From Python 3.7 onward, they maintain insertion order, but data is still accessed by key, not position.\n",
    "# So, order doesn't affect how you retrieve values; you access data by key."
   ]
  },
  {
   "cell_type": "code",
   "execution_count": null,
   "id": "042d1b2a-b1c4-422a-8567-1a77c18f3e6f",
   "metadata": {},
   "outputs": [],
   "source": [
    "# 20. Explain the difference between a list and a dictionary in terms of data retrieval.\n",
    "# 20. The main difference between a list and a dictionary in terms of data retrieval is:\n",
    "# List: Data is accessed by index (position)\n",
    "# List: Order matters, and you retrieve data by index.\n",
    "# Dictionary: Data is accessed by key (not position).\n",
    "# Dictionary: Order matters (Python 3.7+), but you retrieve data by key, not by position."
   ]
  },
  {
   "cell_type": "code",
   "execution_count": null,
   "id": "482e3c45-17dc-4730-a53e-4dfeea080c6d",
   "metadata": {},
   "outputs": [],
   "source": [
    "# Practical"
   ]
  },
  {
   "cell_type": "code",
   "execution_count": 40,
   "id": "81d5f66b-24ad-4442-ba09-004c8c72ae37",
   "metadata": {},
   "outputs": [
    {
     "name": "stdout",
     "output_type": "stream",
     "text": [
      "Jawan singh\n"
     ]
    }
   ],
   "source": [
    "# 1. Write a code to create a string with your name and print it.\n",
    "# 1.\n",
    "name = \"Jawan singh\"\n",
    "print(name)"
   ]
  },
  {
   "cell_type": "code",
   "execution_count": 42,
   "id": "20a69efd-6860-470f-8c8f-22c88708d6b1",
   "metadata": {},
   "outputs": [
    {
     "name": "stdout",
     "output_type": "stream",
     "text": [
      "11\n"
     ]
    }
   ],
   "source": [
    "# 2. Write a code to find the length of the string \"Hello World\".\n",
    "# 2.\n",
    "text = \"Hello World\"\n",
    "print(len(text))"
   ]
  },
  {
   "cell_type": "code",
   "execution_count": 43,
   "id": "5d903c4d-56e9-44d7-bc5e-6ba39e91e5b3",
   "metadata": {},
   "outputs": [
    {
     "name": "stdout",
     "output_type": "stream",
     "text": [
      "Pyt\n"
     ]
    }
   ],
   "source": [
    "# 3. Write a code to slice the first 3 characters from the string \"Python Programming\".\n",
    "# 3.\n",
    "text = \"Python Programming\"\n",
    "sliced_text = text[:3]\n",
    "print(sliced_text)"
   ]
  },
  {
   "cell_type": "code",
   "execution_count": 44,
   "id": "80f4004c-9c12-4e64-8946-bf1d40afccf3",
   "metadata": {},
   "outputs": [
    {
     "name": "stdout",
     "output_type": "stream",
     "text": [
      "PYTHON PROGRAMMING\n"
     ]
    }
   ],
   "source": [
    "# 4. Write a code to convert the string \"hello\" to uppercase.\n",
    "# 4. text = \"hello\"\n",
    "uppercase_text = text.upper()\n",
    "print(uppercase_text)"
   ]
  },
  {
   "cell_type": "code",
   "execution_count": 45,
   "id": "6fd7d7b7-ebf3-4a8f-b78c-f5e8feb899c5",
   "metadata": {},
   "outputs": [
    {
     "name": "stdout",
     "output_type": "stream",
     "text": [
      "I like orange\n"
     ]
    }
   ],
   "source": [
    "# 5. Write a code to replace the word \"apple\" with \"orange\" in the string \"I like apple\".\n",
    "# 5.\n",
    "text = \"I like apple\"\n",
    "modified_text = text.replace(\"apple\", \"orange\")\n",
    "print(modified_text)"
   ]
  },
  {
   "cell_type": "code",
   "execution_count": 46,
   "id": "797e1150-2e44-4bbc-a187-79e4ca819417",
   "metadata": {},
   "outputs": [
    {
     "name": "stdout",
     "output_type": "stream",
     "text": [
      "[1, 2, 3, 4, 5]\n"
     ]
    }
   ],
   "source": [
    "# 6. Write a code to create a list with numbers 1 to 5 and print it.\n",
    "# 6.\n",
    "numbers = [1, 2, 3, 4, 5]\n",
    "print(numbers)"
   ]
  },
  {
   "cell_type": "code",
   "execution_count": 47,
   "id": "cbba54d1-bd12-4acd-aaf6-483dee54f15e",
   "metadata": {},
   "outputs": [
    {
     "name": "stdout",
     "output_type": "stream",
     "text": [
      "[1, 2, 3, 4, 10]\n"
     ]
    }
   ],
   "source": [
    "# 7. Write a code to append the number 10 to the list [1, 2, 3, 4].\n",
    "# 7.\n",
    "numbers = [1, 2, 3, 4]\n",
    "numbers.append(10)\n",
    "print(numbers)"
   ]
  },
  {
   "cell_type": "code",
   "execution_count": 49,
   "id": "fcf02872-f09b-4f95-a531-b143c4811255",
   "metadata": {},
   "outputs": [
    {
     "name": "stdout",
     "output_type": "stream",
     "text": [
      "[1, 2, 4, 5]\n"
     ]
    }
   ],
   "source": [
    "# 8. Write a code to remove the number 3 from the list [1, 2, 3, 4, 5].\n",
    "# 8.\n",
    "numbers = [1, 2, 3, 4, 5]\n",
    "numbers.remove(3)\n",
    "print(numbers)"
   ]
  },
  {
   "cell_type": "code",
   "execution_count": 50,
   "id": "dbe77886-6646-42e9-9fcf-88844ae8d80b",
   "metadata": {},
   "outputs": [
    {
     "name": "stdout",
     "output_type": "stream",
     "text": [
      "b\n"
     ]
    }
   ],
   "source": [
    "# 9. Write a code to access the second element in the list ['a', 'b', 'c', 'd'].\n",
    "letters = ['a', 'b', 'c', 'd']\n",
    "second_element = letters[1]\n",
    "print(second_element)"
   ]
  },
  {
   "cell_type": "code",
   "execution_count": 51,
   "id": "f0d17752-c03d-410f-9deb-7f2f29a0720d",
   "metadata": {},
   "outputs": [
    {
     "name": "stdout",
     "output_type": "stream",
     "text": [
      "[50, 40, 30, 20, 10]\n"
     ]
    }
   ],
   "source": [
    "# 10. Write a code to reverse the list [10, 20, 30, 40, 50].\n",
    "# 10.\n",
    "numbers = [10, 20, 30, 40, 50]\n",
    "numbers.reverse()\n",
    "print(numbers)"
   ]
  },
  {
   "cell_type": "code",
   "execution_count": 52,
   "id": "aa1aa3aa-2f4b-478f-a461-fd32c8acfd13",
   "metadata": {},
   "outputs": [
    {
     "name": "stdout",
     "output_type": "stream",
     "text": [
      "(100, 200, 300)\n"
     ]
    }
   ],
   "source": [
    "# 11. Write a code to create a tuple with the elements 100, 200, 300 and print it.\n",
    "# 11.\n",
    "my_tuple = (100, 200, 300)\n",
    "print(my_tuple)"
   ]
  },
  {
   "cell_type": "code",
   "execution_count": 53,
   "id": "1a9e6560-b825-4e12-9dba-5d4a5211ea29",
   "metadata": {},
   "outputs": [
    {
     "name": "stdout",
     "output_type": "stream",
     "text": [
      "blue\n"
     ]
    }
   ],
   "source": [
    "# 12. Write a code to access the second-to-last element of the tuple ('red', 'green', 'blue', 'yellow').\n",
    "colors = ('red', 'green', 'blue', 'yellow')\n",
    "second_to_last = colors[-2]\n",
    "print(second_to_last)"
   ]
  },
  {
   "cell_type": "code",
   "execution_count": 55,
   "id": "5ce9bb16-ce9b-4be9-b7e5-e7855a8e8e09",
   "metadata": {},
   "outputs": [
    {
     "name": "stdout",
     "output_type": "stream",
     "text": [
      "5\n"
     ]
    }
   ],
   "source": [
    "# 13. Write a code to find the minimum number in the tuple (10, 20, 5, 15).\n",
    "# 13.\n",
    "numbers = (10, 20, 5, 15)\n",
    "min_number = min(numbers)\n",
    "print(min_number)"
   ]
  },
  {
   "cell_type": "code",
   "execution_count": 56,
   "id": "ab013b5c-0c5c-431e-b363-0ca72d910f65",
   "metadata": {},
   "outputs": [
    {
     "name": "stdout",
     "output_type": "stream",
     "text": [
      "1\n"
     ]
    }
   ],
   "source": [
    "# 14. Write a code to find the index of the element \"cat\" in the tuple ('dog', 'cat', 'rabbit').\n",
    "# 14.\n",
    "animals = ('dog', 'cat', 'rabbit')\n",
    "index_of_cat = animals.index('cat')\n",
    "print(index_of_cat)"
   ]
  },
  {
   "cell_type": "code",
   "execution_count": 57,
   "id": "bf792626-6f8e-4651-b6a4-d0e62f75b96a",
   "metadata": {},
   "outputs": [
    {
     "name": "stdout",
     "output_type": "stream",
     "text": [
      "False\n"
     ]
    }
   ],
   "source": [
    "# 15. Write a code to create a tuple containing three different fruits and check if \"kiwi\" is in it.\n",
    "# 15.\n",
    "fruits = ('apple', 'banana', 'cherry')\n",
    "is_kiwi_in_fruits = 'kiwi' in fruits\n",
    "print(is_kiwi_in_fruits)"
   ]
  },
  {
   "cell_type": "code",
   "execution_count": 58,
   "id": "92d491ae-47a7-42b3-bd74-1f35710a7f16",
   "metadata": {},
   "outputs": [
    {
     "name": "stdout",
     "output_type": "stream",
     "text": [
      "{'b', 'a', 'c'}\n"
     ]
    }
   ],
   "source": [
    "# 16. Write a code to create a set with the elements 'a', 'b', 'c' and print it.\n",
    "# 16.\n",
    "my_set = {'a', 'b', 'c'}\n",
    "print(my_set)"
   ]
  },
  {
   "cell_type": "code",
   "execution_count": 59,
   "id": "b5e2865e-7e7b-4a24-818d-3718a33b81e9",
   "metadata": {},
   "outputs": [
    {
     "name": "stdout",
     "output_type": "stream",
     "text": [
      "set()\n"
     ]
    }
   ],
   "source": [
    "# 17. Write a code to clear all elements from the set {1, 2, 3, 4, 5}.\n",
    "# 17.\n",
    "my_set = {1, 2, 3, 4, 5}\n",
    "my_set.clear()\n",
    "print(my_set)"
   ]
  },
  {
   "cell_type": "code",
   "execution_count": 60,
   "id": "27061e2c-a6e8-42ca-a344-f8528b4b28ce",
   "metadata": {},
   "outputs": [
    {
     "name": "stdout",
     "output_type": "stream",
     "text": [
      "{1, 2, 3}\n"
     ]
    }
   ],
   "source": [
    "# 18. Write a code to remove the element 4 from the set {1, 2, 3, 4}.\n",
    "# 18.\n",
    "my_set = {1, 2, 3, 4}\n",
    "my_set.remove(4)\n",
    "print(my_set)"
   ]
  },
  {
   "cell_type": "code",
   "execution_count": 61,
   "id": "4735307f-5bfa-4419-8b51-b2f11cc0e607",
   "metadata": {},
   "outputs": [
    {
     "name": "stdout",
     "output_type": "stream",
     "text": [
      "{1, 2, 3, 4, 5}\n"
     ]
    }
   ],
   "source": [
    "# 19. Write a code to find the union of two sets {1, 2, 3} and {3, 4, 5}.\n",
    "# 19.\n",
    "set1 = {1, 2, 3}\n",
    "set2 = {3, 4, 5}\n",
    "union_set = set1.union(set2)\n",
    "print(union_set)"
   ]
  },
  {
   "cell_type": "code",
   "execution_count": 62,
   "id": "bff01e7a-2d6e-499f-b205-48af317e3c21",
   "metadata": {},
   "outputs": [
    {
     "name": "stdout",
     "output_type": "stream",
     "text": [
      "{2, 3}\n"
     ]
    }
   ],
   "source": [
    "# 20. Write a code to find the intersection of two sets {1, 2, 3} and {2, 3, 4}.\n",
    "# 20.\n",
    "set1 = {1, 2, 3}\n",
    "set2 = {2, 3, 4}\n",
    "intersection_set = set1.intersection(set2)\n",
    "print(intersection_set)"
   ]
  },
  {
   "cell_type": "code",
   "execution_count": 64,
   "id": "09da5327-9d5d-48e7-b328-6200eba83744",
   "metadata": {},
   "outputs": [
    {
     "name": "stdout",
     "output_type": "stream",
     "text": [
      "{'name': 'jawan singh', 'age': 27, 'city': 'New Delhi'}\n"
     ]
    }
   ],
   "source": [
    "# 21. Write a code to create a dictionary with the keys \"name\", \"age\", and \"city\", and print it.\n",
    "# 21.\n",
    "my_dict = {\n",
    "    \"name\": \"jawan singh\",\n",
    "    \"age\": 27,\n",
    "    \"city\": \"New Delhi\"\n",
    "}\n",
    "\n",
    "print(my_dict)"
   ]
  },
  {
   "cell_type": "code",
   "execution_count": 65,
   "id": "9c04b36c-2053-4f60-8e49-9e92cc403dbd",
   "metadata": {},
   "outputs": [
    {
     "name": "stdout",
     "output_type": "stream",
     "text": [
      "{'name': 'John', 'age': 25, 'country': 'USA'}\n"
     ]
    }
   ],
   "source": [
    "# 22. Write a code to add a new key-value pair \"country\": \"USA\" to the dictionary {'name': 'John', 'age': 25}.\n",
    "# 22. \n",
    "my_dict = {'name': 'John', 'age': 25}\n",
    "my_dict['country'] = 'USA'\n",
    "\n",
    "print(my_dict)"
   ]
  },
  {
   "cell_type": "code",
   "execution_count": 66,
   "id": "6d249b61-0b2a-4535-9ebf-950da1db2775",
   "metadata": {},
   "outputs": [
    {
     "name": "stdout",
     "output_type": "stream",
     "text": [
      "Alice\n"
     ]
    }
   ],
   "source": [
    "# 23. Write a code to access the value associated with the key \"name\" in the dictionary {'name': 'Alice', 'age': 30}.\n",
    "# 23.\n",
    "my_dict = {'name': 'Alice', 'age': 30}\n",
    "name_value = my_dict['name']\n",
    "\n",
    "print(name_value)"
   ]
  },
  {
   "cell_type": "code",
   "execution_count": 67,
   "id": "8092012b-c6ed-4877-a998-fd806bded57c",
   "metadata": {},
   "outputs": [
    {
     "name": "stdout",
     "output_type": "stream",
     "text": [
      "{'name': 'Bob', 'city': 'New York'}\n"
     ]
    }
   ],
   "source": [
    "# 24. Write a code to remove the key \"age\" from the dictionary {'name': 'Bob', 'age': 22, 'city': 'New York'}.\n",
    "# 24.\n",
    "my_dict = {'name': 'Bob', 'age': 22, 'city': 'New York'}\n",
    "del my_dict['age']\n",
    "\n",
    "print(my_dict)"
   ]
  },
  {
   "cell_type": "code",
   "execution_count": 68,
   "id": "b2b6a8e5-fdb1-4ea3-8b7f-785a5e979008",
   "metadata": {},
   "outputs": [
    {
     "name": "stdout",
     "output_type": "stream",
     "text": [
      "The key 'city' exists in the dictionary.\n"
     ]
    }
   ],
   "source": [
    "# 25. Write a code to check if the key \"city\" exists in the dictionary {'name': 'Alice', 'city': 'Paris'}.\n",
    "# 25.\n",
    "my_dict = {'name': 'Alice', 'city': 'Paris'}\n",
    "\n",
    "if 'city' in my_dict:\n",
    "    print(\"The key 'city' exists in the dictionary.\")\n",
    "else:\n",
    "    print(\"The key 'city' does not exist in the dictionary.\")"
   ]
  },
  {
   "cell_type": "code",
   "execution_count": 70,
   "id": "6fdc41e4-47e5-47dd-8937-5d4d5de3be75",
   "metadata": {},
   "outputs": [
    {
     "name": "stdout",
     "output_type": "stream",
     "text": [
      "List: [1, 2, 3, 4, 5]\n",
      "Tuple: ('apple', 'banana', 'mango')\n",
      "Dictionary: {'name': 'Jawan singh', 'age': 27, 'city': 'New Delhi'}\n"
     ]
    }
   ],
   "source": [
    "# 26. Write a code to create a list, a tuple, and a dictionary, and print them all.\n",
    "# 26.\n",
    "# Create a list\n",
    "my_list = [1, 2, 3, 4, 5]\n",
    "\n",
    "# Create a tuple\n",
    "my_tuple = ('apple', 'banana', 'mango')\n",
    "\n",
    "# Create a dictionary\n",
    "my_dict = {'name': 'Jawan singh', 'age': 27, 'city': 'New Delhi'}\n",
    "\n",
    "# Print the list, tuple, and dictionary\n",
    "print(\"List:\", my_list)\n",
    "print(\"Tuple:\", my_tuple)\n",
    "print(\"Dictionary:\", my_dict)"
   ]
  },
  {
   "cell_type": "code",
   "execution_count": 71,
   "id": "51e862a7-6483-43af-95a2-dfa15dba9624",
   "metadata": {},
   "outputs": [
    {
     "name": "stdout",
     "output_type": "stream",
     "text": [
      "[18, 48, 53, 73, 95]\n"
     ]
    }
   ],
   "source": [
    "# 27. Write a code to create a list of 5 random numbers between 1 and 100, sort it in ascending order, and print the result.(replaced)\n",
    "# 27.\n",
    "import random\n",
    "\n",
    "# Create a list of 5 random numbers between 1 and 100\n",
    "random_numbers = random.sample(range(1, 101), 5)\n",
    "\n",
    "# Sort the list in ascending order\n",
    "random_numbers.sort()\n",
    "\n",
    "# Print the sorted list\n",
    "print(random_numbers)"
   ]
  },
  {
   "cell_type": "code",
   "execution_count": 73,
   "id": "34ac06a6-5377-403d-b789-b0e8354d7d65",
   "metadata": {},
   "outputs": [
    {
     "name": "stdout",
     "output_type": "stream",
     "text": [
      "date\n"
     ]
    }
   ],
   "source": [
    "# 28. Write a code to create a list with strings and print the element at the third index.\n",
    "# 28.\n",
    "# Create a list with strings\n",
    "string_list = ['apple', 'banana', 'mango', 'date', 'elderberry']\n",
    "\n",
    "# Print the element at the third index (index 3)\n",
    "print(string_list[3])"
   ]
  },
  {
   "cell_type": "code",
   "execution_count": 74,
   "id": "c7c23154-4d3a-4764-a654-3f8cd77f36fd",
   "metadata": {},
   "outputs": [
    {
     "name": "stdout",
     "output_type": "stream",
     "text": [
      "{'a': 1, 'b': 2, 'c': 3, 'd': 4}\n"
     ]
    }
   ],
   "source": [
    "# 29. Write a code to combine two dictionaries into one and print the result.\n",
    "# 29.\n",
    "dict1 = {'a': 1, 'b': 2}\n",
    "dict2 = {'c': 3, 'd': 4}\n",
    "\n",
    "# Combine the dictionaries\n",
    "combined_dict = {**dict1, **dict2}\n",
    "\n",
    "print(combined_dict)"
   ]
  },
  {
   "cell_type": "code",
   "execution_count": 76,
   "id": "666aa19c-3717-4880-9284-e317cf004b49",
   "metadata": {},
   "outputs": [
    {
     "name": "stdout",
     "output_type": "stream",
     "text": [
      "{'banana', 'mango', 'apple'}\n"
     ]
    }
   ],
   "source": [
    "# 30. Write a code to convert a list of strings into a set.\n",
    "# 30.\n",
    "# Create a list of strings\n",
    "string_list = ['apple', 'banana', 'mango', 'apple']\n",
    "\n",
    "# Convert the list to a set\n",
    "string_set = set(string_list)\n",
    "\n",
    "print(string_set)"
   ]
  }
 ],
 "metadata": {
  "kernelspec": {
   "display_name": "Python 3 (ipykernel)",
   "language": "python",
   "name": "python3"
  },
  "language_info": {
   "codemirror_mode": {
    "name": "ipython",
    "version": 3
   },
   "file_extension": ".py",
   "mimetype": "text/x-python",
   "name": "python",
   "nbconvert_exporter": "python",
   "pygments_lexer": "ipython3",
   "version": "3.13.2"
  }
 },
 "nbformat": 4,
 "nbformat_minor": 5
}
