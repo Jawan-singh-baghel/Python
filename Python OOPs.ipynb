{
 "cells": [
  {
   "cell_type": "code",
   "execution_count": null,
   "id": "ea949bde-dd35-4153-8d12-f0e0d8fc83e2",
   "metadata": {},
   "outputs": [],
   "source": [
    "# Assignment No.4\n",
    "# Python OOPs"
   ]
  },
  {
   "cell_type": "code",
   "execution_count": null,
   "id": "eac11b7c-6468-409c-b961-511937553807",
   "metadata": {},
   "outputs": [],
   "source": [
    "# Theory Questions."
   ]
  },
  {
   "cell_type": "code",
   "execution_count": null,
   "id": "a6576b4f-c212-426f-8903-5ac48e14f750",
   "metadata": {},
   "outputs": [],
   "source": [
    "# 1. What is Object-Oriented Programming (OOP)?\n",
    "\n",
    "# 1. Object-Oriented Programming (OOP) is a way of writing code that uses objects—which combine data and actions.\n",
    "# Main Ideas:\n",
    "# Class: A template (like a blueprint).\n",
    "# Object: A real thing made from the class.\n",
    "# Encapsulation: Keeps data and code together.\n",
    "# Inheritance: One class can use stuff from another.\n",
    "# Polymorphism: Same action works differently for different objects.\n",
    "# Abstraction: Hide the complex stuff, show only what’s needed."
   ]
  },
  {
   "cell_type": "code",
   "execution_count": 1,
   "id": "06d4f6be-5c73-4ebb-bea1-bbff0202c507",
   "metadata": {},
   "outputs": [],
   "source": [
    "# 2. What is a class in OOP?\n",
    "\n",
    "# 2. A class in Object-Oriented Programming (OOP) is like a blueprint for creating objects.\n",
    "# It defines:\n",
    "# Attributes (data)\n",
    "# Methods (functions or behaviors)\n",
    "# But it doesn’t hold actual data itself—objects created from the class (called instances) do."
   ]
  },
  {
   "cell_type": "code",
   "execution_count": null,
   "id": "1754bd33-3f29-4884-a34d-4142ca6d3c86",
   "metadata": {},
   "outputs": [],
   "source": [
    "# 3. What is an object in OOP?\n",
    "\n",
    "# 3. An object in Object-Oriented Programming (OOP) is a real-world instance of a class.\n",
    "# It has:\n",
    "# Data (called attributes)\n",
    "# Behavior (called methods)"
   ]
  },
  {
   "cell_type": "code",
   "execution_count": null,
   "id": "02c52df3-127c-4e22-b036-e063a0261cff",
   "metadata": {},
   "outputs": [],
   "source": [
    "# 4. What is the difference between abstraction and encapsulation?\n",
    "\n",
    "# 4. Abstraction and encapsulation are both important concepts in object-oriented programming, but they serve different purposes:\n",
    "\n",
    "# Abstraction is about hiding complexity and showing only the essential features. It focuses on what an object does, not how it does it. \n",
    "# This makes the code easier to use and understand. For example, when you send a message on a phone, \n",
    "# you don’t need to know how the message is processed internally—just that it works.\n",
    "\n",
    "# Encapsulation is about hiding the internal data of an object and protecting it from unauthorized access or modification. \n",
    "# It focuses on how the data is kept safe by keeping it private and exposing only necessary parts through public methods. \n",
    "# For example, a car hides its engine and lets you control it through the steering wheel and pedals.\n",
    "\n",
    "# In short:\n",
    "# Abstraction = Hide complexity (what it does)\n",
    "# Encapsulation = Hide data (how it works)"
   ]
  },
  {
   "cell_type": "code",
   "execution_count": 2,
   "id": "0121afe0-f9b8-44bb-857a-57ec7e045f1d",
   "metadata": {},
   "outputs": [],
   "source": [
    "# 5. What are dunder methods in Python?\n",
    "\n",
    "# 5. Dunder methods in Python are special methods with names that start and end with double underscores, \n",
    "# like __init__ or __str__. The term \"dunder\" stands for double underscore.\n",
    "# These methods let you define how your objects behave with built-in Python operations. For example:\n",
    "# __init__: Called when creating a new object (the constructor).\n",
    "# __str__: Defines what happens when you convert an object to a string (like with print()).\n",
    "# __add__: Defines how objects behave with the + operator.\n",
    "# They allow you to customize and extend Python’s built-in behavior for your classes."
   ]
  },
  {
   "cell_type": "code",
   "execution_count": null,
   "id": "64b4f975-a56d-486d-8c12-5e3828a8b9e6",
   "metadata": {},
   "outputs": [],
   "source": [
    "# 6. Explain the concept of inheritance in OOP.\n",
    "\n",
    "# 6. Inheritance in Object-Oriented Programming (OOP) is the concept where one class (child or subclass) can use the properties and \n",
    "# methods of another class (parent or superclass). It helps in code reuse and makes the code more organized and easier to maintain."
   ]
  },
  {
   "cell_type": "code",
   "execution_count": null,
   "id": "78217b84-b65d-4e3f-87a1-8fa75aea7f73",
   "metadata": {},
   "outputs": [],
   "source": [
    "# 7. What is polymorphism in OOP?\n",
    "\n",
    "# 7. Polymorphism in Object-Oriented Programming (OOP) means \"many forms.\" It allows the same method or function name to behave differently \n",
    "# based on the object calling it."
   ]
  },
  {
   "cell_type": "code",
   "execution_count": 8,
   "id": "ffd86c91-bff1-4ddf-a6d5-442a4cae4f75",
   "metadata": {},
   "outputs": [],
   "source": [
    "# 8. How is encapsulation achieved in Python?\n",
    "\n",
    "# 8. Encapsulation in Python is done using classes, which combine data (variables) and actions (methods) into one unit. \n",
    "# To protect the data, Python uses naming rules:\n",
    "# Public variables (like name) can be accessed from anywhere.\n",
    "# Protected variables (like _age) should only be used inside the class or subclasses.\n",
    "# Private variables (like __salary) cannot be accessed directly from outside the class.\n",
    "# This keeps the data safe and allows access only through specific methods, helping to prevent accidental changes."
   ]
  },
  {
   "cell_type": "code",
   "execution_count": null,
   "id": "a312492c-38f7-4af9-9b4b-54f56404a21a",
   "metadata": {},
   "outputs": [],
   "source": [
    "# 9. What is a constructor in Python?\n",
    "# 9. A constructor in Python is a special method used to initialize a newly created object from a class. \n",
    "# It is defined using the __init__() method. When you create an object, Python automatically calls this method to set up the object’s initial state."
   ]
  },
  {
   "cell_type": "code",
   "execution_count": null,
   "id": "51f3c21c-c5b7-4e5d-bd0b-a0b3ed52b553",
   "metadata": {},
   "outputs": [],
   "source": [
    "# 10. What are class and static methods in Python?\n",
    "\n",
    "# 10. In Python, class methods and static methods are special types of methods that are defined using decorators.\n",
    "\n",
    "# 1. Class Method\n",
    "# Defined using @classmethod decorator.\n",
    "# Takes cls as the first parameter (refers to the class, not the instance).\n",
    "# Can access and modify class-level data.\n",
    "# Use class methods to work with class variables.\n",
    "\n",
    "# 2. Static Method\n",
    "# Defined using @staticmethod decorator.\n",
    "# Does not take self or cls as a parameter.\n",
    "# Cannot access instance or class data; used for utility functions.\n",
    "# Use static methods for helper functions that don’t need access to class or instance data."
   ]
  },
  {
   "cell_type": "code",
   "execution_count": 10,
   "id": "f3cfb17d-ce85-4710-9c24-bebef6283630",
   "metadata": {},
   "outputs": [],
   "source": [
    "# 11. What is method overloading in Python?\n",
    "\n",
    "# 11. Method overloading in Python refers to defining multiple methods with the same name but different parameters. \n",
    "# However, unlike some other languages (like Java or C++), Python does not support true method overloading.\n",
    "    \n",
    "# In Python, if you define multiple methods with the same name, the last one overrides the previous ones. \n",
    "# But you can simulate method overloading using default arguments or variable-length arguments.\n",
    "\n",
    "# Python doesn't support real method overloading, but similar behavior can be achieved using default or *args/**kwargs parameters."
   ]
  },
  {
   "cell_type": "code",
   "execution_count": null,
   "id": "a66ca3cd-78c2-42fd-a597-b85777557eca",
   "metadata": {},
   "outputs": [],
   "source": [
    "# 12. What is method overriding in OOP?\n",
    "\n",
    "# 12. Method overriding in Object-Oriented Programming (OOP) happens when a child class provides a specific implementation of a method that is already \n",
    "# defined in its parent class. The overridden method in the child class replaces the parent’s version when called on a child class object."
   ]
  },
  {
   "cell_type": "code",
   "execution_count": null,
   "id": "1b7fc9ee-da5e-4649-b2d5-35255bfdf241",
   "metadata": {},
   "outputs": [],
   "source": [
    "# 13. What is a property decorator in Python?\n",
    "\n",
    "# 13. The @property decorator in Python is used to define a method as a property, \n",
    "# allowing you to access it like an attribute while still using method logic behind the scenes.\n",
    "# It helps control access to instance variables and allows you to define getter, setter, \n",
    "# and deleter methods without changing how the attribute is accessed.\n",
    "# The @property decorator makes method calls look like attribute access, while still allowing control, validation, or logic during access or assignment."
   ]
  },
  {
   "cell_type": "code",
   "execution_count": null,
   "id": "d0ce175e-2981-4e87-8a64-1dec6f02f26f",
   "metadata": {},
   "outputs": [],
   "source": [
    "# 14. Why is polymorphism important in OOP?\n",
    "\n",
    "# 14. Polymorphism is important in Object-Oriented Programming (OOP) because it allows different classes to be treated as if they were the same type, \n",
    "# enabling flexibility and code reuse.\n",
    "\n",
    "# Key Benefits:\n",
    "\n",
    "# Simplifies Code\n",
    "# You can write one function that works with different types of objects.\n",
    "\n",
    "# Improves Maintainability\n",
    "# You can change or extend classes without modifying the code that uses them.\n",
    "\n",
    "# Supports Extensibility\n",
    "# New classes can be added with minimal changes to existing code."
   ]
  },
  {
   "cell_type": "code",
   "execution_count": null,
   "id": "2750f764-3f13-43a1-967f-dcf53ceac619",
   "metadata": {},
   "outputs": [],
   "source": [
    "# 15. What is an abstract class in Python?\n",
    "\n",
    "# 15. An abstract class in Python is a class that cannot be instantiated directly and is meant to be inherited by other classes.\n",
    "# It can define abstract methods, which are methods declared but not implemented. Subclasses must implement these methods.    \n",
    "# Python uses the abc (Abstract Base Class) module to create abstract classes."
   ]
  },
  {
   "cell_type": "code",
   "execution_count": null,
   "id": "e9b9e185-0898-4e20-8421-2b2e6ecd0f81",
   "metadata": {},
   "outputs": [],
   "source": [
    "# 16. What are the advantages of OOP?\n",
    "\n",
    "# 16. Advantages of Object-Oriented Programming (OOP):\n",
    "# Modularity: Code is organized into classes and objects, making it easier to manage and understand.\n",
    "# Reusability : Classes can be reused in different programs or extended using inheritance.\n",
    "# Encapsulation : Data and methods are bundled together, hiding internal details and protecting the data.\n",
    "# Polymorphism : The same method name can behave differently in different classes, improving flexibility.\n",
    "# Inheritance : New classes can inherit features from existing ones, reducing code duplication.\n",
    "# Maintainability : Easier to update and maintain due to a clear structure and separation of concerns.\n",
    "# Scalability : OOP makes it easier to scale applications by adding new features without affecting existing code much."
   ]
  },
  {
   "cell_type": "code",
   "execution_count": null,
   "id": "0f2ec010-837f-444f-b141-a2f53f0596ec",
   "metadata": {},
   "outputs": [],
   "source": [
    "# 17. What is the difference between a class variable and an instance variable?\n",
    "\n",
    "# 17. The difference between a class variable and an instance variable in Python lies in how and where they are stored and used.\n",
    "\n",
    "# 1. Class Variable\n",
    "# Shared by all instances of the class.\n",
    "# Defined inside the class, but outside any methods.\n",
    "# Changing it affects all objects.\n",
    "\n",
    "# 2. Instance Variable\n",
    "# Unique to each object (instance).\n",
    "# Defined inside methods, usually in __init__(), using self.\n",
    "# Changing it affects only that object."
   ]
  },
  {
   "cell_type": "code",
   "execution_count": null,
   "id": "cb3e9724-a0b2-4550-b391-9c39c3aee667",
   "metadata": {},
   "outputs": [],
   "source": [
    "# 18. What is multiple inheritance in Python?\n",
    "\n",
    "# 18. Multiple inheritance in Python means that a class can inherit from more than one parent class. \n",
    "# This allows a child class to access attributes and methods from multiple base classes.\n",
    "# Key Points:\n",
    "# Python supports multiple inheritance directly.\n",
    "# The Method Resolution Order (MRO) determines which method is called when there are conflicts.\n",
    "# Can add flexibility but may lead to complexity or ambiguity if not managed carefully."
   ]
  },
  {
   "cell_type": "code",
   "execution_count": null,
   "id": "fa15da8d-9c28-4573-9546-86e61b887f44",
   "metadata": {},
   "outputs": [],
   "source": [
    "# 19. Explain the purpose of ‘’__str__’ and ‘__repr__’ ‘ methods in Python.\n",
    "\n",
    "# 19. The __str__ and __repr__ methods in Python are special methods used to define how objects are represented as strings.\n",
    "\n",
    "# __str__ – User-Friendly String\n",
    "# Called by str() or print().\n",
    "# Returns a readable and user-friendly string.\n",
    "# Meant for end-users.\n",
    "\n",
    "# __repr__ – Developer-Friendly String\n",
    "# Called by repr() or in the interactive shell.\n",
    "# Returns a detailed and unambiguous string, often valid Python code.\n",
    "# Meant for developers and debugging."
   ]
  },
  {
   "cell_type": "code",
   "execution_count": null,
   "id": "a7c17ae5-39d5-4eab-b9d6-e5f2756d61ea",
   "metadata": {},
   "outputs": [],
   "source": [
    "# 20. What is the significance of the ‘super()’ function in Python?\n",
    "\n",
    "# 20. The super() function in Python is used to call methods from a parent (or superclass) in a child class. \n",
    "# It’s most commonly used in inheritance to extend or modify the behavior of inherited methods without completely rewriting them.\n",
    "# Key Uses of super():\n",
    "# Access parent class methods (especially __init__()).\n",
    "# Avoid code duplication.\n",
    "# Supports multiple inheritance using Python’s Method Resolution Order (MRO)."
   ]
  },
  {
   "cell_type": "code",
   "execution_count": null,
   "id": "7f94165e-bf78-4236-a1b6-bf9a7925240f",
   "metadata": {},
   "outputs": [],
   "source": [
    "# 21. What is the significance of the __del__ method in Python?\n",
    "\n",
    "# 21. The __del__ method in Python is a special method known as a destructor. \n",
    "# It is called automatically when an object is about to be destroyed, typically when there are no more references to it.\n",
    "# Purpose of __del__: To perform cleanup actions, like closing files, releasing network connections, or freeing resources before the object is deleted \n",
    "# from memory."
   ]
  },
  {
   "cell_type": "code",
   "execution_count": null,
   "id": "69d8c6b4-e781-49bc-a038-ac1220ee2707",
   "metadata": {},
   "outputs": [],
   "source": [
    "# 22. What is the difference between @staticmethod and @classmethod in Python?\n",
    "\n",
    "# 22. The difference between @staticmethod and @classmethod in Python lies in how they access class or instance data and what they are used for.\n",
    "\n",
    "# @staticmethod\n",
    "# Does not take self or cls as the first parameter.\n",
    "# Cannot access class or instance variables.\n",
    "# Used for utility functions that are related to the class but don’t need class or object data.\n",
    "\n",
    "# @classmethod\n",
    "# Takes cls as the first parameter (refers to the class).\n",
    "# Can access and modify class-level variables.\n",
    "# Often used for factory methods or operations that affect the class as a whole."
   ]
  },
  {
   "cell_type": "code",
   "execution_count": null,
   "id": "99a78147-b292-4456-8a83-53e103b68621",
   "metadata": {},
   "outputs": [],
   "source": [
    "# 23. How does polymorphism work in Python with inheritance?\n",
    "\n",
    "# 23. Polymorphism with inheritance in Python allows different classes to use the same method name but provide different implementations, \n",
    "# enabling objects to be treated the same even if they behave differently."
   ]
  },
  {
   "cell_type": "code",
   "execution_count": null,
   "id": "0d6e25ff-d512-4909-8610-762b5a01aa49",
   "metadata": {},
   "outputs": [],
   "source": [
    "# 24. What is method chaining in Python OOP?\n",
    "\n",
    "# 24. Method chaining in Python OOP is a technique where multiple methods are called in a single line, one after the other, using dots (.). \n",
    "# This is possible when each method returns self, allowing the next method to be called on the same object."
   ]
  },
  {
   "cell_type": "code",
   "execution_count": null,
   "id": "2c083ba5-c455-4b1a-861a-a39fb8f88279",
   "metadata": {},
   "outputs": [],
   "source": [
    "# 25. What is the purpose of the __call__ method in Python?\n",
    "\n",
    "# 25. The __call__ method in Python allows an object of a class to be called like a function. When you define __call__ in a class, \n",
    "# you can \"call\" an instance of that class using parentheses, and Python will automatically invoke the __call__ method.\n",
    "# Purpose:\n",
    "# Adds function-like behavior to objects.\n",
    "# Useful for function wrappers, decorators, or making objects that behave like functions."
   ]
  },
  {
   "cell_type": "code",
   "execution_count": null,
   "id": "0e23d72b-348d-4e8c-9da1-c95097007a26",
   "metadata": {},
   "outputs": [],
   "source": [
    "# Practical Questions."
   ]
  },
  {
   "cell_type": "code",
   "execution_count": 16,
   "id": "c0f2c4e2-c67c-4287-a6ae-3c850bb3682e",
   "metadata": {},
   "outputs": [
    {
     "name": "stdout",
     "output_type": "stream",
     "text": [
      "The animal makes a sound.\n",
      "Bark!\n"
     ]
    }
   ],
   "source": [
    "# 1. Create a parent class Animal with a method speak() that prints a generic message. Create a child class Dog\n",
    "# that overrides the speak() method to print \"Bark!\".\n",
    "\n",
    "#1.\n",
    "# Parent class\n",
    "class Animal:\n",
    "    def speak(self):\n",
    "        print(\"The animal makes a sound.\")\n",
    "\n",
    "# Child class\n",
    "class Dog(Animal):\n",
    "    def speak(self):\n",
    "        print(\"Bark!\")\n",
    "\n",
    "# Testing the classes\n",
    "generic_animal = Animal()\n",
    "generic_animal.speak()\n",
    "\n",
    "dog = Dog()\n",
    "dog.speak() "
   ]
  },
  {
   "cell_type": "code",
   "execution_count": 17,
   "id": "c0317084-7901-4754-96d2-9dd8c96adde3",
   "metadata": {},
   "outputs": [
    {
     "name": "stdout",
     "output_type": "stream",
     "text": [
      "Circle area: 78.53981633974483\n",
      "Rectangle area: 24\n"
     ]
    }
   ],
   "source": [
    "# 2. Write a program to create an abstract class Shape with a method area(). Derive classes Circle and Rectangle\n",
    "# from it and implement the area() method in both.\n",
    "\n",
    "# 2.\n",
    "from abc import ABC, abstractmethod\n",
    "import math\n",
    "\n",
    "# Abstract base class\n",
    "class Shape(ABC):\n",
    "    @abstractmethod\n",
    "    def area(self):\n",
    "        pass\n",
    "\n",
    "# Circle class\n",
    "class Circle(Shape):\n",
    "    def __init__(self, radius):\n",
    "        self.radius = radius\n",
    "\n",
    "    def area(self):\n",
    "        return math.pi * self.radius ** 2\n",
    "\n",
    "# Rectangle class\n",
    "class Rectangle(Shape):\n",
    "    def __init__(self, width, height):\n",
    "        self.width = width\n",
    "        self.height = height\n",
    "\n",
    "    def area(self):\n",
    "        return self.width * self.height\n",
    "\n",
    "# Testing the classes\n",
    "circle = Circle(5)\n",
    "rectangle = Rectangle(4, 6)\n",
    "\n",
    "print(\"Circle area:\", circle.area())\n",
    "print(\"Rectangle area:\", rectangle.area())"
   ]
  },
  {
   "cell_type": "code",
   "execution_count": 18,
   "id": "bf449b0f-0823-4e59-95c9-a864773aa98f",
   "metadata": {},
   "outputs": [
    {
     "name": "stdout",
     "output_type": "stream",
     "text": [
      "Vehicle type: Electric\n",
      "Car brand: Tesla\n",
      "Battery capacity: 75 kWh\n"
     ]
    }
   ],
   "source": [
    "# 3. Implement a multi-level inheritance scenario where a class Vehicle has an attribute type. Derive a class Car\n",
    "# and further derive a class ElectricCar that adds a battery attribute.\n",
    "\n",
    "# 3. \n",
    "# Base class\n",
    "class Vehicle:\n",
    "    def __init__(self, vehicle_type):\n",
    "        self.type = vehicle_type\n",
    "\n",
    "    def show_type(self):\n",
    "        print(f\"Vehicle type: {self.type}\")\n",
    "\n",
    "# Derived class\n",
    "class Car(Vehicle):\n",
    "    def __init__(self, vehicle_type, brand):\n",
    "        super().__init__(vehicle_type)\n",
    "        self.brand = brand\n",
    "\n",
    "    def show_brand(self):\n",
    "        print(f\"Car brand: {self.brand}\")\n",
    "\n",
    "# Further derived class\n",
    "class ElectricCar(Car):\n",
    "    def __init__(self, vehicle_type, brand, battery_capacity):\n",
    "        super().__init__(vehicle_type, brand)\n",
    "        self.battery = battery_capacity\n",
    "\n",
    "    def show_battery(self):\n",
    "        print(f\"Battery capacity: {self.battery} kWh\")\n",
    "\n",
    "# Testing the classes\n",
    "tesla = ElectricCar(\"Electric\", \"Tesla\", 75)\n",
    "tesla.show_type()\n",
    "tesla.show_brand() \n",
    "tesla.show_battery()  "
   ]
  },
  {
   "cell_type": "code",
   "execution_count": 19,
   "id": "1c534a6b-5d7c-475d-adae-fc48bee6f77f",
   "metadata": {},
   "outputs": [
    {
     "name": "stdout",
     "output_type": "stream",
     "text": [
      "Sparrow flies high in the sky.\n",
      "Penguins can't fly, but they swim well.\n"
     ]
    }
   ],
   "source": [
    "# 4. Demonstrate polymorphism by creating a base class Bird with a method fly(). Create two derived classes\n",
    "# Sparrow and Penguin that override the fly() method.\n",
    "\n",
    "# 4.\n",
    "# Base class\n",
    "class Bird:\n",
    "    def fly(self):\n",
    "        print(\"Some birds can fly.\")\n",
    "\n",
    "# Derived class 1\n",
    "class Sparrow(Bird):\n",
    "    def fly(self):\n",
    "        print(\"Sparrow flies high in the sky.\")\n",
    "\n",
    "# Derived class 2\n",
    "class Penguin(Bird):\n",
    "    def fly(self):\n",
    "        print(\"Penguins can't fly, but they swim well.\")\n",
    "\n",
    "# Polymorphism in action\n",
    "def show_flight(bird):\n",
    "    bird.fly()\n",
    "\n",
    "# Create objects\n",
    "sparrow = Sparrow()\n",
    "penguin = Penguin()\n",
    "\n",
    "# Use the same function to show different behaviors\n",
    "show_flight(sparrow)\n",
    "show_flight(penguin)"
   ]
  },
  {
   "cell_type": "code",
   "execution_count": 20,
   "id": "0515c1e0-451a-4172-b0fe-8d7e909e915e",
   "metadata": {},
   "outputs": [
    {
     "name": "stdout",
     "output_type": "stream",
     "text": [
      "Deposited: $50\n",
      "Withdrew: $30\n",
      "Current balance: $120\n"
     ]
    }
   ],
   "source": [
    "# 5. Write a program to demonstrate encapsulation by creating a class BankAccount with private attributes\n",
    "# balance and methods to deposit, withdraw, and check balance.\n",
    "\n",
    "# 5.\n",
    "class BankAccount:\n",
    "    def __init__(self, initial_balance=0):\n",
    "        self.__balance = initial_balance  # Private attribute\n",
    "\n",
    "    def deposit(self, amount):\n",
    "        if amount > 0:\n",
    "            self.__balance += amount\n",
    "            print(f\"Deposited: ${amount}\")\n",
    "        else:\n",
    "            print(\"Deposit amount must be positive.\")\n",
    "\n",
    "    def withdraw(self, amount):\n",
    "        if amount > 0:\n",
    "            if amount <= self.__balance:\n",
    "                self.__balance -= amount\n",
    "                print(f\"Withdrew: ${amount}\")\n",
    "            else:\n",
    "                print(\"Insufficient balance.\")\n",
    "        else:\n",
    "            print(\"Withdrawal amount must be positive.\")\n",
    "\n",
    "    def check_balance(self):\n",
    "        print(f\"Current balance: ${self.__balance}\")\n",
    "\n",
    "# Example usage:\n",
    "account = BankAccount(100)\n",
    "account.deposit(50)\n",
    "account.withdraw(30)\n",
    "account.check_balance()"
   ]
  },
  {
   "cell_type": "code",
   "execution_count": 21,
   "id": "2135ddb9-23db-44be-bda1-a5798dde6b06",
   "metadata": {},
   "outputs": [
    {
     "name": "stdout",
     "output_type": "stream",
     "text": [
      "Playing the guitar.\n",
      "Playing the piano.\n"
     ]
    }
   ],
   "source": [
    "# 6. Demonstrate runtime polymorphism using a method play() in a base class Instrument. Derive classes Guitar\n",
    "# and Piano that implement their own version of play().\n",
    "\n",
    "# 6. \n",
    "# Base class\n",
    "class Instrument:\n",
    "    def play(self):\n",
    "        print(\"Playing some instrument.\")\n",
    "\n",
    "# Derived class 1\n",
    "class Guitar(Instrument):\n",
    "    def play(self):\n",
    "        print(\"Playing the guitar.\")\n",
    "\n",
    "# Derived class 2\n",
    "class Piano(Instrument):\n",
    "    def play(self):\n",
    "        print(\"Playing the piano.\")\n",
    "\n",
    "# Function demonstrating runtime polymorphism\n",
    "def perform(instrument):\n",
    "    instrument.play()\n",
    "\n",
    "# Create objects\n",
    "guitar = Guitar()\n",
    "piano = Piano()\n",
    "\n",
    "# Call the same method on different objects\n",
    "perform(guitar) \n",
    "perform(piano)\n"
   ]
  },
  {
   "cell_type": "code",
   "execution_count": 26,
   "id": "def5e8ed-5d6e-4e79-8edf-5a6783db0ac4",
   "metadata": {},
   "outputs": [
    {
     "name": "stdout",
     "output_type": "stream",
     "text": [
      "10\n",
      "4\n"
     ]
    }
   ],
   "source": [
    "# 7. Create a class MathOperations with a class method add_numbers() to add two numbers and a static method subtract_numbers() to subtract two numbers.\n",
    "\n",
    "# 7. \n",
    "class MathOperations:\n",
    "    @classmethod\n",
    "    def add_numbers(cls, a, b):\n",
    "        return a + b\n",
    "\n",
    "    @staticmethod\n",
    "    def subtract_numbers(a, b):\n",
    "        return a - b\n",
    "\n",
    "# Example usage:\n",
    "print(MathOperations.add_numbers(7, 3))\n",
    "print(MathOperations.subtract_numbers(7, 3))"
   ]
  },
  {
   "cell_type": "code",
   "execution_count": 28,
   "id": "e30d84f2-c810-458e-acbd-0f710effdbfd",
   "metadata": {},
   "outputs": [
    {
     "name": "stdout",
     "output_type": "stream",
     "text": [
      "Total persons created: 3\n"
     ]
    }
   ],
   "source": [
    "# 8. Implement a class Person with a class method to count the total number of persons created.\n",
    "# 8.\n",
    "class Person:\n",
    "    count = 0  # Class variable to keep track of the number of persons\n",
    "\n",
    "    def __init__(self, name):\n",
    "        self.name = name\n",
    "        Person.count += 1  # Increment count whenever a new person is created\n",
    "\n",
    "    @classmethod\n",
    "    def total_persons(cls):\n",
    "        return cls.count\n",
    "\n",
    "# Testing\n",
    "p1 = Person(\"Alice\")\n",
    "p2 = Person(\"Bob\")\n",
    "p3 = Person(\"Charlie\")\n",
    "\n",
    "print(\"Total persons created:\", Person.total_persons())"
   ]
  },
  {
   "cell_type": "code",
   "execution_count": 29,
   "id": "d9b8f78a-30ee-4c33-bdcf-e2980b0c0b07",
   "metadata": {},
   "outputs": [
    {
     "name": "stdout",
     "output_type": "stream",
     "text": [
      "3/4\n"
     ]
    }
   ],
   "source": [
    "# 9. Write a class Fraction with attributes numerator and denominator. Override the str method to display the fraction as \"numerator/denominator\".\n",
    "\n",
    "# 9.\n",
    "class Fraction:\n",
    "    def __init__(self, numerator, denominator):\n",
    "        self.numerator = numerator\n",
    "        self.denominator = denominator\n",
    "\n",
    "    def __str__(self):\n",
    "        return f\"{self.numerator}/{self.denominator}\"\n",
    "\n",
    "# Example usage:\n",
    "frac = Fraction(3, 4)\n",
    "print(frac)"
   ]
  },
  {
   "cell_type": "code",
   "execution_count": 30,
   "id": "98e2348c-aa25-4b31-8dbf-a9c0284940c8",
   "metadata": {},
   "outputs": [
    {
     "name": "stdout",
     "output_type": "stream",
     "text": [
      "Vector(6, 8)\n"
     ]
    }
   ],
   "source": [
    "# 10. Demonstrate operator overloading by creating a class Vector and overriding the add method to add two vectors.\n",
    "\n",
    "# 10.\n",
    "class Vector:\n",
    "    def __init__(self, x, y):\n",
    "        self.x = x\n",
    "        self.y = y\n",
    "\n",
    "    def __add__(self, other):\n",
    "        if isinstance(other, Vector):\n",
    "            return Vector(self.x + other.x, self.y + other.y)\n",
    "        return NotImplemented\n",
    "\n",
    "    def __str__(self):\n",
    "        return f\"Vector({self.x}, {self.y})\"\n",
    "\n",
    "# Example usage:\n",
    "v1 = Vector(2, 3)\n",
    "v2 = Vector(4, 5)\n",
    "v3 = v1 + v2  # Uses the overloaded + operator\n",
    "\n",
    "print(v3)"
   ]
  },
  {
   "cell_type": "code",
   "execution_count": 32,
   "id": "d598b0db-bda3-47fa-bf25-7f5c36faa794",
   "metadata": {},
   "outputs": [
    {
     "name": "stdout",
     "output_type": "stream",
     "text": [
      "Hello, my name is Jawan Singh and I am 27 years old.\n"
     ]
    }
   ],
   "source": [
    "# 11. Create a class Person with attributes name and age. Add a method greet() that prints \"Hello, my name is {name} and I am {age} years old.\"\n",
    "\n",
    "# 11.\n",
    "class Person:\n",
    "    def __init__(self, name, age):\n",
    "        self.name = name\n",
    "        self.age = age\n",
    "\n",
    "    def greet(self):\n",
    "        print(f\"Hello, my name is {self.name} and I am {self.age} years old.\")\n",
    "\n",
    "# Example usage:\n",
    "person = Person(\"Jawan Singh\", 27)\n",
    "person.greet()"
   ]
  },
  {
   "cell_type": "code",
   "execution_count": 35,
   "id": "33471dc6-c791-450f-8ba7-218e46b1d64a",
   "metadata": {},
   "outputs": [
    {
     "name": "stdout",
     "output_type": "stream",
     "text": [
      "Jawan Singh's average grade is 88.75\n"
     ]
    }
   ],
   "source": [
    "# 12. Implement a class Student with attributes name and grades. Create a method average_grade() to compute the average of the grades.\n",
    "\n",
    "# 12. \n",
    "class Student:\n",
    "    def __init__(self, name, grades):\n",
    "        self.name = name\n",
    "        self.grades = grades  # Expecting a list of numbers\n",
    "\n",
    "    def average_grade(self):\n",
    "        if not self.grades:\n",
    "            return 0  # Avoid division by zero\n",
    "        return sum(self.grades) / len(self.grades)\n",
    "\n",
    "# Example usage:\n",
    "student = Student(\"Jawan Singh\", [85, 90, 88, 92])\n",
    "print(f\"{student.name}'s average grade is {student.average_grade():.2f}\")"
   ]
  },
  {
   "cell_type": "code",
   "execution_count": 36,
   "id": "892e0df2-264e-4d23-993e-d1630b1f6af5",
   "metadata": {},
   "outputs": [
    {
     "name": "stdout",
     "output_type": "stream",
     "text": [
      "Area of rectangle: 15\n"
     ]
    }
   ],
   "source": [
    "# 13. Create a class Rectangle with methods set_dimensions() to set the dimensions and area() to calculate the area.\n",
    "\n",
    "# 13.\n",
    "class Rectangle:\n",
    "    def __init__(self):\n",
    "        self.length = 0\n",
    "        self.width = 0\n",
    "\n",
    "    def set_dimensions(self, length, width):\n",
    "        self.length = length\n",
    "        self.width = width\n",
    "\n",
    "    def area(self):\n",
    "        return self.length * self.width\n",
    "\n",
    "# Example usage:\n",
    "rect = Rectangle()\n",
    "rect.set_dimensions(5, 3)\n",
    "print(\"Area of rectangle:\", rect.area())"
   ]
  },
  {
   "cell_type": "code",
   "execution_count": 38,
   "id": "6dfab1bc-9b78-4cf9-9b7f-500678a30b74",
   "metadata": {},
   "outputs": [
    {
     "name": "stdout",
     "output_type": "stream",
     "text": [
      "Rajat Singh's salary: $800\n",
      "Jawan Singh's salary: $1500\n"
     ]
    }
   ],
   "source": [
    "# 14. Create a class Employee with a method calculate_salary() that computes the salary based on hours worked\n",
    "# and hourly rate. Create a derived class Manager that adds a bonus to the salary.\n",
    "\n",
    "# 14. \n",
    "class Employee:\n",
    "    def __init__(self, name, hours_worked, hourly_rate):\n",
    "        self.name = name\n",
    "        self.hours_worked = hours_worked\n",
    "        self.hourly_rate = hourly_rate\n",
    "\n",
    "    def calculate_salary(self):\n",
    "        return self.hours_worked * self.hourly_rate\n",
    "\n",
    "class Manager(Employee):\n",
    "    def __init__(self, name, hours_worked, hourly_rate, bonus):\n",
    "        super().__init__(name, hours_worked, hourly_rate)\n",
    "        self.bonus = bonus\n",
    "\n",
    "    def calculate_salary(self):\n",
    "        base_salary = super().calculate_salary()\n",
    "        return base_salary + self.bonus\n",
    "\n",
    "# Example usage:\n",
    "emp = Employee(\"Rajat Singh\", 40, 20)\n",
    "mgr = Manager(\"Jawan Singh\", 40, 25, 500)\n",
    "\n",
    "print(f\"{emp.name}'s salary: ${emp.calculate_salary()}\")\n",
    "print(f\"{mgr.name}'s salary: ${mgr.calculate_salary()}\")"
   ]
  },
  {
   "cell_type": "code",
   "execution_count": 39,
   "id": "1510b426-b393-4502-96a0-804c34636778",
   "metadata": {},
   "outputs": [
    {
     "name": "stdout",
     "output_type": "stream",
     "text": [
      "Total price for 3 Laptops is $2400\n"
     ]
    }
   ],
   "source": [
    "# 15. Create a class Product with attributes name, price, and quantity. Implement a method total_price() that calculates the total \n",
    "# price of the product.\n",
    "\n",
    "# 15.\n",
    "\n",
    "class Product:\n",
    "    def __init__(self, name, price, quantity):\n",
    "        self.name = name\n",
    "        self.price = price\n",
    "        self.quantity = quantity\n",
    "\n",
    "    def total_price(self):\n",
    "        return self.price * self.quantity\n",
    "\n",
    "# Example usage:\n",
    "product = Product(\"Laptop\", 800, 3)\n",
    "print(f\"Total price for {product.quantity} {product.name}s is ${product.total_price()}\")"
   ]
  },
  {
   "cell_type": "code",
   "execution_count": 40,
   "id": "03703086-12b1-4e02-9ea0-89aacf2aa765",
   "metadata": {},
   "outputs": [
    {
     "name": "stdout",
     "output_type": "stream",
     "text": [
      "Moo\n",
      "Baa\n"
     ]
    }
   ],
   "source": [
    "# 16. Create a class Animal with an abstract method sound(). Create two derived classes Cow and Sheep that implement the sound() method.\n",
    "\n",
    "# 16.\n",
    "from abc import ABC, abstractmethod\n",
    "\n",
    "class Animal(ABC):\n",
    "    @abstractmethod\n",
    "    def sound(self):\n",
    "        pass\n",
    "\n",
    "class Cow(Animal):\n",
    "    def sound(self):\n",
    "        print(\"Moo\")\n",
    "\n",
    "class Sheep(Animal):\n",
    "    def sound(self):\n",
    "        print(\"Baa\")\n",
    "\n",
    "# Example usage:\n",
    "cow = Cow()\n",
    "sheep = Sheep()\n",
    "\n",
    "cow.sound()\n",
    "sheep.sound()"
   ]
  },
  {
   "cell_type": "code",
   "execution_count": 41,
   "id": "c84f38d5-c0b4-4209-abbe-6c6c9c5d1c07",
   "metadata": {},
   "outputs": [
    {
     "name": "stdout",
     "output_type": "stream",
     "text": [
      "'1984' by George Orwell, published in 1949\n"
     ]
    }
   ],
   "source": [
    "# 17. Create a class Book with attributes title, author, and year_published. Add a method get_book_info() that\n",
    "# returns a formatted string with the book's details.\n",
    "\n",
    "#17.\n",
    "\n",
    "class Book:\n",
    "    def __init__(self, title, author, year_published):\n",
    "        self.title = title\n",
    "        self.author = author\n",
    "        self.year_published = year_published\n",
    "\n",
    "    def get_book_info(self):\n",
    "        return f\"'{self.title}' by {self.author}, published in {self.year_published}\"\n",
    "\n",
    "# Example usage:\n",
    "book = Book(\"1984\", \"George Orwell\", 1949)\n",
    "print(book.get_book_info())  "
   ]
  },
  {
   "cell_type": "code",
   "execution_count": 42,
   "id": "2052d0ef-d29c-4416-a9a8-64d80f4591be",
   "metadata": {},
   "outputs": [
    {
     "name": "stdout",
     "output_type": "stream",
     "text": [
      "House address: 123 Maple St, Price: $250000\n",
      "Mansion address: 456 Oak Ave, Price: $1200000, Rooms: 10\n"
     ]
    }
   ],
   "source": [
    "# 18. Create a class House with attributes address and price. Create a derived class Mansion that adds an attribute number_of_rooms.\n",
    "\n",
    "# 18.\n",
    "\n",
    "class House:\n",
    "    def __init__(self, address, price):\n",
    "        self.address = address\n",
    "        self.price = price\n",
    "\n",
    "class Mansion(House):\n",
    "    def __init__(self, address, price, number_of_rooms):\n",
    "        super().__init__(address, price)\n",
    "        self.number_of_rooms = number_of_rooms\n",
    "\n",
    "# Example usage:\n",
    "house = House(\"123 Maple St\", 250000)\n",
    "mansion = Mansion(\"456 Oak Ave\", 1200000, 10)\n",
    "\n",
    "print(f\"House address: {house.address}, Price: ${house.price}\")\n",
    "print(f\"Mansion address: {mansion.address}, Price: ${mansion.price}, Rooms: {mansion.number_of_rooms}\")"
   ]
  }
 ],
 "metadata": {
  "kernelspec": {
   "display_name": "Python 3 (ipykernel)",
   "language": "python",
   "name": "python3"
  },
  "language_info": {
   "codemirror_mode": {
    "name": "ipython",
    "version": 3
   },
   "file_extension": ".py",
   "mimetype": "text/x-python",
   "name": "python",
   "nbconvert_exporter": "python",
   "pygments_lexer": "ipython3",
   "version": "3.13.2"
  }
 },
 "nbformat": 4,
 "nbformat_minor": 5
}
