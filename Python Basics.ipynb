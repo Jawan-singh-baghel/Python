{
 "cells": [
  {
   "cell_type": "code",
   "execution_count": null,
   "id": "f81c02c8-54e8-4d7b-9034-a345b7382262",
   "metadata": {},
   "outputs": [],
   "source": [
    "# Assignment No.1\n",
    "# Python Basics"
   ]
  },
  {
   "cell_type": "code",
   "execution_count": null,
   "id": "74a9e8d2-4933-44e9-aa05-8c0ba99b2963",
   "metadata": {},
   "outputs": [],
   "source": [
    "# 1. What is Python, and why is it popular?\n",
    "# 1. Python is a high-level, easy-to-learn programming language used for building websites, automating tasks, analyzing data, and more.\n",
    "# Why is it popular?\n",
    "# Simple and readable syntax\n",
    "# Great for beginners and experts\n",
    "# Large community and library support\n",
    "# Works for web, data, AI, and automation."
   ]
  },
  {
   "cell_type": "code",
   "execution_count": null,
   "id": "3b3396d8-5b70-458a-97a0-a3ee97fc2294",
   "metadata": {},
   "outputs": [],
   "source": [
    "# 2. What is an interpreter in Python?\n",
    "# 2. An interpreter in Python is a program that reads and runs Python code line by line,\n",
    "# converting it into machine code that the computer can understand.\n",
    "# This means you don't need to compile Python code before running it — the interpreter does that work as the program runs."
   ]
  },
  {
   "cell_type": "code",
   "execution_count": null,
   "id": "ce93563e-da4a-44a4-9989-adf906c45d85",
   "metadata": {},
   "outputs": [],
   "source": [
    "# 3. What are pre-defined keywords in Python?\n",
    "# 3. Pre-defined keywords in Python are reserved words that have special meaning to the Python interpreter. \n",
    "# You cannot use them as variable names because they are part of the Python language syntax.\n",
    "# Examples: \n",
    "if, else, while, for, def, class, True, False, None, etc."
   ]
  },
  {
   "cell_type": "code",
   "execution_count": 1,
   "id": "f161404f-1729-481d-b8f9-53cb39e15482",
   "metadata": {},
   "outputs": [
    {
     "ename": "SyntaxError",
     "evalue": "invalid syntax (1192117046.py, line 4)",
     "output_type": "error",
     "traceback": [
      "  \u001b[36mCell\u001b[39m\u001b[36m \u001b[39m\u001b[32mIn[1]\u001b[39m\u001b[32m, line 4\u001b[39m\n\u001b[31m    \u001b[39m\u001b[31mif=10\u001b[39m\n      ^\n\u001b[31mSyntaxError\u001b[39m\u001b[31m:\u001b[39m invalid syntax\n"
     ]
    }
   ],
   "source": [
    "# 4. Can keywords be used as variable names?\n",
    "# 4. No, keywords cannot be used as variable names in Python.\n",
    "# They are reserved words that have special meanings in the language, so using them would cause a syntax error.\n",
    "if=10"
   ]
  },
  {
   "cell_type": "code",
   "execution_count": null,
   "id": "cce873b6-adb4-478c-97ed-efb699db86aa",
   "metadata": {},
   "outputs": [],
   "source": [
    "# 5.  What is mutability in Python?\n",
    "# 5. Mutability in Python refers to whether or not an object’s value can be changed after it is created.\n",
    "\n",
    "# Mutable objects can be changed in place.\n",
    "# Examples: list, dict, set\n",
    "\n",
    "# Immutable objects cannot be changed after creation.\n",
    "# Examples: int, float, str, tuple"
   ]
  },
  {
   "cell_type": "code",
   "execution_count": null,
   "id": "ff5c06a1-e9cb-4deb-aa33-225b11761003",
   "metadata": {},
   "outputs": [],
   "source": [
    "# For example, you can modify a list:"
   ]
  },
  {
   "cell_type": "code",
   "execution_count": 8,
   "id": "29ff378f-f646-4e10-b172-83817eb58b4f",
   "metadata": {},
   "outputs": [],
   "source": [
    "my_list = [1, 2, 3]\n",
    "my_list[0] = 10"
   ]
  },
  {
   "cell_type": "code",
   "execution_count": null,
   "id": "e1725815-90d6-416e-aa42-9a102728531d",
   "metadata": {},
   "outputs": [],
   "source": [
    "# This works because lists are mutable."
   ]
  },
  {
   "cell_type": "code",
   "execution_count": null,
   "id": "98756bc0-3132-453e-9caa-cd008b6ac241",
   "metadata": {},
   "outputs": [],
   "source": [
    "# But you cannot modify a string:"
   ]
  },
  {
   "cell_type": "code",
   "execution_count": 9,
   "id": "638129cc-ddd0-4e1c-9fbc-ab3fa6af7dd8",
   "metadata": {},
   "outputs": [
    {
     "ename": "TypeError",
     "evalue": "'str' object does not support item assignment",
     "output_type": "error",
     "traceback": [
      "\u001b[31m---------------------------------------------------------------------------\u001b[39m",
      "\u001b[31mTypeError\u001b[39m                                 Traceback (most recent call last)",
      "\u001b[36mCell\u001b[39m\u001b[36m \u001b[39m\u001b[32mIn[9]\u001b[39m\u001b[32m, line 2\u001b[39m\n\u001b[32m      1\u001b[39m my_str = \u001b[33m\"\u001b[39m\u001b[33mhello\u001b[39m\u001b[33m\"\u001b[39m\n\u001b[32m----> \u001b[39m\u001b[32m2\u001b[39m \u001b[43mmy_str\u001b[49m\u001b[43m[\u001b[49m\u001b[32;43m0\u001b[39;49m\u001b[43m]\u001b[49m = \u001b[33m\"\u001b[39m\u001b[33mH\u001b[39m\u001b[33m\"\u001b[39m\n",
      "\u001b[31mTypeError\u001b[39m: 'str' object does not support item assignment"
     ]
    }
   ],
   "source": [
    "my_str = \"hello\"\n",
    "my_str[0] = \"H\""
   ]
  },
  {
   "cell_type": "code",
   "execution_count": null,
   "id": "67c7945e-9a6b-4582-bd6d-1ce4f42bbd71",
   "metadata": {},
   "outputs": [],
   "source": [
    "# This will cause an error because strings are immutable."
   ]
  },
  {
   "cell_type": "code",
   "execution_count": null,
   "id": "e519c73d-349c-4860-b3a6-014a22b4bcb6",
   "metadata": {},
   "outputs": [],
   "source": [
    "# 6. Why are lists mutable, but tuples are immutable?\n",
    "# 6. Lists are mutable and tuples are immutable because they are designed for different purposes in Python:\n",
    "\n",
    "# Lists are meant to store collections of items that might need to change — \n",
    "# such as adding, removing, or modifying elements. So they are mutable to support this flexibility.\n",
    "\n",
    "# Tuples, on the other hand, are used to store fixed collections of items.\n",
    "# They are immutable to provide safety and performance — once created, the data can’t be changed, \n",
    "# which helps prevent accidental modification and allows Python to optimize storage and speed.\n",
    "\n",
    "# In short:\n",
    "# Lists = changeable (mutable) → useful for dynamic data\n",
    "# Tuples = unchangeable (immutable) → useful for fixed, protected data"
   ]
  },
  {
   "cell_type": "code",
   "execution_count": null,
   "id": "7b23dafb-435a-4f5f-95cd-b6dbe2bc32f1",
   "metadata": {},
   "outputs": [],
   "source": [
    "# 7. What is the difference between “==” and “is” operators in Python?\n",
    "# 7. In Python, == and is are used for comparison, but they check different things:\n",
    "\n",
    "# == checks if two variables have the same value (content).\n",
    "\n",
    "# is checks if two variables point to the same object in memory (identity)."
   ]
  },
  {
   "cell_type": "code",
   "execution_count": 10,
   "id": "ac34ec59-927a-42fc-9712-2345306641dc",
   "metadata": {},
   "outputs": [
    {
     "name": "stdout",
     "output_type": "stream",
     "text": [
      "True\n",
      "False\n"
     ]
    }
   ],
   "source": [
    "# Example:\n",
    "a = [1, 2, 3]\n",
    "b = [1, 2, 3]\n",
    "\n",
    "print(a == b)\n",
    "print(a is b)\n"
   ]
  },
  {
   "cell_type": "code",
   "execution_count": 11,
   "id": "c7c001de-a039-4a60-ac1c-be7efe9ce5b6",
   "metadata": {},
   "outputs": [],
   "source": [
    "#So, use == when comparing values, and is when checking if two variables refer to the same object."
   ]
  },
  {
   "cell_type": "code",
   "execution_count": null,
   "id": "21383b31-7170-4e71-b5ee-79584ed8ac63",
   "metadata": {},
   "outputs": [],
   "source": [
    "# 8. What are logical operators in Python?\n",
    "# 8. Logical operators in Python are used to combine or compare Boolean values (True or False). There are three main logical operators:\n",
    "\n",
    "# 1. and – Returns True if both conditions are True."
   ]
  },
  {
   "cell_type": "code",
   "execution_count": 14,
   "id": "943fbc12-4ded-483a-a4aa-97e68fff3704",
   "metadata": {},
   "outputs": [
    {
     "data": {
      "text/plain": [
       "True"
      ]
     },
     "execution_count": 14,
     "metadata": {},
     "output_type": "execute_result"
    }
   ],
   "source": [
    "True and True"
   ]
  },
  {
   "cell_type": "code",
   "execution_count": 15,
   "id": "f54060bf-e329-418a-ba52-efa35ea34d6b",
   "metadata": {},
   "outputs": [
    {
     "data": {
      "text/plain": [
       "False"
      ]
     },
     "execution_count": 15,
     "metadata": {},
     "output_type": "execute_result"
    }
   ],
   "source": [
    "True and False"
   ]
  },
  {
   "cell_type": "code",
   "execution_count": null,
   "id": "5fc1053c-1930-4e59-aa8c-23433488d440",
   "metadata": {},
   "outputs": [],
   "source": [
    "# 2 or – Returns True if at least one condition is True."
   ]
  },
  {
   "cell_type": "code",
   "execution_count": 16,
   "id": "f881d0fb-034b-4287-8e2d-5b3e594c9c07",
   "metadata": {},
   "outputs": [
    {
     "data": {
      "text/plain": [
       "True"
      ]
     },
     "execution_count": 16,
     "metadata": {},
     "output_type": "execute_result"
    }
   ],
   "source": [
    "True or False"
   ]
  },
  {
   "cell_type": "code",
   "execution_count": 17,
   "id": "df9b4e0d-edef-4974-aad8-a99004e036cb",
   "metadata": {},
   "outputs": [
    {
     "data": {
      "text/plain": [
       "False"
      ]
     },
     "execution_count": 17,
     "metadata": {},
     "output_type": "execute_result"
    }
   ],
   "source": [
    "False or False"
   ]
  },
  {
   "cell_type": "code",
   "execution_count": null,
   "id": "ee9a7ace-a1d4-4c24-bd03-b87f0a0762d8",
   "metadata": {},
   "outputs": [],
   "source": [
    "# 3 not – Reverses the Boolean value."
   ]
  },
  {
   "cell_type": "code",
   "execution_count": 18,
   "id": "e5d07572-1947-4cf5-98c0-3b09323eb89f",
   "metadata": {},
   "outputs": [
    {
     "data": {
      "text/plain": [
       "False"
      ]
     },
     "execution_count": 18,
     "metadata": {},
     "output_type": "execute_result"
    }
   ],
   "source": [
    "not True"
   ]
  },
  {
   "cell_type": "code",
   "execution_count": 19,
   "id": "18fc6035-31e3-4354-bb2e-6afeb6a5cb72",
   "metadata": {},
   "outputs": [
    {
     "data": {
      "text/plain": [
       "True"
      ]
     },
     "execution_count": 19,
     "metadata": {},
     "output_type": "execute_result"
    }
   ],
   "source": [
    "not False"
   ]
  },
  {
   "cell_type": "code",
   "execution_count": null,
   "id": "6a0b55af-69df-4055-b0e5-63bf3220739f",
   "metadata": {},
   "outputs": [],
   "source": [
    "# These are commonly used in if statements and conditionals."
   ]
  },
  {
   "cell_type": "code",
   "execution_count": 20,
   "id": "23017c11-08e4-4bee-8e6d-e20c1ca1f276",
   "metadata": {},
   "outputs": [],
   "source": [
    "# 9. What is type casting in Python?\n",
    "# 9. Type casting in Python means converting a value from one data type to another.\n",
    "#   It's often used to make sure values are in the right format for operations."
   ]
  },
  {
   "cell_type": "code",
   "execution_count": 59,
   "id": "980a6f16-5fd4-4d8d-8bc0-49a2905ac2ed",
   "metadata": {},
   "outputs": [],
   "source": [
    "# Example\n",
    "x = \"10\"\n",
    "y = int(x)     \n",
    "z = float(x)    \n",
    "a = str(5)  "
   ]
  },
  {
   "cell_type": "code",
   "execution_count": null,
   "id": "c4427316-f21a-4613-aa25-5d3e5b0804ea",
   "metadata": {},
   "outputs": [],
   "source": [
    "# Types commonly used:\n",
    "\n",
    "# int() – to convert to integer\n",
    "\n",
    "# float() – to convert to float\n",
    "\n",
    "# str() – to convert to string\n",
    "\n",
    "# bool() – to convert to Boolean (True or False)\n",
    "\n",
    "# This is useful when dealing with user input, math operations, or formatting output."
   ]
  },
  {
   "cell_type": "code",
   "execution_count": null,
   "id": "b601e4d1-db12-4037-b935-032a20dd997f",
   "metadata": {},
   "outputs": [],
   "source": [
    "# 10. What is the difference between implicit and explicit type casting?\n",
    "# 10. The difference between implicit and explicit type casting in Python is:"
   ]
  },
  {
   "cell_type": "code",
   "execution_count": 55,
   "id": "6b22c00e-4472-4661-b4c3-5628266d02c8",
   "metadata": {},
   "outputs": [
    {
     "name": "stdout",
     "output_type": "stream",
     "text": [
      "7.0\n"
     ]
    }
   ],
   "source": [
    "# 1. Implicit Type Casting (Automatic)\n",
    "# Python automatically converts one data type to another when safe.\n",
    "x = 5        \n",
    "y = 2.0      \n",
    "z = x + y    \n",
    "print(z)    "
   ]
  },
  {
   "cell_type": "code",
   "execution_count": 56,
   "id": "1d0a7f1e-df94-4af8-8f30-419879a64015",
   "metadata": {},
   "outputs": [
    {
     "name": "stdout",
     "output_type": "stream",
     "text": [
      "15\n"
     ]
    }
   ],
   "source": [
    "# 2. Explicit Type Casting (Manual)\n",
    "# You manually convert one data type to another using functions like int(), float(), or str().\n",
    "x = \"10\"\n",
    "y = int(x)   \n",
    "print(y + 5)"
   ]
  },
  {
   "cell_type": "code",
   "execution_count": null,
   "id": "c4c27c43-5a1b-4ed8-b158-05110a65ee08",
   "metadata": {},
   "outputs": [],
   "source": [
    "# In short:\n",
    "\n",
    "# Implicit = Python decides\n",
    "\n",
    "# Explicit = You decide"
   ]
  },
  {
   "cell_type": "code",
   "execution_count": 27,
   "id": "4245e579-bac4-4a4c-a570-81ca7ed8efb9",
   "metadata": {},
   "outputs": [],
   "source": [
    "# 11. What is the purpose of conditional statements in Python?\n",
    "# 11. The purpose of conditional statements in Python is to make decisions in a program by executing certain code only when specific conditions are met.\n",
    "\n",
    "# They allow the program to respond differently to different inputs or situations using statements like:\n",
    "\n",
    "# if – runs a block if a condition is true\n",
    "\n",
    "# elif – checks another condition if the previous one was false\n",
    "\n",
    "# else – runs if all previous conditions were false"
   ]
  },
  {
   "cell_type": "code",
   "execution_count": 29,
   "id": "2c51687b-ef1c-4424-a0c5-dfa5c9a1cdef",
   "metadata": {},
   "outputs": [
    {
     "name": "stdout",
     "output_type": "stream",
     "text": [
      "You can vote.\n"
     ]
    }
   ],
   "source": [
    "# Example:\n",
    "age = 18\n",
    "if age >= 18:\n",
    "    print(\"You can vote.\")\n",
    "else:\n",
    "    print(\"You cannot vote yet.\")"
   ]
  },
  {
   "cell_type": "code",
   "execution_count": null,
   "id": "77607d92-2b39-4ed3-b9f5-a356abe24275",
   "metadata": {},
   "outputs": [],
   "source": [
    "# 12. How does the elif statement work?\n",
    "\n",
    "# 12. The elif (short for \"else if\") statement in Python is used to check multiple conditions, one after another.\n",
    "# It runs only if the previous if or elif was false.\n",
    "\n",
    "# How it works:\n",
    "\n",
    "# Python checks the first if condition.\n",
    "\n",
    "# If it’s False, it checks the first elif.\n",
    "\n",
    "# If that's False, it keeps checking any more elif lines.\n",
    "\n",
    "# If none are true, it runs the else block (if present)."
   ]
  },
  {
   "cell_type": "code",
   "execution_count": 30,
   "id": "7f549f70-251a-4b15-99e0-88d3a30d1ec9",
   "metadata": {},
   "outputs": [
    {
     "name": "stdout",
     "output_type": "stream",
     "text": [
      "Greater than 5\n"
     ]
    }
   ],
   "source": [
    "# Example:\n",
    "x = 10\n",
    "\n",
    "if x > 20:\n",
    "    print(\"Greater than 20\")\n",
    "elif x > 15:\n",
    "    print(\"Greater than 15\")\n",
    "elif x > 5:\n",
    "    print(\"Greater than 5\")\n",
    "else:\n",
    "    print(\"5 or less\")"
   ]
  },
  {
   "cell_type": "code",
   "execution_count": null,
   "id": "9f292d0c-4b39-495e-8850-6089d7905e34",
   "metadata": {},
   "outputs": [],
   "source": [
    "# Output: Greater than 5 – because it’s the first true condition."
   ]
  },
  {
   "cell_type": "code",
   "execution_count": null,
   "id": "2c88aa6c-9d33-4ea3-8e54-cccd39a7c329",
   "metadata": {},
   "outputs": [],
   "source": [
    "# 13. What is the difference between for and while loops?\n",
    "# 13. The main difference between for and while loops in Python is how they repeat code:\n",
    "\n",
    "# 1. for loop – Repeats a block a specific number of times \n",
    "# Used when you know in advance how many times to loop."
   ]
  },
  {
   "cell_type": "code",
   "execution_count": 1,
   "id": "c9949daf-a7ef-44b3-b66f-713fa685746c",
   "metadata": {},
   "outputs": [
    {
     "name": "stdout",
     "output_type": "stream",
     "text": [
      "0\n",
      "1\n",
      "2\n",
      "3\n",
      "4\n"
     ]
    }
   ],
   "source": [
    "for i in range(5):\n",
    "    print(i)"
   ]
  },
  {
   "cell_type": "code",
   "execution_count": null,
   "id": "9756e148-1353-4a4f-af8f-4571b467be03",
   "metadata": {},
   "outputs": [],
   "source": [
    "# 2. while loop – Repeats a block as long as a condition is true\n",
    "# Used when the number of repetitions is unknown or depends on a condition."
   ]
  },
  {
   "cell_type": "code",
   "execution_count": 2,
   "id": "500137c9-a05f-45de-a3f6-c2893e46a239",
   "metadata": {},
   "outputs": [
    {
     "name": "stdout",
     "output_type": "stream",
     "text": [
      "0\n",
      "1\n",
      "2\n",
      "3\n",
      "4\n"
     ]
    }
   ],
   "source": [
    "i = 0\n",
    "while i < 5:\n",
    "    print(i)\n",
    "    i += 1"
   ]
  },
  {
   "cell_type": "code",
   "execution_count": null,
   "id": "1ae6cf11-cd06-4840-a816-6dc521ac2164",
   "metadata": {},
   "outputs": [],
   "source": [
    "# Use for when looping over items or a known range.\n",
    "\n",
    "# Use while when looping until a condition changes."
   ]
  },
  {
   "cell_type": "code",
   "execution_count": 6,
   "id": "fc3dde91-7c7b-4f8c-a2f7-79a79487b488",
   "metadata": {},
   "outputs": [
    {
     "name": "stdin",
     "output_type": "stream",
     "text": [
      "Enter your password:  jsb123\n"
     ]
    },
    {
     "name": "stdout",
     "output_type": "stream",
     "text": [
      "Access granted.\n"
     ]
    }
   ],
   "source": [
    "# 14. Describe a scenario where a while loop is more suitable than a for loop.\n",
    "# 14. A while loop is more suitable than a for loop when the number of iterations is not known in advance \n",
    "# and depends on a condition that may change in unpredictable ways during the execution of the loop.\n",
    "# Scenario: User Input Validation\n",
    "# Imagine a program that prompts a user to enter a valid password. You don’t know how many attempts the user will need, so a while loop is ideal.\n",
    "\n",
    "correct_password = \"jsb123\"\n",
    "user_input = \"\"\n",
    "\n",
    "while user_input != correct_password:\n",
    "    user_input = input(\"Enter your password: \")\n",
    "    if user_input != correct_password:\n",
    "        print(\"Incorrect password. Try again.\")\n",
    "\n",
    "print(\"Access granted.\")"
   ]
  },
  {
   "cell_type": "code",
   "execution_count": 7,
   "id": "98a1ade4-47d2-4ec8-bbc4-3c29ad67a032",
   "metadata": {},
   "outputs": [],
   "source": [
    "# Why not a for loop?\n",
    "# A for loop is generally used when you know how many times you want to iterate (e.g., 10 times or over a list).\n",
    "\n",
    "# In this scenario, the loop continues indefinitely until a certain condition is met (correct password entered), \n",
    "# which is better handled with a while loop."
   ]
  },
  {
   "cell_type": "code",
   "execution_count": 10,
   "id": "fb844589-88f4-4de2-af13-6dd9f05b0285",
   "metadata": {},
   "outputs": [],
   "source": [
    "# Practical"
   ]
  },
  {
   "cell_type": "code",
   "execution_count": 11,
   "id": "4542718a-31e5-4026-a6a3-84981b11f648",
   "metadata": {},
   "outputs": [
    {
     "name": "stdout",
     "output_type": "stream",
     "text": [
      "Hello, World!\n"
     ]
    }
   ],
   "source": [
    "# 1. Write a Python program to print \"Hello, World!\".\n",
    "# 1. \n",
    "print(\"Hello, World!\")"
   ]
  },
  {
   "cell_type": "code",
   "execution_count": 12,
   "id": "532e963b-95c0-40d0-82fd-53a4493938d0",
   "metadata": {},
   "outputs": [
    {
     "name": "stdout",
     "output_type": "stream",
     "text": [
      "Name: Jawan Singh\n",
      "Age: 27\n"
     ]
    }
   ],
   "source": [
    "# 2. Write a Python program that displays your name and age?\n",
    "# 2.\n",
    "name = \"Jawan Singh\"\n",
    "age = 27\n",
    "print(\"Name:\", name)\n",
    "print(\"Age:\", age)"
   ]
  },
  {
   "cell_type": "code",
   "execution_count": 13,
   "id": "7050eb0f-71a6-4c6c-81bc-362a2ff14a5e",
   "metadata": {},
   "outputs": [
    {
     "name": "stdout",
     "output_type": "stream",
     "text": [
      "Python keywords are:\n",
      "['False', 'None', 'True', 'and', 'as', 'assert', 'async', 'await', 'break', 'class', 'continue', 'def', 'del', 'elif', 'else', 'except', 'finally', 'for', 'from', 'global', 'if', 'import', 'in', 'is', 'lambda', 'nonlocal', 'not', 'or', 'pass', 'raise', 'return', 'try', 'while', 'with', 'yield']\n"
     ]
    }
   ],
   "source": [
    "# 3. Write code to print all the pre-defined keywords in Python using the keyword library?\n",
    "# 3.\n",
    "import keyword\n",
    "print(\"Python keywords are:\")\n",
    "print(keyword.kwlist)"
   ]
  },
  {
   "cell_type": "code",
   "execution_count": 23,
   "id": "bc6d62e9-915d-4583-8553-46c8c141a8d4",
   "metadata": {},
   "outputs": [
    {
     "name": "stdin",
     "output_type": "stream",
     "text": [
      "Enter a word:  True\n"
     ]
    },
    {
     "name": "stdout",
     "output_type": "stream",
     "text": [
      "'True' is a Python keyword.\n"
     ]
    }
   ],
   "source": [
    "# 4. Write a program that checks if a given word is a Python keyword.\n",
    "# 4.\n",
    "import keyword\n",
    "word = input(\"Enter a word: \")\n",
    "if keyword.iskeyword(word):\n",
    "    print(f\"'{word}' is a Python keyword.\")\n",
    "else:\n",
    "    print(f\"'{word}' is not a Python keyword.\")"
   ]
  },
  {
   "cell_type": "code",
   "execution_count": 34,
   "id": "8716c618-0984-48cd-ad98-aced0977e269",
   "metadata": {},
   "outputs": [
    {
     "name": "stdout",
     "output_type": "stream",
     "text": [
      "Modified list: [10, 2, 3]\n"
     ]
    },
    {
     "ename": "TypeError",
     "evalue": "'tuple' object does not support item assignment",
     "output_type": "error",
     "traceback": [
      "\u001b[31m---------------------------------------------------------------------------\u001b[39m",
      "\u001b[31mTypeError\u001b[39m                                 Traceback (most recent call last)",
      "\u001b[36mCell\u001b[39m\u001b[36m \u001b[39m\u001b[32mIn[34]\u001b[39m\u001b[32m, line 8\u001b[39m\n\u001b[32m      6\u001b[39m my_list[\u001b[32m0\u001b[39m] = \u001b[32m10\u001b[39m\n\u001b[32m      7\u001b[39m \u001b[38;5;28mprint\u001b[39m(\u001b[33m\"\u001b[39m\u001b[33mModified list:\u001b[39m\u001b[33m\"\u001b[39m, my_list)\n\u001b[32m----> \u001b[39m\u001b[32m8\u001b[39m \u001b[43mmy_tuple\u001b[49m\u001b[43m[\u001b[49m\u001b[32;43m0\u001b[39;49m\u001b[43m]\u001b[49m = \u001b[32m10\u001b[39m\n",
      "\u001b[31mTypeError\u001b[39m: 'tuple' object does not support item assignment"
     ]
    }
   ],
   "source": [
    "# 5.Create a list and tuple in Python, and demonstrate how attempting to change an element works differently for each.\n",
    "# 5.\n",
    "my_list = [1, 2, 3]\n",
    "my_tuple = (1, 2, 3)\n",
    "\n",
    "my_list[0] = 10\n",
    "print(\"Modified list:\", my_list)\n",
    "my_tuple[0] = 10"
   ]
  },
  {
   "cell_type": "code",
   "execution_count": 35,
   "id": "53decd79-b2ae-4e93-b874-a410fdfa309c",
   "metadata": {},
   "outputs": [
    {
     "name": "stdout",
     "output_type": "stream",
     "text": [
      "Inside function:\n",
      "a_number: 15\n",
      "a_list: [1, 2, 3, 4]\n",
      "\n",
      "Outside function:\n",
      "num: 5\n",
      "lst: [1, 2, 3, 4]\n"
     ]
    }
   ],
   "source": [
    "# 6. Write a function to demonstrate the behavior of mutable and immutable arguments.\n",
    "# 6.\n",
    "def modify_args(a_number, a_list):\n",
    "    a_number += 10       \n",
    "    a_list.append(4)\n",
    "    print(\"Inside function:\")\n",
    "    print(\"a_number:\", a_number)\n",
    "    print(\"a_list:\", a_list)\n",
    "num = 5\n",
    "lst = [1, 2, 3]\n",
    "modify_args(num, lst)\n",
    "print(\"\\nOutside function:\")\n",
    "print(\"num:\", num)\n",
    "print(\"lst:\", lst)"
   ]
  },
  {
   "cell_type": "code",
   "execution_count": 38,
   "id": "a3d315e7-8cde-442a-8c6e-2d84cdc93e03",
   "metadata": {},
   "outputs": [
    {
     "name": "stdin",
     "output_type": "stream",
     "text": [
      "Enter first number:  100\n",
      "Enter second number:  50\n"
     ]
    },
    {
     "name": "stdout",
     "output_type": "stream",
     "text": [
      "Addition: 150.0\n",
      "Subtraction: 50.0\n",
      "Multiplication: 5000.0\n",
      "Division: 2.0\n"
     ]
    }
   ],
   "source": [
    "# 7. Write a program that performs basic arithmetic operations on two user-input numbers.\n",
    "# 7. \n",
    "num1 = float(input(\"Enter first number: \"))\n",
    "num2 = float(input(\"Enter second number: \"))\n",
    "print(\"Addition:\", num1 + num2)\n",
    "print(\"Subtraction:\", num1 - num2)\n",
    "print(\"Multiplication:\", num1 * num2)\n",
    "if num2 != 0:\n",
    "    print(\"Division:\", num1 / num2)\n",
    "else:\n",
    "    print(\"Division: Cannot divide by zero.\")"
   ]
  },
  {
   "cell_type": "code",
   "execution_count": 54,
   "id": "09021b2c-e2c6-4575-8df6-a71ce71f7448",
   "metadata": {},
   "outputs": [
    {
     "name": "stdin",
     "output_type": "stream",
     "text": [
      "Enter your age:  27\n",
      "Are you a student (yes/no):  yes\n"
     ]
    },
    {
     "name": "stdout",
     "output_type": "stream",
     "text": [
      "You are eligible for a student discount.\n",
      "You are an adult.\n"
     ]
    }
   ],
   "source": [
    "# 8. Write a program to demonstrate the use of logical operators.\n",
    "# 8. \n",
    "age = int(input(\"Enter your age: \"))\n",
    "is_student = input(\"Are you a student (yes/no): \").lower()\n",
    "if age > 18 and is_student == \"yes\":\n",
    "    print(\"You are eligible for a student discount.\")\n",
    "elif age > 18 or is_student == \"yes\":\n",
    "    print(\"You might be eligible for a discount.\")\n",
    "else:\n",
    "    print(\"You are not eligible for a discount.\")\n",
    "if not age < 18:\n",
    "    print(\"You are an adult.\")\n",
    "else:\n",
    "    print(\"You are a minor.\")"
   ]
  },
  {
   "cell_type": "code",
   "execution_count": 40,
   "id": "8ee0ebdb-6afc-400b-9319-7cff1f50f571",
   "metadata": {},
   "outputs": [
    {
     "name": "stdin",
     "output_type": "stream",
     "text": [
      "Enter a value:  12\n"
     ]
    },
    {
     "name": "stdout",
     "output_type": "stream",
     "text": [
      "Integer: 12\n",
      "Float: 12.0\n",
      "Boolean: True\n"
     ]
    }
   ],
   "source": [
    "# 9. Write a Python program to convert user input from string to integer, float, and boolean types.\n",
    "# 9.\n",
    "# Get user input as a string\n",
    "user_input = input(\"Enter a value: \")\n",
    "try:\n",
    "    int_value = int(user_input)\n",
    "    print(\"Integer:\", int_value)\n",
    "except ValueError:\n",
    "    print(\"Cannot convert to integer.\")\n",
    "try:\n",
    "    float_value = float(user_input)\n",
    "    print(\"Float:\", float_value)\n",
    "except ValueError:\n",
    "    print(\"Cannot convert to float.\")\n",
    "if user_input.lower() in ['true', '1']:\n",
    "    bool_value = True\n",
    "elif user_input.lower() in ['false', '0']:\n",
    "    bool_value = False\n",
    "else:\n",
    "    bool_value = bool(user_input)\n",
    "print(\"Boolean:\", bool_value)"
   ]
  },
  {
   "cell_type": "code",
   "execution_count": 41,
   "id": "054ac125-aff1-4760-b12d-865d66a9dcb9",
   "metadata": {},
   "outputs": [
    {
     "name": "stdout",
     "output_type": "stream",
     "text": [
      "Original List: ['1', '2', '3.5', '4.0', 'True']\n",
      "Converted to Integer List: [1, 2, 0, 0, 0]\n",
      "Converted to Float List: [1.0, 2.0, 3.5, 4.0, 0.0]\n",
      "Converted to Boolean List: [False, False, False, False, True]\n"
     ]
    }
   ],
   "source": [
    "# 10. Write code to demonstrate type casting with list elements.\n",
    "# 10.\n",
    "str_list = [\"1\", \"2\", \"3.5\", \"4.0\", \"True\"]\n",
    "int_list = [int(x) if x.isdigit() else 0 for x in str_list]\n",
    "float_list = [float(x) if x.replace('.', '', 1).isdigit() else 0.0 for x in str_list]\n",
    "bool_list = [True if x.lower() == \"true\" else False for x in str_list]\n",
    "print(\"Original List:\", str_list)\n",
    "print(\"Converted to Integer List:\", int_list)\n",
    "print(\"Converted to Float List:\", float_list)\n",
    "print(\"Converted to Boolean List:\", bool_list)"
   ]
  },
  {
   "cell_type": "code",
   "execution_count": 45,
   "id": "b97386c5-6506-456b-94a2-61364a46b990",
   "metadata": {},
   "outputs": [
    {
     "name": "stdin",
     "output_type": "stream",
     "text": [
      "Enter a number:  5\n"
     ]
    },
    {
     "name": "stdout",
     "output_type": "stream",
     "text": [
      "The number is positive.\n"
     ]
    }
   ],
   "source": [
    "# 11. Write a program that checks if a number is positive, negative, or zero.\n",
    "# 11. \n",
    "num = float(input(\"Enter a number: \"))\n",
    "if num > 0:\n",
    "    print(\"The number is positive.\")\n",
    "elif num < 0:\n",
    "    print(\"The number is negative.\")\n",
    "else:\n",
    "    print(\"The number is zero.\")"
   ]
  },
  {
   "cell_type": "code",
   "execution_count": 46,
   "id": "5559ac4a-cbd3-4caf-bc6e-9057813f27ea",
   "metadata": {},
   "outputs": [
    {
     "name": "stdout",
     "output_type": "stream",
     "text": [
      "1\n",
      "2\n",
      "3\n",
      "4\n",
      "5\n",
      "6\n",
      "7\n",
      "8\n",
      "9\n",
      "10\n"
     ]
    }
   ],
   "source": [
    "# 12. Write a for loop to print numbers from 1 to 10.\n",
    "# 12.\n",
    "for i in range(1, 11):\n",
    "    print(i)"
   ]
  },
  {
   "cell_type": "code",
   "execution_count": 53,
   "id": "a084f951-6c99-452f-a076-f2b377d64067",
   "metadata": {},
   "outputs": [
    {
     "name": "stdout",
     "output_type": "stream",
     "text": [
      "Sum of all even numbers between 1 and 50 is: 650\n"
     ]
    }
   ],
   "source": [
    "# 13. Write a Python program to find the sum of all even numbers between 1 and 50.\n",
    "# 13.\n",
    "sum_even = 0\n",
    "for num in range(1, 51):\n",
    "    if num % 2 == 0:\n",
    "        sum_even += num\n",
    "print(\"Sum of all even numbers between 1 and 50 is:\", sum_even)"
   ]
  },
  {
   "cell_type": "code",
   "execution_count": 61,
   "id": "2b293b15-5e21-4dcf-a225-6d0f2e0a3986",
   "metadata": {},
   "outputs": [
    {
     "name": "stdin",
     "output_type": "stream",
     "text": [
      "Enter a string:  Jawan Singh\n"
     ]
    },
    {
     "name": "stdout",
     "output_type": "stream",
     "text": [
      "Reversed string: hgniS nawaJ\n"
     ]
    }
   ],
   "source": [
    "# 14. Write a program to reverse a string using a while loop.\n",
    "# 14.\n",
    "string = input(\"Enter a string: \")\n",
    "reversed_string = \"\"\n",
    "index = len(string) - 1\n",
    "while index >= 0:\n",
    "    reversed_string += string[index]\n",
    "    index -= 1\n",
    "print(\"Reversed string:\", reversed_string)"
   ]
  },
  {
   "cell_type": "code",
   "execution_count": 67,
   "id": "9120c0b7-ba9e-4796-826c-dc7035fca5ea",
   "metadata": {},
   "outputs": [
    {
     "name": "stdin",
     "output_type": "stream",
     "text": [
      "Enter a number:  4\n"
     ]
    },
    {
     "name": "stdout",
     "output_type": "stream",
     "text": [
      "Factorial: 24\n"
     ]
    }
   ],
   "source": [
    "# 15. Write a Python program to calculate the factorial of a number provided by the user using a while loop.\n",
    "# 15.\n",
    "num = int(input(\"Enter a number: \"))\n",
    "factorial = 1\n",
    "if num < 0:\n",
    "    print(\"Factorial does not exist for negative numbers.\")\n",
    "else:\n",
    "    while num > 1:\n",
    "        factorial *= num\n",
    "        num -= 1\n",
    "    print(\"Factorial:\", factorial)"
   ]
  }
 ],
 "metadata": {
  "kernelspec": {
   "display_name": "Python 3 (ipykernel)",
   "language": "python",
   "name": "python3"
  },
  "language_info": {
   "codemirror_mode": {
    "name": "ipython",
    "version": 3
   },
   "file_extension": ".py",
   "mimetype": "text/x-python",
   "name": "python",
   "nbconvert_exporter": "python",
   "pygments_lexer": "ipython3",
   "version": "3.13.2"
  }
 },
 "nbformat": 4,
 "nbformat_minor": 5
}
